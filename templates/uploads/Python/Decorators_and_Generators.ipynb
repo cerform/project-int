{
  "cells": [
    {
      "cell_type": "markdown",
      "metadata": {
        "id": "IUrwv3j-06FM"
      },
      "source": [
        "# Decorators\n",
        "\n",
        "\n",
        "Decorators can be thought of as functions which modify the *functionality* of another function. They help to make your code shorter and more \"Pythonic\".\n",
        "\n",
        "To properly explain decorators we will slowly build up from functions. Make sure to run every cell in this Notebook for this lecture to look the same on your own computer.<br><br>So let's break down the steps:\n",
        "\n",
        "## Functions Review"
      ]
    },
    {
      "cell_type": "code",
      "execution_count": null,
      "metadata": {
        "collapsed": true,
        "id": "o-exzhzI06FO"
      },
      "outputs": [],
      "source": [
        "def wirte_to_db():\n",
        "    return 1"
      ]
    },
    {
      "cell_type": "code",
      "execution_count": null,
      "metadata": {
        "id": "nDQ9F3w606FQ"
      },
      "outputs": [],
      "source": [
        "func()"
      ]
    },
    {
      "cell_type": "markdown",
      "metadata": {
        "id": "hPQy0ooY06FS"
      },
      "source": [
        "## Scope Review\n",
        "Remember from the nested statements lecture that Python uses Scope to know what a label is referring to. For example:"
      ]
    },
    {
      "cell_type": "code",
      "execution_count": null,
      "metadata": {
        "collapsed": true,
        "id": "h1dASd5X06FT"
      },
      "outputs": [],
      "source": [
        "s = 'Global Variable'\n",
        "var = 10\n",
        "def check_for_locals():\n",
        "    print(globals())\n",
        "    print(locals())\n",
        "    var=0\n",
        "    print(locals())"
      ]
    },
    {
      "cell_type": "code",
      "execution_count": null,
      "metadata": {
        "id": "6EXGeyb7FhAb"
      },
      "outputs": [],
      "source": [
        "check_for_locals()"
      ]
    },
    {
      "cell_type": "markdown",
      "metadata": {
        "id": "vuIOp6VY06FU"
      },
      "source": [
        "Remember that Python functions create a new scope, meaning the function has its own namespace to find variable names when they are mentioned within the function. We can check for local variables and global variables with the <code>locals()</code> and <code>globals()</code> functions. For example:"
      ]
    },
    {
      "cell_type": "code",
      "execution_count": null,
      "metadata": {
        "colab": {
          "base_uri": "https://localhost:8080/"
        },
        "collapsed": true,
        "id": "E0q32YMr06FU",
        "outputId": "8c7fe3c8-e3e9-46bd-e4d8-3ae171692516"
      },
      "outputs": [
        {
          "name": "stdout",
          "output_type": "stream",
          "text": [
            "{'__name__': '__main__', '__doc__': 'Automatically created module for IPython interactive environment', '__package__': None, '__loader__': None, '__spec__': None, '__builtin__': <module 'builtins' (built-in)>, '__builtins__': <module 'builtins' (built-in)>, '_ih': ['', \"s = 'Global Variable'\\nvar = 10\\ndef check_for_locals():\\n    print(globals())\\n    print(locals())\\n    var=0\\n    print(locals())\", 'print(globals())'], '_oh': {}, '_dh': ['/content'], 'In': ['', \"s = 'Global Variable'\\nvar = 10\\ndef check_for_locals():\\n    print(globals())\\n    print(locals())\\n    var=0\\n    print(locals())\", 'print(globals())'], 'Out': {}, 'get_ipython': <bound method InteractiveShell.get_ipython of <google.colab._shell.Shell object at 0x7fbda18dec70>>, 'exit': <IPython.core.autocall.ZMQExitAutocall object at 0x7fbd9e88f760>, 'quit': <IPython.core.autocall.ZMQExitAutocall object at 0x7fbd9e88f760>, '_': '', '__': '', '___': '', '_i': \"s = 'Global Variable'\\nvar = 10\\ndef check_for_locals():\\n    print(globals())\\n    print(locals())\\n    var=0\\n    print(locals())\", '_ii': '', '_iii': '', '_i1': \"s = 'Global Variable'\\nvar = 10\\ndef check_for_locals():\\n    print(globals())\\n    print(locals())\\n    var=0\\n    print(locals())\", 's': 'Global Variable', 'var': 10, 'check_for_locals': <function check_for_locals at 0x7fbd914b51f0>, '_i2': 'print(globals())'}\n"
          ]
        }
      ],
      "source": [
        "print(globals())"
      ]
    },
    {
      "cell_type": "markdown",
      "metadata": {
        "collapsed": true,
        "id": "TRyXeDrk06FV"
      },
      "source": [
        "Here we get back a dictionary of all the global variables, many of them are predefined in Python. So let's go ahead and look at the keys:"
      ]
    },
    {
      "cell_type": "code",
      "execution_count": null,
      "metadata": {
        "collapsed": true,
        "id": "JBtM7kKt06FW"
      },
      "outputs": [],
      "source": [
        "print(globals().keys())"
      ]
    },
    {
      "cell_type": "markdown",
      "metadata": {
        "id": "nmRTExpi06FX"
      },
      "source": [
        "Note how **s** is there, the Global Variable we defined as a string:"
      ]
    },
    {
      "cell_type": "code",
      "execution_count": null,
      "metadata": {
        "collapsed": true,
        "id": "EN6Fptnd06FY"
      },
      "outputs": [],
      "source": [
        "globals()['__name__']"
      ]
    },
    {
      "cell_type": "markdown",
      "metadata": {
        "id": "e4NSN6et06FZ"
      },
      "source": [
        "Now let's run our function to check for local variables that might exist inside our function (there shouldn't be any)"
      ]
    },
    {
      "cell_type": "code",
      "execution_count": null,
      "metadata": {
        "colab": {
          "base_uri": "https://localhost:8080/"
        },
        "collapsed": true,
        "id": "SR9skxr706FZ",
        "outputId": "80e9e2f7-b86e-496a-f460-61eb94bbc354"
      },
      "outputs": [
        {
          "name": "stdout",
          "output_type": "stream",
          "text": [
            "{'__name__': '__main__', '__doc__': 'Automatically created module for IPython interactive environment', '__package__': None, '__loader__': None, '__spec__': None, '__builtin__': <module 'builtins' (built-in)>, '__builtins__': <module 'builtins' (built-in)>, '_ih': ['', \"s = 'Global Variable'\\nvar = 10\\ndef check_for_locals():\\n    print(globals())\\n    print(locals())\\n    var=0\\n    print(locals())\", 'print(globals())', \"s = 'Global Variable'\\nvar = 10\\ndef check_for_locals():\\n    print(globals())\\n    print(locals())\\n    var=0\\n    print(locals())\", 'check_for_locals()'], '_oh': {}, '_dh': ['/content'], 'In': ['', \"s = 'Global Variable'\\nvar = 10\\ndef check_for_locals():\\n    print(globals())\\n    print(locals())\\n    var=0\\n    print(locals())\", 'print(globals())', \"s = 'Global Variable'\\nvar = 10\\ndef check_for_locals():\\n    print(globals())\\n    print(locals())\\n    var=0\\n    print(locals())\", 'check_for_locals()'], 'Out': {}, 'get_ipython': <bound method InteractiveShell.get_ipython of <google.colab._shell.Shell object at 0x7fbda18dec70>>, 'exit': <IPython.core.autocall.ZMQExitAutocall object at 0x7fbd9e88f760>, 'quit': <IPython.core.autocall.ZMQExitAutocall object at 0x7fbd9e88f760>, '_': '', '__': '', '___': '', '_i': \"s = 'Global Variable'\\nvar = 10\\ndef check_for_locals():\\n    print(globals())\\n    print(locals())\\n    var=0\\n    print(locals())\", '_ii': 'print(globals())', '_iii': \"s = 'Global Variable'\\nvar = 10\\ndef check_for_locals():\\n    print(globals())\\n    print(locals())\\n    var=0\\n    print(locals())\", '_i1': \"s = 'Global Variable'\\nvar = 10\\ndef check_for_locals():\\n    print(globals())\\n    print(locals())\\n    var=0\\n    print(locals())\", 's': 'Global Variable', 'var': 10, 'check_for_locals': <function check_for_locals at 0x7fbd914b5280>, '_i2': 'print(globals())', '_i3': \"s = 'Global Variable'\\nvar = 10\\ndef check_for_locals():\\n    print(globals())\\n    print(locals())\\n    var=0\\n    print(locals())\", '_i4': 'check_for_locals()'}\n",
            "{}\n",
            "{'var': 0}\n"
          ]
        }
      ],
      "source": [
        "check_for_locals()"
      ]
    },
    {
      "cell_type": "markdown",
      "metadata": {
        "id": "g8jGnZER06Fa"
      },
      "source": [
        "Great! Now lets continue with building out the logic of what a decorator is. Remember that in Python **everything is an object**. That means functions are objects which can be assigned labels and passed into other functions. Lets start with some simple examples:"
      ]
    },
    {
      "cell_type": "code",
      "execution_count": null,
      "metadata": {
        "collapsed": true,
        "id": "7IZM8dUa06Fb"
      },
      "outputs": [],
      "source": [
        "def hello(name='Jose'):\n",
        "    return 'Hello '+name"
      ]
    },
    {
      "cell_type": "code",
      "execution_count": null,
      "metadata": {
        "colab": {
          "base_uri": "https://localhost:8080/",
          "height": 35
        },
        "id": "WoGkfKT-06Fc",
        "outputId": "ac9dfbd5-12f0-499b-cc6d-15d55de001c1"
      },
      "outputs": [
        {
          "data": {
            "application/vnd.google.colaboratory.intrinsic+json": {
              "type": "string"
            },
            "text/plain": [
              "'Hello Jose'"
            ]
          },
          "execution_count": 7,
          "metadata": {},
          "output_type": "execute_result"
        }
      ],
      "source": [
        "hello()"
      ]
    },
    {
      "cell_type": "markdown",
      "metadata": {
        "id": "uBc2yZB-06Fd"
      },
      "source": [
        "Assign another label to the function. Note that we are not using parentheses here because we are not calling the function **hello**, instead we are just passing a function object to the **greet** variable."
      ]
    },
    {
      "cell_type": "code",
      "execution_count": null,
      "metadata": {
        "collapsed": true,
        "id": "fMkSWWu206Fd"
      },
      "outputs": [],
      "source": [
        "greet = hello"
      ]
    },
    {
      "cell_type": "code",
      "execution_count": null,
      "metadata": {
        "colab": {
          "base_uri": "https://localhost:8080/"
        },
        "id": "SkvC78Bk06Fe",
        "outputId": "944356ae-7784-4b69-b303-f826cf2b6224"
      },
      "outputs": [
        {
          "data": {
            "text/plain": [
              "<function __main__.hello(name='Jose')>"
            ]
          },
          "execution_count": 9,
          "metadata": {},
          "output_type": "execute_result"
        }
      ],
      "source": [
        "greet"
      ]
    },
    {
      "cell_type": "code",
      "execution_count": null,
      "metadata": {
        "colab": {
          "base_uri": "https://localhost:8080/",
          "height": 35
        },
        "id": "Y63Ob49r06Fe",
        "outputId": "e27f24ab-072f-4654-b9f7-bd6e6af08aac"
      },
      "outputs": [
        {
          "data": {
            "application/vnd.google.colaboratory.intrinsic+json": {
              "type": "string"
            },
            "text/plain": [
              "'Hello Jose'"
            ]
          },
          "execution_count": 5,
          "metadata": {},
          "output_type": "execute_result"
        }
      ],
      "source": [
        "greet()"
      ]
    },
    {
      "cell_type": "markdown",
      "metadata": {
        "id": "-5m6eP9M06Ff"
      },
      "source": [
        "So what happens when we delete the name **hello**?"
      ]
    },
    {
      "cell_type": "code",
      "execution_count": null,
      "metadata": {
        "collapsed": true,
        "id": "aq3AAlAJ06Ff"
      },
      "outputs": [],
      "source": [
        "del hello"
      ]
    },
    {
      "cell_type": "code",
      "execution_count": null,
      "metadata": {
        "colab": {
          "base_uri": "https://localhost:8080/",
          "height": 169
        },
        "id": "a-giGN3-06Fg",
        "outputId": "ed10e918-21c5-4f46-ad57-3fe1e3c07fa9"
      },
      "outputs": [
        {
          "ename": "NameError",
          "evalue": "ignored",
          "output_type": "error",
          "traceback": [
            "\u001b[0;31m---------------------------------------------------------------------------\u001b[0m",
            "\u001b[0;31mNameError\u001b[0m                                 Traceback (most recent call last)",
            "\u001b[0;32m<ipython-input-11-a75d7781aaeb>\u001b[0m in \u001b[0;36m<module>\u001b[0;34m\u001b[0m\n\u001b[0;32m----> 1\u001b[0;31m \u001b[0mhello\u001b[0m\u001b[0;34m(\u001b[0m\u001b[0;34m)\u001b[0m\u001b[0;34m\u001b[0m\u001b[0;34m\u001b[0m\u001b[0m\n\u001b[0m",
            "\u001b[0;31mNameError\u001b[0m: name 'hello' is not defined"
          ]
        }
      ],
      "source": [
        "hello()"
      ]
    },
    {
      "cell_type": "code",
      "execution_count": null,
      "metadata": {
        "colab": {
          "base_uri": "https://localhost:8080/",
          "height": 35
        },
        "id": "1TGqIATh06Fh",
        "outputId": "21da306e-e163-4cc2-bf59-b714935d4d54"
      },
      "outputs": [
        {
          "data": {
            "application/vnd.google.colaboratory.intrinsic+json": {
              "type": "string"
            },
            "text/plain": [
              "'Hello Jose'"
            ]
          },
          "execution_count": 12,
          "metadata": {},
          "output_type": "execute_result"
        }
      ],
      "source": [
        "greet()"
      ]
    },
    {
      "cell_type": "markdown",
      "metadata": {
        "id": "Lxfn4xhE06Fi"
      },
      "source": [
        "Even though we deleted the name **hello**, the name **greet** *still points to* our original function object. It is important to know that functions are objects that can be passed to other objects!"
      ]
    },
    {
      "cell_type": "markdown",
      "metadata": {
        "id": "g_zxc8Fh06Fi"
      },
      "source": [
        "## Functions within functions\n",
        "Great! So we've seen how we can treat functions as objects, now let's see how we can define functions inside of other functions:"
      ]
    },
    {
      "cell_type": "code",
      "execution_count": null,
      "metadata": {
        "collapsed": true,
        "id": "ILyiiKYR06Fj"
      },
      "outputs": [],
      "source": [
        "def hello(name='Jose'):\n",
        "    print('The hello() function has been executed')\n",
        "\n",
        "    def greet():\n",
        "        return '\\t This is inside the greet() function'\n",
        "\n",
        "    def welcome():\n",
        "        return \"\\t This is inside the welcome() function\"\n",
        "\n",
        "    print(greet())\n",
        "    print(welcome())\n",
        "    print(\"Now we are back inside the hello() function\")"
      ]
    },
    {
      "cell_type": "code",
      "execution_count": null,
      "metadata": {
        "id": "SC-jTRtm06Fj"
      },
      "outputs": [],
      "source": [
        "hello('moshe')"
      ]
    },
    {
      "cell_type": "code",
      "execution_count": null,
      "metadata": {
        "id": "Od0HTIv006Fj"
      },
      "outputs": [],
      "source": [
        "welcome()"
      ]
    },
    {
      "cell_type": "markdown",
      "metadata": {
        "id": "Gld_r_QG06Fk"
      },
      "source": [
        "Note how due to scope, the welcome() function is not defined outside of the hello() function. Now lets learn about returning functions from within functions:\n",
        "## Returning Functions"
      ]
    },
    {
      "cell_type": "code",
      "execution_count": null,
      "metadata": {
        "collapsed": true,
        "id": "KkxaB8e-06Fk"
      },
      "outputs": [],
      "source": [
        "def hello(name='Jose'):\n",
        "\n",
        "    def greet():\n",
        "        return '\\t This is inside the greet() function'\n",
        "\n",
        "    def welcome():\n",
        "        return \"\\t This is inside the welcome() function\"\n",
        "\n",
        "    if name == 'Jose':\n",
        "        return greet\n",
        "    else:\n",
        "        return welcome"
      ]
    },
    {
      "cell_type": "markdown",
      "metadata": {
        "id": "0FEJjPNl06Fl"
      },
      "source": [
        "Now let's see what function is returned if we set x = hello(), note how the empty parentheses means that name has been defined as Jose."
      ]
    },
    {
      "cell_type": "code",
      "execution_count": null,
      "metadata": {
        "collapsed": true,
        "id": "P1w2gYFI06Fl"
      },
      "outputs": [],
      "source": [
        "x = hello()"
      ]
    },
    {
      "cell_type": "code",
      "execution_count": null,
      "metadata": {
        "colab": {
          "base_uri": "https://localhost:8080/"
        },
        "id": "ucL_fqVU06Fm",
        "outputId": "6ef507e1-32b1-4319-cc2c-9da67b4319a6"
      },
      "outputs": [
        {
          "data": {
            "text/plain": [
              "<function __main__.hello.<locals>.greet()>"
            ]
          },
          "execution_count": 58,
          "metadata": {},
          "output_type": "execute_result"
        }
      ],
      "source": [
        "x"
      ]
    },
    {
      "cell_type": "markdown",
      "metadata": {
        "id": "YtpnrPX-06Fm"
      },
      "source": [
        "Great! Now we can see how x is pointing to the greet function inside of the hello function."
      ]
    },
    {
      "cell_type": "code",
      "execution_count": null,
      "metadata": {
        "colab": {
          "base_uri": "https://localhost:8080/"
        },
        "id": "Yk82lEyq06Fn",
        "outputId": "63cacf27-a039-426a-ae7e-30324b4ef10e"
      },
      "outputs": [
        {
          "name": "stdout",
          "output_type": "stream",
          "text": [
            "\t This is inside the greet() function\n"
          ]
        }
      ],
      "source": [
        "print(x())"
      ]
    },
    {
      "cell_type": "markdown",
      "metadata": {
        "id": "L_FaH9-J06Fn"
      },
      "source": [
        "Let's take a quick look at the code again.\n",
        "\n",
        "In the <code>if</code>/<code>else</code> clause we are returning <code>greet</code> and <code>welcome</code>, not <code>greet()</code> and <code>welcome()</code>.\n",
        "\n",
        "This is because when you put a pair of parentheses after it, the function gets executed; whereas if you don’t put parentheses after it, then it can be passed around and can be assigned to other variables without executing it.\n",
        "\n",
        "When we write <code>x = hello()</code>, hello() gets executed and because the name is Jose by default, the function <code>greet</code> is returned. If we change the statement to <code>x = hello(name = \"Sam\")</code> then the <code>welcome</code> function will be returned. We can also do <code>print(hello()())</code> which outputs *This is inside the greet() function*."
      ]
    },
    {
      "cell_type": "markdown",
      "metadata": {
        "id": "YphzcBQy06Fo"
      },
      "source": [
        "## Functions as Arguments\n",
        "Now let's see how we can pass functions as arguments into other functions:"
      ]
    },
    {
      "cell_type": "code",
      "execution_count": null,
      "metadata": {
        "collapsed": true,
        "id": "lCl-FeCf06Fo"
      },
      "outputs": [],
      "source": [
        "def hello():\n",
        "    return 'Hi Jose!'\n",
        "\n",
        "def hello2(var):\n",
        "    var = 'value'\n",
        "    return var\n",
        "def other(func):\n",
        "    print('Other code would go here')\n",
        "    print(func(\"value\"))"
      ]
    },
    {
      "cell_type": "code",
      "execution_count": null,
      "metadata": {
        "colab": {
          "base_uri": "https://localhost:8080/"
        },
        "id": "UvWGU0Dl06Fo",
        "outputId": "f2153ba6-e7e9-4fa8-f30d-7e7891cf632d"
      },
      "outputs": [
        {
          "name": "stdout",
          "output_type": "stream",
          "text": [
            "Other code would go here\n",
            "value\n"
          ]
        }
      ],
      "source": [
        "other(hello2)"
      ]
    },
    {
      "cell_type": "markdown",
      "metadata": {
        "id": "tKJl_aqH06Fp"
      },
      "source": [
        "Great! Note how we can pass the functions as objects and then use them within other functions. Now we can get started with writing our first decorator:"
      ]
    },
    {
      "cell_type": "markdown",
      "metadata": {
        "id": "E_8Ogv5y06Fp"
      },
      "source": [
        "## Creating a Decorator\n",
        "In the previous example we actually manually created a Decorator. Here we will modify it to make its use case clear:"
      ]
    },
    {
      "cell_type": "code",
      "execution_count": null,
      "metadata": {
        "id": "ynWUMQ1FRoob"
      },
      "outputs": [],
      "source": [
        "def do_twice(func):\n",
        "\n",
        "    def wrap_func():\n",
        "        print(\"Code would be here, before executing the func\")\n",
        "\n",
        "        func()\n",
        "        func()\n",
        "\n",
        "        print(\"Code here will execute after the func()\")\n",
        "\n",
        "    return wrap_func\n",
        "\n",
        "@do_twice\n",
        "def write_to_db():\n",
        "  print(\"this function is in need of a Decorator\")"
      ]
    },
    {
      "cell_type": "code",
      "execution_count": null,
      "metadata": {
        "colab": {
          "base_uri": "https://localhost:8080/"
        },
        "id": "vb-yhPFdSMMF",
        "outputId": "68e5dff0-f2e0-4893-d6f2-2569b45e36c1"
      },
      "outputs": [
        {
          "name": "stdout",
          "output_type": "stream",
          "text": [
            "Code would be here, before executing the func\n",
            "this function is in need of a Decorator\n",
            "this function is in need of a Decorator\n",
            "Code here will execute after the func()\n"
          ]
        }
      ],
      "source": [
        "write_to_db()"
      ]
    },
    {
      "cell_type": "code",
      "execution_count": null,
      "metadata": {
        "id": "PhSpFW2eSHOI"
      },
      "outputs": [],
      "source": [
        "write_to_db_decorated = do_twice(write_to_db)"
      ]
    },
    {
      "cell_type": "code",
      "execution_count": null,
      "metadata": {
        "colab": {
          "base_uri": "https://localhost:8080/"
        },
        "id": "sQnKavO5SsGN",
        "outputId": "97858749-501e-4f82-8f4f-485ed5d3e5b8"
      },
      "outputs": [
        {
          "name": "stdout",
          "output_type": "stream",
          "text": [
            "Code would be here, before executing the func\n",
            "this function is in need of a Decorator\n",
            "this function is in need of a Decorator\n",
            "Code here will execute after the func()\n"
          ]
        }
      ],
      "source": [
        "write_to_db_decorated()"
      ]
    },
    {
      "cell_type": "markdown",
      "metadata": {
        "id": "kTXyQoZgSAEd"
      },
      "source": [
        "\n",
        "\n",
        "\n",
        "\n",
        "\n",
        "\n",
        "\n",
        "\n",
        "\n",
        "d\n",
        "\n",
        "\n",
        "\n"
      ]
    },
    {
      "cell_type": "code",
      "execution_count": null,
      "metadata": {
        "collapsed": true,
        "id": "m-_hhnea06Fq"
      },
      "outputs": [],
      "source": [
        "def do_twice(func):\n",
        "\n",
        "    def wrap_func():\n",
        "        print(\"Code would be here, before executing the func\")\n",
        "\n",
        "        func('don')\n",
        "        func('michal')\n",
        "        func('david')\n",
        "\n",
        "        print(\"Code here will execute after the func()\")\n",
        "\n",
        "    return wrap_func\n",
        "\n",
        "\n",
        "@do_twice\n",
        "def happy_new_year(name):\n",
        "    print(f\"happy new year to: {name}\")\n",
        "\n",
        "\n",
        "@do_twice\n",
        "def happy_passover(name):\n",
        "    print(f\"happy passover: {name}\")\n",
        "\n"
      ]
    },
    {
      "cell_type": "code",
      "execution_count": null,
      "metadata": {
        "colab": {
          "base_uri": "https://localhost:8080/"
        },
        "id": "Ifs3G544KLAR",
        "outputId": "95866700-dd22-4f47-b2ae-aff34b9cff50"
      },
      "outputs": [
        {
          "name": "stdout",
          "output_type": "stream",
          "text": [
            "Code would be here, before executing the func\n",
            "happy new year to: don\n",
            "happy new year to: michal\n",
            "happy new year to: david\n",
            "Code here will execute after the func()\n",
            "Code would be here, before executing the func\n",
            "happy passover: don\n",
            "happy passover: michal\n",
            "happy passover: david\n",
            "Code here will execute after the func()\n"
          ]
        }
      ],
      "source": [
        "happy_new_year()\n",
        "happy_passover()"
      ]
    },
    {
      "cell_type": "code",
      "execution_count": null,
      "metadata": {
        "colab": {
          "base_uri": "https://localhost:8080/"
        },
        "id": "NqyhxOLrTY6E",
        "outputId": "78c953e5-0d4b-4d69-92f2-fee4f019e019"
      },
      "outputs": [
        {
          "name": "stdout",
          "output_type": "stream",
          "text": [
            "Code would be here, before executing the func\n",
            "happy new year to: hanna\n",
            "happy new year to: sigalit\n",
            "Code here will execute after the func()\n"
          ]
        }
      ],
      "source": [
        "happy_new_year()\n"
      ]
    },
    {
      "cell_type": "code",
      "execution_count": null,
      "metadata": {
        "id": "R9FEXeX906Fq"
      },
      "outputs": [],
      "source": [
        "wirte_to_db()"
      ]
    },
    {
      "cell_type": "code",
      "execution_count": null,
      "metadata": {
        "collapsed": true,
        "id": "fnboe-qw06Fr"
      },
      "outputs": [],
      "source": [
        "# Reassign func_needs_decorator\n",
        "wirte_to_db_decorated = do_twice(wirte_to_db)"
      ]
    },
    {
      "cell_type": "code",
      "execution_count": null,
      "metadata": {
        "id": "xuk-pPwiJ_il"
      },
      "outputs": [],
      "source": []
    },
    {
      "cell_type": "code",
      "execution_count": null,
      "metadata": {
        "id": "uLskMM4J06Fr"
      },
      "outputs": [],
      "source": [
        "func_needs_decorator()"
      ]
    },
    {
      "cell_type": "markdown",
      "metadata": {
        "id": "KXw_zkEn06Fr"
      },
      "source": [
        "So what just happened here? A decorator simply wrapped the function and modified its behavior. Now let's understand how we can rewrite this code using the @ symbol, which is what Python uses for Decorators:"
      ]
    },
    {
      "cell_type": "code",
      "execution_count": null,
      "metadata": {
        "collapsed": true,
        "id": "KBhuhQ_C06Fs"
      },
      "outputs": [],
      "source": [
        "@new_decorator\n",
        "def func_needs_decorator():\n",
        "    print(\"This function is in need of a Decorator\")"
      ]
    },
    {
      "cell_type": "code",
      "execution_count": null,
      "metadata": {
        "id": "nqil6lFa06Fs"
      },
      "outputs": [],
      "source": [
        "func_needs_decorator()"
      ]
    },
    {
      "cell_type": "markdown",
      "metadata": {
        "id": "W9wMtHFE06Ft"
      },
      "source": [
        "**Great! You've now built a Decorator manually and then saw how we can use\n",
        "\n",
        "1.   List item\n",
        "2.   List item\n",
        "\n",
        "the @ symbol in Python to automate this and clean our code. You'll run into Decorators a lot if you begin using Python for Web Development, such as Flask or Django!**"
      ]
    },
    {
      "cell_type": "markdown",
      "metadata": {
        "id": "bwBInLRU1zE4"
      },
      "source": [
        "# Iterators and Generators"
      ]
    },
    {
      "cell_type": "markdown",
      "metadata": {
        "id": "OxURWD2A1zE5"
      },
      "source": [
        "In this section of the course we will be learning the difference between iteration and generation in Python and how to construct our own Generators with the *yield* statement. Generators allow us to generate as we go along, instead of holding everything in memory.\n",
        "\n",
        "We've touched on this topic in the past when discussing certain built-in Python functions like **range()**, **map()** and **filter()**.\n",
        "\n",
        "Let's explore a little deeper. We've learned how to create functions with <code>def</code> and the <code>return</code> statement. Generator functions allow us to write a function that can send back a value and then later resume to pick up where it left off. This type of function is a generator in Python, allowing us to generate a sequence of values over time. The main difference in syntax will be the use of a <code>yield</code> statement.\n",
        "\n",
        "In most aspects, a generator function will appear very similar to a normal function. The main difference is when a generator function is compiled they become an object that supports an iteration protocol. That means when they are called in your code they don't actually return a value and then exit. Instead, generator functions will automatically suspend and resume their execution and state around the last point of value generation. The main advantage here is that instead of having to compute an entire series of values up front, the generator computes one value and then suspends its activity awaiting the next instruction. This feature is known as *state suspension*.\n",
        "\n",
        "\n",
        "￼￼To start getting a better understanding of generators, let's go ahead and see how we can create some."
      ]
    },
    {
      "cell_type": "code",
      "execution_count": null,
      "metadata": {
        "collapsed": true,
        "id": "1MneDmy01zE9"
      },
      "outputs": [],
      "source": [
        "# Generator function for the cube of numbers (power of 3)\n",
        "def gencubes(n):\n",
        "    # print(f'im in gencubes and value is {n}')\n",
        "    yield n**3"
      ]
    },
    {
      "cell_type": "code",
      "execution_count": null,
      "metadata": {
        "colab": {
          "base_uri": "https://localhost:8080/"
        },
        "id": "42IdXS-I1zE-",
        "outputId": "4fd0ded5-88c8-4d40-89aa-7f10f6b0d97f"
      },
      "outputs": [
        {
          "name": "stdout",
          "output_type": "stream",
          "text": [
            "1000\n"
          ]
        }
      ],
      "source": [
        "for x in gencubes(10):\n",
        "    print(x)"
      ]
    },
    {
      "cell_type": "code",
      "execution_count": null,
      "metadata": {
        "colab": {
          "base_uri": "https://localhost:8080/"
        },
        "id": "Y7_LvbIPZUZd",
        "outputId": "5ae7f837-f4b4-4899-fed0-fcaa5740e48d"
      },
      "outputs": [
        {
          "data": {
            "text/plain": [
              "<generator object gencubes at 0x7fe80a31a340>"
            ]
          },
          "execution_count": 7,
          "metadata": {},
          "output_type": "execute_result"
        }
      ],
      "source": [
        "gencubes(9)"
      ]
    },
    {
      "cell_type": "code",
      "execution_count": null,
      "metadata": {
        "colab": {
          "base_uri": "https://localhost:8080/"
        },
        "id": "kw7RDB9WasYk",
        "outputId": "4f955502-bbbd-4330-9c90-5e004698493d"
      },
      "outputs": [
        {
          "data": {
            "text/plain": [
              "generator"
            ]
          },
          "execution_count": 8,
          "metadata": {},
          "output_type": "execute_result"
        }
      ],
      "source": [
        "type(gencubes(10))"
      ]
    },
    {
      "cell_type": "markdown",
      "metadata": {
        "id": "tFGhNr7e1zFA"
      },
      "source": [
        "Great! Now since we have a generator function we don't have to keep track of every single cube we created.\n",
        "\n",
        "Generators are best for calculating large sets of results (particularly in calculations that involve loops themselves) in cases where we don’t want to allocate the memory for all of the results at the same time.\n",
        "\n",
        "Let's create another example generator which calculates [fibonacci](https://en.wikipedia.org/wiki/Fibonacci_number) numbers:"
      ]
    },
    {
      "cell_type": "code",
      "execution_count": null,
      "metadata": {
        "collapsed": true,
        "id": "Uuoy37kV1zFC"
      },
      "outputs": [],
      "source": [
        "def genfibon(n):\n",
        "    \"\"\"\n",
        "    Generate a fibonnaci sequence up to n\n",
        "    \"\"\"\n",
        "    a = 1\n",
        "    b = 1\n",
        "    for i in range(n):\n",
        "        yield (a,b)\n",
        "        print(f'a is {a} and b is: {b}')\n",
        "        a,b = b,a+b"
      ]
    },
    {
      "cell_type": "code",
      "execution_count": null,
      "metadata": {
        "colab": {
          "base_uri": "https://localhost:8080/"
        },
        "id": "6JFBEtTBaKFW",
        "outputId": "8d0e463c-57e9-45c1-f3a8-513efed56042"
      },
      "outputs": [
        {
          "data": {
            "text/plain": [
              "generator"
            ]
          },
          "execution_count": 11,
          "metadata": {},
          "output_type": "execute_result"
        }
      ],
      "source": [
        "type(genfibon(10))"
      ]
    },
    {
      "cell_type": "code",
      "execution_count": null,
      "metadata": {
        "colab": {
          "base_uri": "https://localhost:8080/"
        },
        "id": "eMLgFdiA1zFE",
        "outputId": "8a896e9a-7c03-4f6a-f9c0-d4c1793c7177"
      },
      "outputs": [
        {
          "name": "stdout",
          "output_type": "stream",
          "text": [
            "(1, 1)\n",
            "a is 1 and b is: 1\n",
            "(1, 2)\n",
            "a is 1 and b is: 2\n",
            "(2, 3)\n",
            "a is 2 and b is: 3\n",
            "(3, 5)\n",
            "a is 3 and b is: 5\n",
            "(5, 8)\n",
            "a is 5 and b is: 8\n",
            "(8, 13)\n",
            "a is 8 and b is: 13\n",
            "(13, 21)\n",
            "a is 13 and b is: 21\n",
            "(21, 34)\n",
            "a is 21 and b is: 34\n",
            "(34, 55)\n",
            "a is 34 and b is: 55\n",
            "(55, 89)\n",
            "a is 55 and b is: 89\n"
          ]
        }
      ],
      "source": [
        "for num in genfibon(10):\n",
        "    print(num)"
      ]
    },
    {
      "cell_type": "markdown",
      "metadata": {
        "id": "ThwC6VMM1zFF"
      },
      "source": [
        "What if this was a normal function, what would it look like?"
      ]
    },
    {
      "cell_type": "code",
      "execution_count": null,
      "metadata": {
        "collapsed": true,
        "id": "bM3JLBqv1zFH"
      },
      "outputs": [],
      "source": [
        "def fibon(n):\n",
        "    a = 1\n",
        "    b = 1\n",
        "    output = []\n",
        "\n",
        "    for i in range(n):\n",
        "        output.append(a)\n",
        "        a,b = b,a+b\n",
        "\n",
        "    return output"
      ]
    },
    {
      "cell_type": "code",
      "execution_count": null,
      "metadata": {
        "colab": {
          "base_uri": "https://localhost:8080/"
        },
        "id": "qnVouljR1zFI",
        "outputId": "70287c83-830e-4255-bf06-23a919fd792b"
      },
      "outputs": [
        {
          "data": {
            "text/plain": [
              "[1, 1, 2, 3, 5, 8, 13, 21, 34, 55]"
            ]
          },
          "execution_count": 38,
          "metadata": {},
          "output_type": "execute_result"
        }
      ],
      "source": [
        "fibon(10)"
      ]
    },
    {
      "cell_type": "markdown",
      "metadata": {
        "id": "gQ40NXKq1zFJ"
      },
      "source": [
        "Notice that if we call some huge value of n (like 100000) the second function will have to keep track of every single result, when in our case we actually only care about the previous result to generate the next one!\n",
        "\n",
        "## next() and iter() built-in functions\n",
        "A key to fully understanding generators is the next() function and the iter() function.\n",
        "\n",
        "The next() function allows us to access the next element in a sequence. Lets check it out:"
      ]
    },
    {
      "cell_type": "code",
      "execution_count": null,
      "metadata": {
        "collapsed": true,
        "id": "8jheXFTz1zFJ"
      },
      "outputs": [],
      "source": [
        "def simple_gen():\n",
        "    for x in range(3):\n",
        "        yield x\n",
        "\n",
        "        #0\n",
        "        #1\n",
        "        #2"
      ]
    },
    {
      "cell_type": "code",
      "execution_count": null,
      "metadata": {
        "collapsed": true,
        "id": "a9vbWEjp1zFK"
      },
      "outputs": [],
      "source": [
        "# Assign simple_gen\n",
        "g = simple_gen()"
      ]
    },
    {
      "cell_type": "code",
      "execution_count": null,
      "metadata": {
        "colab": {
          "base_uri": "https://localhost:8080/"
        },
        "id": "df9zSlSh1zFK",
        "outputId": "d21bad45-d64d-4f2e-9bf1-a020b7904dee"
      },
      "outputs": [
        {
          "data": {
            "text/plain": [
              "generator"
            ]
          },
          "execution_count": 43,
          "metadata": {},
          "output_type": "execute_result"
        }
      ],
      "source": [
        "type(g)"
      ]
    },
    {
      "cell_type": "code",
      "execution_count": null,
      "metadata": {
        "id": "A0DjLK981zFM"
      },
      "outputs": [],
      "source": [
        "print((g))"
      ]
    },
    {
      "cell_type": "code",
      "execution_count": null,
      "metadata": {
        "colab": {
          "base_uri": "https://localhost:8080/"
        },
        "id": "56J-YCpH1zFN",
        "outputId": "9eeec452-ea25-441a-e08f-4981d6229976"
      },
      "outputs": [
        {
          "name": "stdout",
          "output_type": "stream",
          "text": [
            "1\n"
          ]
        }
      ],
      "source": [
        "print(next(g))"
      ]
    },
    {
      "cell_type": "markdown",
      "metadata": {
        "id": "VqU25Ejg1zFO"
      },
      "source": [
        "After yielding all the values next() caused a StopIteration error. What this error informs us of is that all the values have been yielded.\n",
        "\n",
        "You might be wondering that why don’t we get this error while using a for loop? A for loop automatically catches this error and stops calling next().\n",
        "\n",
        "Let's go ahead and check out how to use iter(). You remember that strings are iterables:"
      ]
    },
    {
      "cell_type": "code",
      "execution_count": null,
      "metadata": {
        "colab": {
          "background_save": true,
          "base_uri": "https://localhost:8080/"
        },
        "id": "wEXT2kCx1zFO",
        "outputId": "bc6815d5-a08a-4bd2-802c-36ed7064286c"
      },
      "outputs": [
        {
          "data": {
            "text/plain": [
              "str_iterator"
            ]
          },
          "execution_count": 65,
          "metadata": {},
          "output_type": "execute_result"
        }
      ],
      "source": [
        "s = '455'\n",
        "type(iter(s))"
      ]
    },
    {
      "cell_type": "markdown",
      "metadata": {
        "id": "ioTnKun_1zFP"
      },
      "source": [
        "But that doesn't mean the string itself is an *iterator*! We can check this with the next() function:"
      ]
    },
    {
      "cell_type": "code",
      "execution_count": null,
      "metadata": {
        "colab": {
          "base_uri": "https://localhost:8080/",
          "height": 144
        },
        "id": "bcuaZz_q1zFP",
        "outputId": "de56549e-8a6e-4a95-ed6c-d81ba353f963"
      },
      "outputs": [
        {
          "ename": "TypeError",
          "evalue": "'str' object is not an iterator",
          "output_type": "error",
          "traceback": [
            "\u001b[0;31m---------------------------------------------------------------------------\u001b[0m",
            "\u001b[0;31mTypeError\u001b[0m                                 Traceback (most recent call last)",
            "\u001b[0;32m<ipython-input-59-61c30b5fe1d5>\u001b[0m in \u001b[0;36m<cell line: 1>\u001b[0;34m()\u001b[0m\n\u001b[0;32m----> 1\u001b[0;31m \u001b[0mnext\u001b[0m\u001b[0;34m(\u001b[0m\u001b[0ms\u001b[0m\u001b[0;34m)\u001b[0m\u001b[0;34m\u001b[0m\u001b[0;34m\u001b[0m\u001b[0m\n\u001b[0m",
            "\u001b[0;31mTypeError\u001b[0m: 'str' object is not an iterator"
          ]
        }
      ],
      "source": [
        "next(s)"
      ]
    },
    {
      "cell_type": "markdown",
      "metadata": {
        "id": "R7q3Dtce1zFP"
      },
      "source": [
        "Interesting, this means that a string object supports iteration, but we can not directly iterate over it as we could with a generator function. The iter() function allows us to do just that!"
      ]
    },
    {
      "cell_type": "code",
      "execution_count": null,
      "metadata": {
        "collapsed": true,
        "id": "6OMiDi3z1zFQ"
      },
      "outputs": [],
      "source": [
        "s_iter = iter(s)"
      ]
    },
    {
      "cell_type": "code",
      "execution_count": null,
      "metadata": {
        "colab": {
          "base_uri": "https://localhost:8080/"
        },
        "id": "28fukY4Pi9pl",
        "outputId": "8af8d861-f92e-479c-936b-b9712725c083"
      },
      "outputs": [
        {
          "data": {
            "text/plain": [
              "str_iterator"
            ]
          },
          "execution_count": 61,
          "metadata": {},
          "output_type": "execute_result"
        }
      ],
      "source": [
        "type(s_iter)"
      ]
    },
    {
      "cell_type": "code",
      "execution_count": null,
      "metadata": {
        "colab": {
          "base_uri": "https://localhost:8080/",
          "height": 35
        },
        "id": "1nQ49I5L1zFR",
        "outputId": "b5c8467b-69af-4370-f678-1f8833d83cae"
      },
      "outputs": [
        {
          "data": {
            "application/vnd.google.colaboratory.intrinsic+json": {
              "type": "string"
            },
            "text/plain": [
              "'4'"
            ]
          },
          "execution_count": 63,
          "metadata": {},
          "output_type": "execute_result"
        }
      ],
      "source": [
        "next(iter(s))"
      ]
    },
    {
      "cell_type": "code",
      "execution_count": null,
      "metadata": {
        "colab": {
          "base_uri": "https://localhost:8080/",
          "height": 35
        },
        "id": "Wtrvm4di1zFS",
        "outputId": "9a115761-9414-4350-e06f-f29cd92a4676"
      },
      "outputs": [
        {
          "data": {
            "application/vnd.google.colaboratory.intrinsic+json": {
              "type": "string"
            },
            "text/plain": [
              "'l'"
            ]
          },
          "execution_count": 171,
          "metadata": {},
          "output_type": "execute_result"
        }
      ],
      "source": [
        "next(s_iter)"
      ]
    },
    {
      "cell_type": "code",
      "execution_count": null,
      "metadata": {
        "colab": {
          "base_uri": "https://localhost:8080/"
        },
        "id": "uYM-cpVxkwh5",
        "outputId": "2d95e5b0-fff7-4bfb-b2a7-c26c079b8eeb"
      },
      "outputs": [
        {
          "name": "stdout",
          "output_type": "stream",
          "text": [
            "[2, 4, 6, 8]\n"
          ]
        }
      ],
      "source": [
        "def addition (a):\n",
        "  return a+a\n",
        "\n",
        "numbers = (1,2,3,4)\n",
        "\n",
        "x = map(addition, numbers)\n",
        "\n",
        "list1 = [addition(1) ,addition(2), addition(3),addition(4)]\n",
        "\n",
        "print(list(x))"
      ]
    },
    {
      "cell_type": "markdown",
      "metadata": {
        "id": "LTjnv4y71zFS"
      },
      "source": [
        "Great! Now you know how to convert objects that are iterable into iterators themselves!\n",
        "\n",
        "The main takeaway from this lecture is that using the yield keyword at a function will cause the function to become a generator. This change can save you a lot of memory for large use cases. For more information on generators check out:\n",
        "\n",
        "[Stack Overflow Answer](http://stackoverflow.com/questions/1756096/understanding-generators-in-python)\n",
        "\n",
        "[Another StackOverflow Answer](http://stackoverflow.com/questions/231767/what-does-the-yield-keyword-do-in-python)"
      ]
    },
    {
      "cell_type": "markdown",
      "metadata": {
        "id": "bgkYha2-2Qs0"
      },
      "source": [
        "# Iterators and Generators Homework\n",
        "\n",
        "### Problem 1\n",
        "\n",
        "Create a generator that generates the squares of numbers up to some number N."
      ]
    },
    {
      "cell_type": "code",
      "execution_count": null,
      "metadata": {
        "collapsed": true,
        "id": "S-jZADxD2Qs2"
      },
      "outputs": [],
      "source": [
        "def gensquares(N):\n",
        "\n",
        "    pass"
      ]
    },
    {
      "cell_type": "code",
      "execution_count": null,
      "metadata": {
        "id": "7nozaplY2Qs5"
      },
      "outputs": [],
      "source": [
        "for x in gensquares(10):\n",
        "    print(x)"
      ]
    },
    {
      "cell_type": "markdown",
      "metadata": {
        "id": "uG6QS7jc2Qs7"
      },
      "source": [
        "### Problem 2\n",
        "\n",
        "Create a generator that yields \"n\" random numbers between a low and high number (that are inputs). <br>Note: Use the random library. For example:"
      ]
    },
    {
      "cell_type": "code",
      "execution_count": null,
      "metadata": {
        "id": "YXIP85Xo2Qs9"
      },
      "outputs": [],
      "source": [
        "import random\n",
        "\n",
        "random.randint(1,10)"
      ]
    },
    {
      "cell_type": "code",
      "execution_count": null,
      "metadata": {
        "collapsed": true,
        "id": "2DEXGS9d2Qs-"
      },
      "outputs": [],
      "source": [
        "def rand_num(low,high,n):\n",
        "\n",
        "    pass"
      ]
    },
    {
      "cell_type": "code",
      "execution_count": null,
      "metadata": {
        "id": "zTcsrhKZ2Qs_",
        "outputId": "6b6543d0-b560-41b9-a4b5-ebb0c2a196f5"
      },
      "outputs": [
        {
          "name": "stdout",
          "output_type": "stream",
          "text": [
            "6\n",
            "1\n",
            "10\n",
            "5\n",
            "8\n",
            "2\n",
            "8\n",
            "5\n",
            "4\n",
            "5\n",
            "1\n",
            "4\n"
          ]
        }
      ],
      "source": [
        "for num in rand_num(1,10,12):\n",
        "    print(num)"
      ]
    },
    {
      "cell_type": "markdown",
      "metadata": {
        "id": "recznndl2QtA"
      },
      "source": [
        "### Problem 3\n",
        "\n",
        "Use the iter() function to convert the string below into an iterator:\n"
      ]
    },
    {
      "cell_type": "code",
      "execution_count": null,
      "metadata": {
        "collapsed": true,
        "id": "z_ALQU_V2QtC"
      },
      "outputs": [],
      "source": [
        "s = 'hello'\n",
        "\n",
        "#code here"
      ]
    },
    {
      "cell_type": "markdown",
      "metadata": {
        "id": "B9Q8yUSc2QtD"
      },
      "source": [
        "### Problem 4\n",
        "Explain a use case for a generator using a yield statement where you would not want to use a normal function with a return statement.<br><br><br><br><br><br>\n",
        "\n"
      ]
    },
    {
      "cell_type": "markdown",
      "metadata": {
        "id": "Aj8gc0T-2QtE"
      },
      "source": [
        "### Extra Credit!\n",
        "Can you explain what *gencomp* is in the code below? (Note: We never covered this in lecture! You will have to do some Googling/Stack Overflowing!)"
      ]
    },
    {
      "cell_type": "code",
      "execution_count": null,
      "metadata": {
        "id": "EMn7ug5g2QtF",
        "outputId": "68fd16c0-bf67-4fee-c171-3500f4fa40b9"
      },
      "outputs": [
        {
          "name": "stdout",
          "output_type": "stream",
          "text": [
            "4\n",
            "5\n"
          ]
        }
      ],
      "source": [
        "my_list = [1,2,3,4,5]\n",
        "\n",
        "gencomp = (item for item in my_list if item > 3)\n",
        "\n",
        "for item in gencomp:\n",
        "    print(item)"
      ]
    },
    {
      "cell_type": "markdown",
      "metadata": {
        "id": "BQVMIiEc2QtG"
      },
      "source": [
        "Hint: Google *generator comprehension*!\n",
        "\n",
        "# Great Job!"
      ]
    }
  ],
  "metadata": {
    "colab": {
      "provenance": []
    },
    "kernelspec": {
      "display_name": "Python 3",
      "name": "python3"
    },
    "language_info": {
      "name": "python"
    }
  },
  "nbformat": 4,
  "nbformat_minor": 0
}