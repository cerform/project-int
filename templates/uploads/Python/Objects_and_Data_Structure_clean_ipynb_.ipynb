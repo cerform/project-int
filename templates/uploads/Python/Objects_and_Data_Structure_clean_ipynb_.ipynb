{
  "nbformat": 4,
  "nbformat_minor": 0,
  "metadata": {
    "colab": {
      "provenance": [],
      "collapsed_sections": [
        "whWNLfjAsvog",
        "XqiI_-zGqniL",
        "Uishh4ehS6tT",
        "jw9s76kcRspS",
        "Iz3OJzOdRspU",
        "PDvXum57SAio",
        "f4Ku7A5qSAiw",
        "Ydb4dXRWSAi2",
        "JQ58Ek0sSPCh",
        "-mxYhpiQSa6a"
      ]
    },
    "kernelspec": {
      "name": "python3",
      "display_name": "Python 3"
    },
    "language_info": {
      "name": "python"
    }
  },
  "cells": [
    {
      "cell_type": "markdown",
      "metadata": {
        "id": "wpRPMsBHqTQx"
      },
      "source": [
        "# Numbers\n",
        "\n"
      ]
    },
    {
      "cell_type": "markdown",
      "source": [
        "## Types of numbers\n",
        "\n",
        "Python has various \"types\" of numbers (numeric literals). We'll mainly focus on integers and floating point numbers.\n",
        "\n",
        "Integers are just whole numbers, positive or negative. For example: 2 and -2 are examples of integers.\n",
        "\n",
        "Floating point numbers in Python are notable because they have a decimal point in them, or use an exponential (e) to define the number. For example 2.0 and -2.1 are examples of floating point numbers. 4E2 (4 times 10 to the power of 2) is also an example of a floating point number in Python.\n",
        "\n",
        "Throughout this course we will be mainly working with integers or simple float number types.\n",
        "\n",
        "Here is a table of the two main types we will spend most of our time working with some examples:"
      ],
      "metadata": {
        "id": "XGxxDf22szcL"
      }
    },
    {
      "cell_type": "markdown",
      "metadata": {
        "id": "MCLPeQfKqTQz"
      },
      "source": [
        "<table>\n",
        "<tr>\n",
        "    <th>Examples</th>\n",
        "    <th>Number \"Type\"</th>\n",
        "</tr>\n",
        "\n",
        "<tr>\n",
        "    <td>1,2,-5,1000</td>\n",
        "    <td>Integers</td>\n",
        "</tr>\n",
        "\n",
        "<tr>\n",
        "    <td>1.2,-0.5,2e2,3E2</td>\n",
        "    <td>Floating-point numbers</td>\n",
        "</tr>\n",
        " </table>"
      ]
    },
    {
      "cell_type": "markdown",
      "metadata": {
        "id": "KVeNydGxqTQ2"
      },
      "source": [
        "\n",
        "\n",
        "Now let's start with some basic arithmetic."
      ]
    },
    {
      "cell_type": "markdown",
      "metadata": {
        "id": "nkMFE4C7qTQ3"
      },
      "source": [
        "### Basic Arithmetic"
      ]
    },
    {
      "cell_type": "code",
      "execution_count": null,
      "metadata": {
        "id": "Tlij6PZFqTQ4",
        "colab": {
          "base_uri": "https://localhost:8080/"
        },
        "outputId": "2e25c1e1-4cae-4638-deff-bd36367e97e4"
      },
      "outputs": [
        {
          "output_type": "execute_result",
          "data": {
            "text/plain": [
              "3"
            ]
          },
          "metadata": {},
          "execution_count": 18
        }
      ],
      "source": [
        "# Addition\n",
        "2+1"
      ]
    },
    {
      "cell_type": "code",
      "execution_count": null,
      "metadata": {
        "id": "7OsFWTKgqTQ6",
        "colab": {
          "base_uri": "https://localhost:8080/"
        },
        "outputId": "e72dc83b-77ec-495a-f493-5f9a01095632"
      },
      "outputs": [
        {
          "output_type": "execute_result",
          "data": {
            "text/plain": [
              "1"
            ]
          },
          "metadata": {},
          "execution_count": 19
        }
      ],
      "source": [
        "# Subtraction\n",
        "2-1"
      ]
    },
    {
      "cell_type": "code",
      "execution_count": null,
      "metadata": {
        "id": "dsQ6CqGCqTQ9",
        "colab": {
          "base_uri": "https://localhost:8080/"
        },
        "outputId": "db83d9ef-5edf-472e-8b54-2f77aeed4afd"
      },
      "outputs": [
        {
          "output_type": "execute_result",
          "data": {
            "text/plain": [
              "4"
            ]
          },
          "metadata": {},
          "execution_count": 20
        }
      ],
      "source": [
        "# Multiplication\n",
        "2*2"
      ]
    },
    {
      "cell_type": "code",
      "execution_count": null,
      "metadata": {
        "id": "ZebxRjv0qTRA",
        "colab": {
          "base_uri": "https://localhost:8080/"
        },
        "outputId": "019867ca-d9b3-492e-9b10-857e60d8b423"
      },
      "outputs": [
        {
          "output_type": "execute_result",
          "data": {
            "text/plain": [
              "1.5"
            ]
          },
          "metadata": {},
          "execution_count": 21
        }
      ],
      "source": [
        "# Division\n",
        "3/2"
      ]
    },
    {
      "cell_type": "code",
      "execution_count": null,
      "metadata": {
        "id": "vclRiyROqTRC",
        "colab": {
          "base_uri": "https://localhost:8080/"
        },
        "outputId": "93dd6f9b-0438-44dc-e248-27ecb7a6ca1b"
      },
      "outputs": [
        {
          "output_type": "execute_result",
          "data": {
            "text/plain": [
              "1"
            ]
          },
          "metadata": {},
          "execution_count": 24
        }
      ],
      "source": [
        "# Floor Division\n",
        "7//4"
      ]
    },
    {
      "cell_type": "markdown",
      "metadata": {
        "id": "nkBDisV_qTRD"
      },
      "source": [
        "**Whoa! What just happened? Last time I checked, 7 divided by 4 equals 1.75 not 1!**\n",
        "\n",
        "The reason we get this result is because we are using \"*floor*\" division. The // operator (two forward slashes) truncates the decimal without rounding, and returns an integer result."
      ]
    },
    {
      "cell_type": "markdown",
      "metadata": {
        "id": "ckCjMjr9qTRD"
      },
      "source": [
        "**So what if we just want the remainder after division?**"
      ]
    },
    {
      "cell_type": "code",
      "execution_count": null,
      "metadata": {
        "id": "BaxhBHGrqTRE",
        "outputId": "65f475b6-e8fc-4a9e-dfcc-7ce95efd01b8",
        "colab": {
          "base_uri": "https://localhost:8080/"
        }
      },
      "outputs": [
        {
          "output_type": "execute_result",
          "data": {
            "text/plain": [
              "2"
            ]
          },
          "metadata": {},
          "execution_count": 26
        }
      ],
      "source": [
        "# Modulo\n",
        "14%4"
      ]
    },
    {
      "cell_type": "markdown",
      "metadata": {
        "id": "_2v-VOxXqTRE"
      },
      "source": [
        "4 goes into 7 once, with a remainder of 3. The % operator returns the remainder after division."
      ]
    },
    {
      "cell_type": "code",
      "source": [
        "list1"
      ],
      "metadata": {
        "id": "vft76cUxWFe1",
        "colab": {
          "base_uri": "https://localhost:8080/"
        },
        "outputId": "638ff85d-abef-487b-a04a-198b625bf9ba"
      },
      "execution_count": null,
      "outputs": [
        {
          "output_type": "execute_result",
          "data": {
            "text/plain": [
              "[3, 4, 5]"
            ]
          },
          "metadata": {},
          "execution_count": 27
        }
      ]
    },
    {
      "cell_type": "code",
      "source": [
        "list1 = [3,4,5]"
      ],
      "metadata": {
        "id": "KBqomNJEyB8Y"
      },
      "execution_count": null,
      "outputs": []
    },
    {
      "cell_type": "markdown",
      "metadata": {
        "id": "BdQoDCdnqTRF"
      },
      "source": [
        "### Arithmetic continued"
      ]
    },
    {
      "cell_type": "code",
      "execution_count": null,
      "metadata": {
        "id": "F02Ham-XqTRG",
        "colab": {
          "base_uri": "https://localhost:8080/"
        },
        "outputId": "e458e37e-22fd-4d24-835f-a8415bc22c2a"
      },
      "outputs": [
        {
          "output_type": "execute_result",
          "data": {
            "text/plain": [
              "8"
            ]
          },
          "metadata": {},
          "execution_count": 28
        }
      ],
      "source": [
        "# Powers\n",
        "2**3"
      ]
    },
    {
      "cell_type": "code",
      "execution_count": null,
      "metadata": {
        "id": "GT-hcpKRqTRH",
        "colab": {
          "base_uri": "https://localhost:8080/"
        },
        "outputId": "a5819c00-ad66-4ee7-9099-8e4159517cff"
      },
      "outputs": [
        {
          "output_type": "execute_result",
          "data": {
            "text/plain": [
              "2.0"
            ]
          },
          "metadata": {},
          "execution_count": 29
        }
      ],
      "source": [
        "# Can also do roots this way\n",
        "4**0.5"
      ]
    },
    {
      "cell_type": "code",
      "execution_count": null,
      "metadata": {
        "id": "fbGlYD-MqTRI",
        "colab": {
          "base_uri": "https://localhost:8080/"
        },
        "outputId": "b9c2fc11-9524-4442-f229-6dafc426dadb"
      },
      "outputs": [
        {
          "output_type": "execute_result",
          "data": {
            "text/plain": [
              "105"
            ]
          },
          "metadata": {},
          "execution_count": 30
        }
      ],
      "source": [
        "# Order of Operations followed in Python\n",
        "2 + 10 * 10 + 3"
      ]
    },
    {
      "cell_type": "code",
      "execution_count": null,
      "metadata": {
        "id": "8xUdxXyZqTRI",
        "colab": {
          "base_uri": "https://localhost:8080/"
        },
        "outputId": "807eaef5-93fc-4b7a-f5ce-f97dcbc5de51"
      },
      "outputs": [
        {
          "output_type": "execute_result",
          "data": {
            "text/plain": [
              "156"
            ]
          },
          "metadata": {},
          "execution_count": 31
        }
      ],
      "source": [
        "# Can use parentheses to specify orders\n",
        "(2+10) * (10+3)"
      ]
    },
    {
      "cell_type": "markdown",
      "source": [
        "hello its ron\n",
        "\n"
      ],
      "metadata": {
        "id": "S_YKOoo_VZdA"
      }
    },
    {
      "cell_type": "markdown",
      "metadata": {
        "id": "ysXMu6FSqnh_"
      },
      "source": [
        "# Variable Assignment\n",
        "\n"
      ]
    },
    {
      "cell_type": "markdown",
      "source": [
        "## Rules for variable names\n",
        "* names can not start with a number\n",
        "* names can not contain spaces, use _ intead\n",
        "* names can not contain any of these symbols:\n",
        "\n",
        "      :'\",<>/?|\\!@#%^&*~-+\n",
        "       \n",
        "* it's considered best practice ([PEP8](https://www.python.org/dev/peps/pep-0008/#function-and-variable-names)) that names are lowercase with underscores\n",
        "* avoid using Python built-in keywords like `list` and `str`\n",
        "* avoid using the single characters `l` (lowercase letter el), `O` (uppercase letter oh) and `I` (uppercase letter eye) as they can be confused with `1` and `0`"
      ],
      "metadata": {
        "id": "whWNLfjAsvog"
      }
    },
    {
      "cell_type": "markdown",
      "metadata": {
        "id": "y8DHkwo2qniD"
      },
      "source": [
        "## Dynamic Typing\n",
        "\n",
        "Python uses *dynamic typing*, meaning you can reassign variables to different data types. This makes Python very flexible in assigning data types; it differs from other languages that are *statically typed*."
      ]
    },
    {
      "cell_type": "code",
      "execution_count": null,
      "metadata": {
        "collapsed": true,
        "id": "QLQjRwC7qniG"
      },
      "outputs": [],
      "source": [
        "my_dogs = 2"
      ]
    },
    {
      "cell_type": "code",
      "execution_count": null,
      "metadata": {
        "id": "GNuDjB1QqniI",
        "colab": {
          "base_uri": "https://localhost:8080/"
        },
        "outputId": "bf9be682-3b81-423d-ab09-02f1ba3f339a"
      },
      "outputs": [
        {
          "output_type": "execute_result",
          "data": {
            "text/plain": [
              "['Sammy', 'Frankie']"
            ]
          },
          "metadata": {},
          "execution_count": 47
        }
      ],
      "source": [
        "my_dogs"
      ]
    },
    {
      "cell_type": "code",
      "execution_count": null,
      "metadata": {
        "collapsed": true,
        "id": "sLW_Dd2bqniJ"
      },
      "outputs": [],
      "source": [
        "my_dogs = ['Sammy', 'Frankie']"
      ]
    },
    {
      "cell_type": "code",
      "execution_count": null,
      "metadata": {
        "id": "v36CflIwqniK",
        "colab": {
          "base_uri": "https://localhost:8080/"
        },
        "outputId": "fbbe64c8-5bfe-49af-ee34-80b8876e47af"
      },
      "outputs": [
        {
          "output_type": "execute_result",
          "data": {
            "text/plain": [
              "['Sammy', 'Frankie']"
            ]
          },
          "metadata": {},
          "execution_count": 45
        }
      ],
      "source": [
        "my_dogs"
      ]
    },
    {
      "cell_type": "markdown",
      "metadata": {
        "id": "XqiI_-zGqniL"
      },
      "source": [
        "### Pros and Cons of Dynamic Typing\n",
        "#### Pros of Dynamic Typing\n",
        "* very easy to work with\n",
        "* faster development time\n",
        "\n",
        "#### Cons of Dynamic Typing\n",
        "* may result in unexpected bugs!\n",
        "* you need to be aware of `type()`"
      ]
    },
    {
      "cell_type": "markdown",
      "metadata": {
        "id": "ViK93X6FqniM"
      },
      "source": [
        "## Assigning Variables\n",
        "Variable assignment follows `name = object`, where a single equals sign `=` is an *assignment operator*"
      ]
    },
    {
      "cell_type": "code",
      "execution_count": null,
      "metadata": {
        "collapsed": true,
        "id": "KZg-jbEGqniO"
      },
      "outputs": [],
      "source": [
        "a = 5"
      ]
    },
    {
      "cell_type": "markdown",
      "metadata": {
        "id": "y7ZO1qBWqniQ"
      },
      "source": [
        "Here we assigned the integer object `5` to the variable name `a`.<br>Let's assign `a` to something else:"
      ]
    },
    {
      "cell_type": "code",
      "execution_count": null,
      "metadata": {
        "collapsed": true,
        "id": "wl1edX_VqniQ"
      },
      "outputs": [],
      "source": [
        "a = 10"
      ]
    },
    {
      "cell_type": "markdown",
      "metadata": {
        "id": "-jfIi6w0qniU"
      },
      "source": [
        "You can now use `a` in place of the number `10`:"
      ]
    },
    {
      "cell_type": "code",
      "execution_count": null,
      "metadata": {
        "id": "-OI2LhZDqniV"
      },
      "outputs": [],
      "source": [
        "a + a"
      ]
    },
    {
      "cell_type": "markdown",
      "metadata": {
        "id": "zICPGZysqniW"
      },
      "source": [
        "## Reassigning Variables\n",
        "Python lets you reassign variables with a reference to the same object."
      ]
    },
    {
      "cell_type": "code",
      "execution_count": null,
      "metadata": {
        "collapsed": true,
        "id": "0g7baKvyqniX"
      },
      "outputs": [],
      "source": [
        "a = a + 10"
      ]
    },
    {
      "cell_type": "code",
      "execution_count": null,
      "metadata": {
        "id": "zYBMd9G_qniX"
      },
      "outputs": [],
      "source": [
        "a"
      ]
    },
    {
      "cell_type": "markdown",
      "metadata": {
        "id": "hckOag9mqniY"
      },
      "source": [
        "There's actually a shortcut for this. Python lets you add, subtract, multiply and divide numbers with reassignment using `+=`, `-=`, `*=`, and `/=`."
      ]
    },
    {
      "cell_type": "code",
      "execution_count": null,
      "metadata": {
        "collapsed": true,
        "id": "qYNeTmPZqniY"
      },
      "outputs": [],
      "source": [
        "a += 10"
      ]
    },
    {
      "cell_type": "code",
      "execution_count": null,
      "metadata": {
        "id": "Ps6LPZ9aqnia"
      },
      "outputs": [],
      "source": [
        "a"
      ]
    },
    {
      "cell_type": "code",
      "execution_count": null,
      "metadata": {
        "collapsed": true,
        "id": "ykGIaUshqnia"
      },
      "outputs": [],
      "source": [
        "a *= 2"
      ]
    },
    {
      "cell_type": "code",
      "execution_count": null,
      "metadata": {
        "id": "2q5UMXOiqnib"
      },
      "outputs": [],
      "source": [
        "a"
      ]
    },
    {
      "cell_type": "markdown",
      "metadata": {
        "id": "USAKy-cFqnib"
      },
      "source": [
        "## Determining variable type with `type()`\n",
        "You can check what type of object is assigned to a variable using Python's built-in `type()` function. Common data types include:\n",
        "* **int** (for integer)\n",
        "* **float**\n",
        "* **str** (for string)\n",
        "* **list**\n",
        "* **tuple**\n",
        "* **dict** (for dictionary)\n",
        "* **set**\n",
        "* **bool** (for Boolean True/False)"
      ]
    },
    {
      "cell_type": "code",
      "execution_count": null,
      "metadata": {
        "id": "KXG4nUgsqnib"
      },
      "outputs": [],
      "source": [
        "type(a)"
      ]
    },
    {
      "cell_type": "code",
      "execution_count": null,
      "metadata": {
        "collapsed": true,
        "id": "kBKkwgzjqnic"
      },
      "outputs": [],
      "source": [
        "a = (1,2)"
      ]
    },
    {
      "cell_type": "code",
      "execution_count": null,
      "metadata": {
        "id": "jBjGLOubqnic"
      },
      "outputs": [],
      "source": [
        "type(a)"
      ]
    },
    {
      "cell_type": "markdown",
      "source": [],
      "metadata": {
        "id": "zjlV3_M0rwVb"
      }
    },
    {
      "cell_type": "markdown",
      "source": [],
      "metadata": {
        "id": "RnnVwULrstHV"
      }
    },
    {
      "cell_type": "markdown",
      "metadata": {
        "id": "K_2APgHwrbPj"
      },
      "source": [
        "# Strings"
      ]
    },
    {
      "cell_type": "markdown",
      "metadata": {
        "id": "OEG9pd_IrbPl"
      },
      "source": [
        "Strings are used in Python to record text information, such as names. Strings in Python are actually a *sequence*, which basically means Python keeps track of every element in the string as a sequence. For example, Python understands the string \"hello' to be a sequence of letters in a specific order. This means we will be able to use indexing to grab particular letters (like the first letter, or the last letter).\n",
        "\n",
        "This idea of a sequence is an important one in Python and we will touch upon it later on in the future.\n"
      ]
    },
    {
      "cell_type": "markdown",
      "metadata": {
        "id": "hyM9DjNprbPo"
      },
      "source": [
        "## Creating a String\n",
        "To create a string in Python you need to use either single quotes or double quotes. For example:"
      ]
    },
    {
      "cell_type": "code",
      "execution_count": null,
      "metadata": {
        "id": "x2B-ECykrbPp"
      },
      "outputs": [],
      "source": [
        "# Single word\n",
        "'hello'"
      ]
    },
    {
      "cell_type": "code",
      "execution_count": null,
      "metadata": {
        "id": "RWy-zTYKrbPq"
      },
      "outputs": [],
      "source": [
        "# Entire phrase\n",
        "'This is also a string'"
      ]
    },
    {
      "cell_type": "code",
      "execution_count": null,
      "metadata": {
        "id": "HMMgFjBirbPt"
      },
      "outputs": [],
      "source": [
        "# We can also use double quote\n",
        "\"String built with double quotes\""
      ]
    },
    {
      "cell_type": "code",
      "execution_count": null,
      "metadata": {
        "id": "F2qw976_rbPv"
      },
      "outputs": [],
      "source": [
        "# Be careful with quotes!\n",
        "' I'm using single quotes, but this will create an error'"
      ]
    },
    {
      "cell_type": "markdown",
      "metadata": {
        "id": "Zpa0PjPkrbPw"
      },
      "source": [
        "The reason for the error above is because the single quote in <code>I'm</code> stopped the string. You can use combinations of double and single quotes to get the complete statement."
      ]
    },
    {
      "cell_type": "code",
      "execution_count": null,
      "metadata": {
        "id": "rU55g9_lrbPy"
      },
      "outputs": [],
      "source": [
        "\"Now I'm ready to use the single quotes inside a string!\""
      ]
    },
    {
      "cell_type": "markdown",
      "metadata": {
        "id": "p57EbJiprbPz"
      },
      "source": [
        "Now let's learn about printing strings!"
      ]
    },
    {
      "cell_type": "markdown",
      "metadata": {
        "id": "ig_4iJErrbP0"
      },
      "source": [
        "## Printing a String\n",
        "\n",
        "Using Jupyter notebook with just a string in a cell will automatically output strings, but the correct way to display strings in your output is by using a print function."
      ]
    },
    {
      "cell_type": "code",
      "execution_count": null,
      "metadata": {
        "id": "C3rcOxUarbP0"
      },
      "outputs": [],
      "source": [
        "# We can simply declare a string\n",
        "'Hello World'"
      ]
    },
    {
      "cell_type": "code",
      "execution_count": null,
      "metadata": {
        "id": "aXyyOen8rbP1"
      },
      "outputs": [],
      "source": [
        "# Note that we can't output multiple strings this way\n",
        "'Hello World 1'\n",
        "'Hello World 2'"
      ]
    },
    {
      "cell_type": "markdown",
      "metadata": {
        "id": "3P1sCiWmrbP2"
      },
      "source": [
        "We can use a print statement to print a string."
      ]
    },
    {
      "cell_type": "code",
      "execution_count": null,
      "metadata": {
        "id": "BRlXRxh9rbP3"
      },
      "outputs": [],
      "source": [
        "print('Hello World 1')\n",
        "print('Hello World 2')\n",
        "print('Use \\n to print a new line')\n",
        "print('\\n')\n",
        "print('See what I mean?')"
      ]
    },
    {
      "cell_type": "markdown",
      "metadata": {
        "id": "SB4n3VlMrbP4"
      },
      "source": [
        "## String Basics"
      ]
    },
    {
      "cell_type": "markdown",
      "metadata": {
        "id": "HRxxC9UArbP5"
      },
      "source": [
        "We can also use a function called len() to check the length of a string!"
      ]
    },
    {
      "cell_type": "code",
      "execution_count": null,
      "metadata": {
        "id": "AdwI6cn2rbP5"
      },
      "outputs": [],
      "source": [
        "len('Hello World')"
      ]
    },
    {
      "cell_type": "markdown",
      "metadata": {
        "id": "GaA-9aL-rbP6"
      },
      "source": [
        "Python's built-in len() function counts all of the characters in the string, including spaces and punctuation."
      ]
    },
    {
      "cell_type": "markdown",
      "metadata": {
        "id": "5o0K0_O4rbP6"
      },
      "source": [
        "## String Indexing\n",
        "We know strings are a sequence, which means Python can use indexes to call parts of the sequence. Let's learn how this works.\n",
        "\n",
        "In Python, we use brackets <code>[]</code> after an object to call its index. We should also note that indexing starts at 0 for Python. Let's create a new object called <code>s</code> and then walk through a few examples of indexing."
      ]
    },
    {
      "cell_type": "code",
      "execution_count": null,
      "metadata": {
        "collapsed": true,
        "id": "ln1_29nIrbP6"
      },
      "outputs": [],
      "source": [
        "# Assign s as a string\n",
        "s = 'Hello World'"
      ]
    },
    {
      "cell_type": "code",
      "execution_count": null,
      "metadata": {
        "id": "GxsYj_3ErbP7"
      },
      "outputs": [],
      "source": [
        "#Check\n",
        "s"
      ]
    },
    {
      "cell_type": "code",
      "execution_count": null,
      "metadata": {
        "id": "aLpfc-2nrbP9"
      },
      "outputs": [],
      "source": [
        "# Print the object\n",
        "print(s)"
      ]
    },
    {
      "cell_type": "markdown",
      "metadata": {
        "id": "cUuCdLm9rbP-"
      },
      "source": [
        "Let's start indexing!"
      ]
    },
    {
      "cell_type": "code",
      "execution_count": null,
      "metadata": {
        "id": "bI4BkeTkrbP_"
      },
      "outputs": [],
      "source": [
        "# Show first element (in this case a letter)\n",
        "s[0]"
      ]
    },
    {
      "cell_type": "code",
      "execution_count": null,
      "metadata": {
        "id": "E7mLEmHyrbQA"
      },
      "outputs": [],
      "source": [
        "s[1]"
      ]
    },
    {
      "cell_type": "code",
      "execution_count": null,
      "metadata": {
        "id": "LQj5TDgcrbQA"
      },
      "outputs": [],
      "source": [
        "s[2]"
      ]
    },
    {
      "cell_type": "markdown",
      "metadata": {
        "id": "hcEDyivprbQB"
      },
      "source": [
        "We can use a <code>:</code> to perform *slicing* which grabs everything up to a designated point. For example:"
      ]
    },
    {
      "cell_type": "code",
      "execution_count": null,
      "metadata": {
        "id": "g35TI8DyrbQB"
      },
      "outputs": [],
      "source": [
        "# Grab everything past the first term all the way to the length of s which is len(s)\n",
        "s[1:]"
      ]
    },
    {
      "cell_type": "code",
      "execution_count": null,
      "metadata": {
        "id": "M6gJi2IarbQC"
      },
      "outputs": [],
      "source": [
        "# Note that there is no change to the original s\n",
        "s"
      ]
    },
    {
      "cell_type": "code",
      "execution_count": null,
      "metadata": {
        "id": "8M9ZSCChrbQD"
      },
      "outputs": [],
      "source": [
        "# Grab everything UP TO the 3rd index\n",
        "s[:3]"
      ]
    },
    {
      "cell_type": "markdown",
      "metadata": {
        "id": "_q4-YrtdrbQD"
      },
      "source": [
        "Note the above slicing. Here we're telling Python to grab everything from 0 up to 3. It doesn't include the 3rd index. You'll notice this a lot in Python, where statements and are usually in the context of \"up to, but not including\"."
      ]
    },
    {
      "cell_type": "code",
      "execution_count": null,
      "metadata": {
        "id": "0HCVCYztrbQD"
      },
      "outputs": [],
      "source": [
        "#Everything\n",
        "s[:]"
      ]
    },
    {
      "cell_type": "markdown",
      "metadata": {
        "id": "W9BDaTCUrbQE"
      },
      "source": [
        "We can also use negative indexing to go backwards."
      ]
    },
    {
      "cell_type": "code",
      "execution_count": null,
      "metadata": {
        "id": "3qIYc5SQrbQE"
      },
      "outputs": [],
      "source": [
        "# Last letter (one index behind 0 so it loops back around)\n",
        "s[-1]"
      ]
    },
    {
      "cell_type": "code",
      "execution_count": null,
      "metadata": {
        "id": "KwyFIqVDrbQF",
        "colab": {
          "base_uri": "https://localhost:8080/",
          "height": 35
        },
        "outputId": "6f3993fc-85d8-446d-bcb9-dfa023a6b85c"
      },
      "outputs": [
        {
          "output_type": "execute_result",
          "data": {
            "text/plain": [
              "'Hello Worl'"
            ],
            "application/vnd.google.colaboratory.intrinsic+json": {
              "type": "string"
            }
          },
          "metadata": {},
          "execution_count": 6
        }
      ],
      "source": [
        "# Grab everything but the last letter\n",
        "s[:-1]"
      ]
    },
    {
      "cell_type": "markdown",
      "metadata": {
        "id": "PB25e86drbQF"
      },
      "source": [
        "We can also use index and slice notation to grab elements of a sequence by a specified step size (the default is 1). For instance we can use two colons in a row and then a number specifying the frequency to grab elements. For example:"
      ]
    },
    {
      "cell_type": "code",
      "execution_count": null,
      "metadata": {
        "id": "JrUoDRnVrbQF"
      },
      "outputs": [],
      "source": [
        "# Grab everything, but go in steps size of 1\n",
        "s[::1]"
      ]
    },
    {
      "cell_type": "code",
      "execution_count": null,
      "metadata": {
        "id": "cehISK-urbQG"
      },
      "outputs": [],
      "source": [
        "# Grab everything, but go in step sizes of 2\n",
        "s[::2]"
      ]
    },
    {
      "cell_type": "code",
      "execution_count": null,
      "metadata": {
        "id": "QxDkZfoArbQG"
      },
      "outputs": [],
      "source": [
        "# We can use this to print a string backwards\n",
        "s[::-1]"
      ]
    },
    {
      "cell_type": "markdown",
      "metadata": {
        "collapsed": true,
        "id": "XAG4bDkYrbQG"
      },
      "source": [
        "## String Properties\n",
        "It's important to note that strings have an important property known as *immutability*. This means that once a string is created, the elements within it can not be changed or replaced. For example:"
      ]
    },
    {
      "cell_type": "code",
      "execution_count": null,
      "metadata": {
        "id": "7KmBnVYNrbQG"
      },
      "outputs": [],
      "source": [
        "s"
      ]
    },
    {
      "cell_type": "code",
      "execution_count": null,
      "metadata": {
        "id": "9neaBj4qrbQH"
      },
      "outputs": [],
      "source": [
        "# Let's try to change the first letter to 'x'\n",
        "s[0] = 'x'"
      ]
    },
    {
      "cell_type": "markdown",
      "metadata": {
        "id": "6UCdZLfJrbQH"
      },
      "source": [
        "Notice how the error tells us directly what we can't do, change the item assignment!\n",
        "\n",
        "Something we *can* do is concatenate strings!"
      ]
    },
    {
      "cell_type": "code",
      "execution_count": null,
      "metadata": {
        "id": "mk-OOpuvrbQH"
      },
      "outputs": [],
      "source": [
        "s"
      ]
    },
    {
      "cell_type": "code",
      "execution_count": null,
      "metadata": {
        "id": "Tsp8HJbKrbQI"
      },
      "outputs": [],
      "source": [
        "# Concatenate strings!\n",
        "s + ' concatenate me!'"
      ]
    },
    {
      "cell_type": "code",
      "execution_count": null,
      "metadata": {
        "collapsed": true,
        "id": "V-BQsotkrbQI"
      },
      "outputs": [],
      "source": [
        "# We can reassign s completely though!\n",
        "s = s + ' concatenate me!'"
      ]
    },
    {
      "cell_type": "code",
      "execution_count": null,
      "metadata": {
        "id": "fTjC5L5XrbQK"
      },
      "outputs": [],
      "source": [
        "print(s)"
      ]
    },
    {
      "cell_type": "code",
      "execution_count": null,
      "metadata": {
        "id": "IATBsx-xrbQK"
      },
      "outputs": [],
      "source": [
        "s"
      ]
    },
    {
      "cell_type": "markdown",
      "metadata": {
        "id": "DJpVSlqdrbQL"
      },
      "source": [
        "We can use the multiplication symbol to create repetition!"
      ]
    },
    {
      "cell_type": "code",
      "execution_count": null,
      "metadata": {
        "collapsed": true,
        "id": "vAa6en0trbQL"
      },
      "outputs": [],
      "source": [
        "letter = 'z'"
      ]
    },
    {
      "cell_type": "code",
      "execution_count": null,
      "metadata": {
        "id": "sfYVFlzcrbQL"
      },
      "outputs": [],
      "source": [
        "letter*10"
      ]
    },
    {
      "cell_type": "markdown",
      "metadata": {
        "id": "lb1boYwerbQM"
      },
      "source": [
        "## Basic Built-in String methods\n",
        "\n",
        "Objects in Python usually have built-in methods. These methods are functions inside the object (we will learn about these in much more depth later) that can perform actions or commands on the object itself.\n",
        "\n",
        "We call methods with a period and then the method name. Methods are in the form:\n",
        "\n",
        "object.method(parameters)\n",
        "\n",
        "Where parameters are extra arguments we can pass into the method. Don't worry if the details don't make 100% sense right now. Later on we will be creating our own objects and functions!\n",
        "\n",
        "Here are some examples of built-in methods in strings:"
      ]
    },
    {
      "cell_type": "code",
      "execution_count": null,
      "metadata": {
        "id": "DfBblYTLrbQN"
      },
      "outputs": [],
      "source": [
        "s"
      ]
    },
    {
      "cell_type": "code",
      "execution_count": null,
      "metadata": {
        "id": "TSw9qsASrbQP"
      },
      "outputs": [],
      "source": [
        "# Upper Case a string\n",
        "s.upper()"
      ]
    },
    {
      "cell_type": "code",
      "execution_count": null,
      "metadata": {
        "id": "tKfpzdEhrbQQ"
      },
      "outputs": [],
      "source": [
        "# Lower case\n",
        "s.lower()"
      ]
    },
    {
      "cell_type": "code",
      "execution_count": null,
      "metadata": {
        "id": "MY5HwUgtrbQS"
      },
      "outputs": [],
      "source": [
        "# Split a string by blank space (this is the default)\n",
        "s.split()"
      ]
    },
    {
      "cell_type": "code",
      "execution_count": null,
      "metadata": {
        "id": "4T80BLOmrbQT"
      },
      "outputs": [],
      "source": [
        "# Split by a specific element (doesn't include the element that was split on)\n",
        "s.split('W')"
      ]
    },
    {
      "cell_type": "markdown",
      "metadata": {
        "id": "o3cSsZrUrbQT"
      },
      "source": [
        "There are many more methods than the ones covered here. Visit the Advanced String section to find out more!"
      ]
    },
    {
      "cell_type": "markdown",
      "metadata": {
        "id": "TcZdzmN5rbQU"
      },
      "source": [
        "## Print Formatting\n",
        "\n",
        "We can use the .format() method to add formatted objects to printed string statements.\n",
        "\n",
        "The easiest way to show this is through an example:"
      ]
    },
    {
      "cell_type": "code",
      "execution_count": null,
      "metadata": {
        "id": "zBb8c7TTrbQU"
      },
      "outputs": [],
      "source": [
        "'Insert another string with curly brackets: {}'.format('The inserted string')"
      ]
    },
    {
      "cell_type": "markdown",
      "metadata": {
        "id": "5np3nQ4-rbQU"
      },
      "source": [
        "We will revisit this string formatting topic in later sections when we are building our projects!"
      ]
    },
    {
      "cell_type": "markdown",
      "source": [],
      "metadata": {
        "id": "bBjcTMf8r0y7"
      }
    },
    {
      "cell_type": "markdown",
      "source": [],
      "metadata": {
        "id": "x1XnAj62tHnQ"
      }
    },
    {
      "cell_type": "markdown",
      "metadata": {
        "id": "1xxQ8jX7tD8g"
      },
      "source": [
        "# Lists\n",
        "\n"
      ]
    },
    {
      "cell_type": "markdown",
      "source": [
        "Earlier when discussing strings we introduced the concept of a *sequence* in Python. Lists can be thought of the most general version of a *sequence* in Python. Unlike strings, they are mutable, meaning the elements inside a list can be changed!\n",
        "\n",
        "In this section we will learn about:\n",
        "    \n",
        "    1.) Creating lists\n",
        "    2.) Indexing and Slicing Lists\n",
        "    3.) Basic List Methods\n",
        "    4.) Nesting Lists\n",
        "    5.) Introduction to List Comprehensions\n",
        "\n",
        "Lists are constructed with brackets [] and commas separating every element in the list.\n",
        "\n",
        "Let's go ahead and see how we can construct lists!"
      ],
      "metadata": {
        "id": "TUlFxQowtPXI"
      }
    },
    {
      "cell_type": "code",
      "execution_count": null,
      "metadata": {
        "collapsed": true,
        "id": "3vQ_vh5btD8k"
      },
      "outputs": [],
      "source": [
        "# Assign a list to an variable named my_list\n",
        "my_list = [1,2,3]"
      ]
    },
    {
      "cell_type": "markdown",
      "metadata": {
        "id": "r0tQtqAYtD8n"
      },
      "source": [
        "We just created a list of integers, but lists can actually hold different object types. For example:"
      ]
    },
    {
      "cell_type": "code",
      "execution_count": null,
      "metadata": {
        "collapsed": true,
        "id": "yzRq53e0tD8o"
      },
      "outputs": [],
      "source": [
        "my_list = ['A string',23,100.232,'o']"
      ]
    },
    {
      "cell_type": "markdown",
      "metadata": {
        "id": "hU3mobsFtD8p"
      },
      "source": [
        "Just like strings, the len() function will tell you how many items are in the sequence of the list."
      ]
    },
    {
      "cell_type": "code",
      "execution_count": null,
      "metadata": {
        "id": "C0KjmQxPtD8q",
        "colab": {
          "base_uri": "https://localhost:8080/"
        },
        "outputId": "01a0c0b5-f98e-4500-ee65-de15f52bd617"
      },
      "outputs": [
        {
          "output_type": "execute_result",
          "data": {
            "text/plain": [
              "4"
            ]
          },
          "metadata": {},
          "execution_count": 3
        }
      ],
      "source": [
        "len(my_list)"
      ]
    },
    {
      "cell_type": "markdown",
      "metadata": {
        "id": "cdMAtgo3tD8r"
      },
      "source": [
        "### Indexing and Slicing\n",
        "Indexing and slicing work just like in strings. Let's make a new list to remind ourselves of how this works:"
      ]
    },
    {
      "cell_type": "code",
      "source": [
        "my_list = 3"
      ],
      "metadata": {
        "id": "TxhA79Q8cNYV"
      },
      "execution_count": null,
      "outputs": []
    },
    {
      "cell_type": "code",
      "execution_count": null,
      "metadata": {
        "collapsed": true,
        "id": "TMUlpVPWtD8s"
      },
      "outputs": [],
      "source": [
        "my_list = ['one','two','three',4,5]"
      ]
    },
    {
      "cell_type": "code",
      "execution_count": null,
      "metadata": {
        "id": "pMA6A3zOtD8t",
        "colab": {
          "base_uri": "https://localhost:8080/",
          "height": 35
        },
        "outputId": "0656f323-f437-4290-c3ad-c0f4df57ae97"
      },
      "outputs": [
        {
          "output_type": "execute_result",
          "data": {
            "text/plain": [
              "'one'"
            ],
            "application/vnd.google.colaboratory.intrinsic+json": {
              "type": "string"
            }
          },
          "metadata": {},
          "execution_count": 20
        }
      ],
      "source": [
        "# Grab element at index 0\n",
        "my_list[0]"
      ]
    },
    {
      "cell_type": "code",
      "execution_count": null,
      "metadata": {
        "id": "xLYOBT2jtD8v",
        "colab": {
          "base_uri": "https://localhost:8080/"
        },
        "outputId": "818b5d5e-b269-4bc2-c850-a3b5f0aff7ce"
      },
      "outputs": [
        {
          "output_type": "execute_result",
          "data": {
            "text/plain": [
              "['two', 'three', 4, 5]"
            ]
          },
          "metadata": {},
          "execution_count": 21
        }
      ],
      "source": [
        "# Grab index 1 and everything past it\n",
        "my_list[1:]"
      ]
    },
    {
      "cell_type": "code",
      "execution_count": null,
      "metadata": {
        "id": "KDqKFqqutD8x",
        "colab": {
          "base_uri": "https://localhost:8080/"
        },
        "outputId": "309e1b0b-17df-4fbb-a89a-949f24c36019"
      },
      "outputs": [
        {
          "output_type": "execute_result",
          "data": {
            "text/plain": [
              "['one', 'two', 'three']"
            ]
          },
          "metadata": {},
          "execution_count": 22
        }
      ],
      "source": [
        "# Grab everything UP TO index 3\n",
        "my_list[:3]"
      ]
    },
    {
      "cell_type": "markdown",
      "metadata": {
        "id": "VozQ069FtD8z"
      },
      "source": [
        "We can also use + to concatenate lists, just like we did for strings."
      ]
    },
    {
      "cell_type": "code",
      "execution_count": null,
      "metadata": {
        "id": "YwbVcWZPtD80",
        "colab": {
          "base_uri": "https://localhost:8080/"
        },
        "outputId": "c6e184c5-81e7-4bfe-ad7b-75a3dc3c74fa"
      },
      "outputs": [
        {
          "output_type": "execute_result",
          "data": {
            "text/plain": [
              "['one', 'two', 'three', 4, 5, 'new item']"
            ]
          },
          "metadata": {},
          "execution_count": 23
        }
      ],
      "source": [
        "my_list + ['new item']"
      ]
    },
    {
      "cell_type": "markdown",
      "metadata": {
        "id": "lZzZqRhdtD81"
      },
      "source": [
        "Note: This doesn't actually change the original list!"
      ]
    },
    {
      "cell_type": "code",
      "execution_count": null,
      "metadata": {
        "id": "D7TKtdu_tD82",
        "colab": {
          "base_uri": "https://localhost:8080/"
        },
        "outputId": "26e0dd62-dc5c-4008-c44d-c4f20c4e603b"
      },
      "outputs": [
        {
          "output_type": "execute_result",
          "data": {
            "text/plain": [
              "['one', 'two', 'three', 4, 5]"
            ]
          },
          "metadata": {},
          "execution_count": 24
        }
      ],
      "source": [
        "my_list"
      ]
    },
    {
      "cell_type": "markdown",
      "metadata": {
        "id": "X6_5k7MmtD83"
      },
      "source": [
        "You would have to reassign the list to make the change permanent."
      ]
    },
    {
      "cell_type": "code",
      "execution_count": null,
      "metadata": {
        "collapsed": true,
        "id": "XjMqcNoCtD84"
      },
      "outputs": [],
      "source": [
        "# Reassign\n",
        "my_list = my_list + ['add new item permanently', 'test']"
      ]
    },
    {
      "cell_type": "code",
      "execution_count": null,
      "metadata": {
        "id": "N0dGfFF4tD84",
        "colab": {
          "base_uri": "https://localhost:8080/"
        },
        "outputId": "8a60409a-37b9-4ced-979f-1b2de83be6b3"
      },
      "outputs": [
        {
          "output_type": "execute_result",
          "data": {
            "text/plain": [
              "['one',\n",
              " 'two',\n",
              " 'three',\n",
              " 4,\n",
              " 5,\n",
              " 'add new item permanently',\n",
              " 'add new item permanently',\n",
              " 'test']"
            ]
          },
          "metadata": {},
          "execution_count": 28
        }
      ],
      "source": [
        "my_list"
      ]
    },
    {
      "cell_type": "markdown",
      "metadata": {
        "id": "1XTBrNeCtD85"
      },
      "source": [
        "We can also use the * for a duplication method similar to strings:"
      ]
    },
    {
      "cell_type": "code",
      "execution_count": null,
      "metadata": {
        "id": "XFjo7BeitD85",
        "colab": {
          "base_uri": "https://localhost:8080/"
        },
        "outputId": "36b8987f-00e7-4c99-a02c-ece968a8a5cb"
      },
      "outputs": [
        {
          "output_type": "execute_result",
          "data": {
            "text/plain": [
              "['one',\n",
              " 'two',\n",
              " 'three',\n",
              " 4,\n",
              " 5,\n",
              " 'add new item permanently',\n",
              " 'add new item permanently',\n",
              " 'test',\n",
              " 'one',\n",
              " 'two',\n",
              " 'three',\n",
              " 4,\n",
              " 5,\n",
              " 'add new item permanently',\n",
              " 'add new item permanently',\n",
              " 'test']"
            ]
          },
          "metadata": {},
          "execution_count": 30
        }
      ],
      "source": [
        "# Make the list double\n",
        "my_list * 2"
      ]
    },
    {
      "cell_type": "code",
      "execution_count": null,
      "metadata": {
        "id": "_L354X06tD86",
        "colab": {
          "base_uri": "https://localhost:8080/"
        },
        "outputId": "cf8baa24-98c7-4ce3-f8b5-1521534eb347"
      },
      "outputs": [
        {
          "output_type": "execute_result",
          "data": {
            "text/plain": [
              "['one',\n",
              " 'two',\n",
              " 'three',\n",
              " 4,\n",
              " 5,\n",
              " 'add new item permanently',\n",
              " 'add new item permanently',\n",
              " 'test']"
            ]
          },
          "metadata": {},
          "execution_count": 31
        }
      ],
      "source": [
        "# Again doubling not permanent\n",
        "my_list"
      ]
    },
    {
      "cell_type": "markdown",
      "metadata": {
        "id": "i4yX4ccRtD86"
      },
      "source": [
        "## Basic List Methods\n",
        "\n",
        "If you are familiar with another programming language, you might start to draw parallels between arrays in another language and lists in Python. Lists in Python however, tend to be more flexible than arrays in other languages for a two good reasons: they have no fixed size (meaning we don't have to specify how big a list will be), and they have no fixed type constraint (like we've seen above).\n",
        "\n",
        "Let's go ahead and explore some more special methods for lists:"
      ]
    },
    {
      "cell_type": "code",
      "execution_count": null,
      "metadata": {
        "collapsed": true,
        "id": "d09YbpPMtD87"
      },
      "outputs": [],
      "source": [
        "# Create a new list\n",
        "list1 = [1,2,3]"
      ]
    },
    {
      "cell_type": "markdown",
      "metadata": {
        "id": "sjIoYbFLtD88"
      },
      "source": [
        "Use the **append** method to permanently add an item to the end of a list:"
      ]
    },
    {
      "cell_type": "code",
      "execution_count": null,
      "metadata": {
        "collapsed": true,
        "id": "AZ9KGKbmtD88"
      },
      "outputs": [],
      "source": [
        "# Append\n",
        "list1.append('append me!')"
      ]
    },
    {
      "cell_type": "code",
      "execution_count": null,
      "metadata": {
        "id": "EHr_gJAFtD88",
        "colab": {
          "base_uri": "https://localhost:8080/"
        },
        "outputId": "e501ad81-c409-4604-de6e-83e94a8a5f36"
      },
      "outputs": [
        {
          "output_type": "execute_result",
          "data": {
            "text/plain": [
              "[1, 2, 3, 'append me!']"
            ]
          },
          "metadata": {},
          "execution_count": 34
        }
      ],
      "source": [
        "# Show\n",
        "list1"
      ]
    },
    {
      "cell_type": "markdown",
      "metadata": {
        "id": "6gSuDi5QtD88"
      },
      "source": [
        "Use **pop** to \"pop off\" an item from the list. By default pop takes off the last index, but you can also specify which index to pop off. Let's see an example:"
      ]
    },
    {
      "cell_type": "code",
      "execution_count": null,
      "metadata": {
        "id": "ZrtWs0gPtD88",
        "colab": {
          "base_uri": "https://localhost:8080/"
        },
        "outputId": "3e7227f0-ecbf-400c-c73f-b0612d8ef12f"
      },
      "outputs": [
        {
          "output_type": "execute_result",
          "data": {
            "text/plain": [
              "1"
            ]
          },
          "metadata": {},
          "execution_count": 35
        }
      ],
      "source": [
        "# Pop off the 0 indexed item\n",
        "list1.pop(0)"
      ]
    },
    {
      "cell_type": "code",
      "execution_count": null,
      "metadata": {
        "id": "Z2LLCjMytD89",
        "colab": {
          "base_uri": "https://localhost:8080/"
        },
        "outputId": "d644da2a-9e76-450a-916e-473d815b5b03"
      },
      "outputs": [
        {
          "output_type": "execute_result",
          "data": {
            "text/plain": [
              "[1, 2]"
            ]
          },
          "metadata": {},
          "execution_count": 43
        }
      ],
      "source": [
        "# Show\n",
        "list1"
      ]
    },
    {
      "cell_type": "code",
      "execution_count": null,
      "metadata": {
        "collapsed": true,
        "id": "IsPY_r4ztD89"
      },
      "outputs": [],
      "source": [
        "# Assign the popped element, remember default popped index is -1\n",
        "popped_item = list1.pop()"
      ]
    },
    {
      "cell_type": "code",
      "execution_count": null,
      "metadata": {
        "id": "HZQ6DtzFtD8-",
        "colab": {
          "base_uri": "https://localhost:8080/"
        },
        "outputId": "7e5b6138-34c3-4f59-af9c-4b63f7e7515d"
      },
      "outputs": [
        {
          "output_type": "execute_result",
          "data": {
            "text/plain": [
              "2"
            ]
          },
          "metadata": {},
          "execution_count": 45
        }
      ],
      "source": [
        "popped_item"
      ]
    },
    {
      "cell_type": "code",
      "execution_count": null,
      "metadata": {
        "id": "WQ6Ztwg3tD8_",
        "colab": {
          "base_uri": "https://localhost:8080/"
        },
        "outputId": "a3a7ac48-a7ef-4613-d5c8-6144b01018b9"
      },
      "outputs": [
        {
          "output_type": "execute_result",
          "data": {
            "text/plain": [
              "[1]"
            ]
          },
          "metadata": {},
          "execution_count": 46
        }
      ],
      "source": [
        "# Show remaining list\n",
        "list1"
      ]
    },
    {
      "cell_type": "markdown",
      "metadata": {
        "id": "OMN50xsftD9B"
      },
      "source": [
        "It should also be noted that lists indexing will return an error if there is no element at that index. For example:"
      ]
    },
    {
      "cell_type": "code",
      "execution_count": null,
      "metadata": {
        "id": "LeSkkZwVtD9B",
        "colab": {
          "base_uri": "https://localhost:8080/",
          "height": 144
        },
        "outputId": "af030dc5-b498-4869-f11e-6937af9b133e"
      },
      "outputs": [
        {
          "output_type": "error",
          "ename": "IndexError",
          "evalue": "list index out of range",
          "traceback": [
            "\u001b[0;31m---------------------------------------------------------------------------\u001b[0m",
            "\u001b[0;31mIndexError\u001b[0m                                Traceback (most recent call last)",
            "\u001b[0;32m<ipython-input-47-af6d2015fa1f>\u001b[0m in \u001b[0;36m<cell line: 1>\u001b[0;34m()\u001b[0m\n\u001b[0;32m----> 1\u001b[0;31m \u001b[0mlist1\u001b[0m\u001b[0;34m[\u001b[0m\u001b[0;36m100\u001b[0m\u001b[0;34m]\u001b[0m\u001b[0;34m\u001b[0m\u001b[0;34m\u001b[0m\u001b[0m\n\u001b[0m",
            "\u001b[0;31mIndexError\u001b[0m: list index out of range"
          ]
        }
      ],
      "source": [
        "list1[100]"
      ]
    },
    {
      "cell_type": "markdown",
      "metadata": {
        "id": "bY_RCINFtD9C"
      },
      "source": [
        "We can use the **sort** method and the **reverse** methods to also effect your lists:"
      ]
    },
    {
      "cell_type": "code",
      "execution_count": null,
      "metadata": {
        "collapsed": true,
        "id": "fJu8kNustD9C"
      },
      "outputs": [],
      "source": [
        "new_list = ['a','e','x','b','c']"
      ]
    },
    {
      "cell_type": "code",
      "execution_count": null,
      "metadata": {
        "id": "nDZ0RDcAtD9D",
        "colab": {
          "base_uri": "https://localhost:8080/"
        },
        "outputId": "a45511a6-90dd-41b7-c781-fe16bec2bf1b"
      },
      "outputs": [
        {
          "output_type": "execute_result",
          "data": {
            "text/plain": [
              "['a', 'e', 'x', 'b', 'c']"
            ]
          },
          "metadata": {},
          "execution_count": 49
        }
      ],
      "source": [
        "#Show\n",
        "new_list"
      ]
    },
    {
      "cell_type": "code",
      "execution_count": null,
      "metadata": {
        "collapsed": true,
        "id": "832JZ4GptD9D"
      },
      "outputs": [],
      "source": [
        "# Use reverse to reverse order (this is permanent!)\n",
        "new_list.reverse()"
      ]
    },
    {
      "cell_type": "code",
      "execution_count": null,
      "metadata": {
        "id": "mVHz6CSBtD9E",
        "colab": {
          "base_uri": "https://localhost:8080/"
        },
        "outputId": "ec553758-1d4f-44b5-c9a7-9a6adf37ebfd"
      },
      "outputs": [
        {
          "output_type": "execute_result",
          "data": {
            "text/plain": [
              "['c', 'b', 'x', 'e', 'a']"
            ]
          },
          "metadata": {},
          "execution_count": 51
        }
      ],
      "source": [
        "new_list"
      ]
    },
    {
      "cell_type": "code",
      "execution_count": null,
      "metadata": {
        "collapsed": true,
        "id": "fn25P1p1tD9F"
      },
      "outputs": [],
      "source": [
        "# Use sort to sort the list (in this case alphabetical order, but for numbers it will go ascending)\n",
        "tt=new_list.sort()"
      ]
    },
    {
      "cell_type": "code",
      "source": [
        "print(tt)"
      ],
      "metadata": {
        "colab": {
          "base_uri": "https://localhost:8080/"
        },
        "id": "L0SZS0FaekcM",
        "outputId": "bda4af6b-e0de-41eb-ae7f-46220565b486"
      },
      "execution_count": null,
      "outputs": [
        {
          "output_type": "stream",
          "name": "stdout",
          "text": [
            "None\n"
          ]
        }
      ]
    },
    {
      "cell_type": "code",
      "execution_count": null,
      "metadata": {
        "id": "EyPAFKyMtD9F",
        "colab": {
          "base_uri": "https://localhost:8080/"
        },
        "outputId": "dc697948-5ac2-473c-8300-275ac95fa530"
      },
      "outputs": [
        {
          "output_type": "execute_result",
          "data": {
            "text/plain": [
              "['a', 'b', 'c', 'e', 'x']"
            ]
          },
          "metadata": {},
          "execution_count": 53
        }
      ],
      "source": [
        "new_list"
      ]
    },
    {
      "cell_type": "markdown",
      "metadata": {
        "id": "P5COZd-ZtD9G"
      },
      "source": [
        "## Nesting Lists\n",
        "A great feature of of Python data structures is that they support *nesting*. This means we can have data structures within data structures. For example: A list inside a list.\n",
        "\n",
        "Let's see how this works!"
      ]
    },
    {
      "cell_type": "code",
      "execution_count": null,
      "metadata": {
        "collapsed": true,
        "id": "bad_e5_ntD9G"
      },
      "outputs": [],
      "source": [
        "# Let's make three lists\n",
        "lst_1=[1,2,3]\n",
        "lst_2=[4,5,6]\n",
        "lst_3=[7,8,9]\n",
        "\n",
        "# Make a list of lists to form a matrix\n",
        "matrix = [lst_1,lst_2,lst_3]\n",
        "matrix = [[1,2,3],[4,5,6],[7,8,9]]"
      ]
    },
    {
      "cell_type": "code",
      "execution_count": null,
      "metadata": {
        "id": "PSOJtaOftD9G",
        "colab": {
          "base_uri": "https://localhost:8080/"
        },
        "outputId": "4a3e5254-aa19-4816-88ba-d5df26c170fc"
      },
      "outputs": [
        {
          "output_type": "execute_result",
          "data": {
            "text/plain": [
              "[[1, 2, 3], [4, 5, 6], [7, 8, 9]]"
            ]
          },
          "metadata": {},
          "execution_count": 66
        }
      ],
      "source": [
        "# Show\n",
        "matrix"
      ]
    },
    {
      "cell_type": "markdown",
      "metadata": {
        "id": "5Ro-ADbttD9G"
      },
      "source": [
        "We can again use indexing to grab elements, but now there are two levels for the index. The items in the matrix object, and then the items inside that list!"
      ]
    },
    {
      "cell_type": "code",
      "execution_count": null,
      "metadata": {
        "id": "DAdMeT5LtD9H",
        "colab": {
          "base_uri": "https://localhost:8080/"
        },
        "outputId": "69962373-582a-43ca-a968-86c14b002e35"
      },
      "outputs": [
        {
          "output_type": "execute_result",
          "data": {
            "text/plain": [
              "8"
            ]
          },
          "metadata": {},
          "execution_count": 63
        }
      ],
      "source": [
        "# Grab first item in matrix object\n",
        "matrix[2][1]"
      ]
    },
    {
      "cell_type": "code",
      "execution_count": null,
      "metadata": {
        "id": "8bzjDTihtD9H"
      },
      "outputs": [],
      "source": [
        "# Grab first item of the first item in the matrix object\n",
        "matrix[0][0]"
      ]
    },
    {
      "cell_type": "markdown",
      "metadata": {
        "id": "Trulv4GjtD9I"
      },
      "source": [
        "# List Comprehensions (optional)\n"
      ]
    },
    {
      "cell_type": "markdown",
      "source": [
        "Python has an advanced feature called list comprehensions. They allow for quick construction of lists. To fully understand list comprehensions we need to understand for loops. So don't worry if you don't completely understand this section, and feel free to just skip it since we will return to this topic later.\n",
        "\n",
        "But in case you want to know now, here are a few examples!"
      ],
      "metadata": {
        "id": "YgjlobpdTYpT"
      }
    },
    {
      "cell_type": "code",
      "execution_count": null,
      "metadata": {
        "collapsed": true,
        "id": "jqV6J2J9tD9I"
      },
      "outputs": [],
      "source": [
        "# Build a list comprehension by deconstructing a for loop within a []\n",
        "first_col = [row[0] for row in matrix] #it1: 1 it2:4 it:7"
      ]
    },
    {
      "cell_type": "code",
      "execution_count": null,
      "metadata": {
        "id": "6kPrL8YgtD9K",
        "colab": {
          "base_uri": "https://localhost:8080/"
        },
        "outputId": "a0cb29bd-2a15-4021-d907-eb8141aab195"
      },
      "outputs": [
        {
          "output_type": "execute_result",
          "data": {
            "text/plain": [
              "[1, 4, 7]"
            ]
          },
          "metadata": {},
          "execution_count": 68
        }
      ],
      "source": [
        "first_col"
      ]
    },
    {
      "cell_type": "markdown",
      "metadata": {
        "id": "cCVXGKuHtD9K"
      },
      "source": [
        "We used a list comprehension here to grab the first element of every row in the matrix object. We will cover this in much more detail later on!\n",
        "\n",
        "For more advanced methods and features of lists in Python, check out the Advanced Lists section later on in this course!"
      ]
    },
    {
      "cell_type": "markdown",
      "metadata": {
        "collapsed": true,
        "id": "Uishh4ehS6tT"
      },
      "source": [
        "## More List Comprehensions\n",
        "\n"
      ]
    },
    {
      "cell_type": "markdown",
      "source": [
        "In addition to sequence operations and list methods, Python includes a more advanced operation called a list comprehension.\n",
        "\n",
        "List comprehensions allow us to build out lists using a different notation. You can think of it as essentially a one line <code>for</code> loop built inside of brackets. For a simple example:\n",
        "## Example 1"
      ],
      "metadata": {
        "id": "n3CIrw6HTD3F"
      }
    },
    {
      "cell_type": "code",
      "execution_count": null,
      "metadata": {
        "collapsed": true,
        "id": "yKX8w93wS6tW"
      },
      "outputs": [],
      "source": [
        "# Grab every letter in string\n",
        "lst = [x for x in 'word']"
      ]
    },
    {
      "cell_type": "code",
      "execution_count": null,
      "metadata": {
        "id": "f8NHte8CS6tY",
        "colab": {
          "base_uri": "https://localhost:8080/"
        },
        "outputId": "7256ede9-c40a-44e1-e0ab-00d02ccc57d3"
      },
      "outputs": [
        {
          "output_type": "execute_result",
          "data": {
            "text/plain": [
              "['w', 'o', 'r', 'd']"
            ]
          },
          "metadata": {},
          "execution_count": 79
        }
      ],
      "source": [
        "# Check\n",
        "lst"
      ]
    },
    {
      "cell_type": "markdown",
      "metadata": {
        "id": "pZH4NI-wS6tb"
      },
      "source": [
        "This is the basic idea of a list comprehension. If you're familiar with mathematical notation this format should feel familiar for example: x^2 : x in { 0,1,2...10 }\n",
        "\n",
        "Let's see a few more examples of list comprehensions in Python:\n",
        "## Example 2"
      ]
    },
    {
      "cell_type": "code",
      "execution_count": null,
      "metadata": {
        "collapsed": true,
        "id": "tvTZ0QS3S6td"
      },
      "outputs": [],
      "source": [
        "# Square numbers in range and turn into list\n",
        "lst = [x**3 for x in [0,1,2,3,4,5,6,7,8,9,10]]"
      ]
    },
    {
      "cell_type": "code",
      "execution_count": null,
      "metadata": {
        "id": "kZ6Awg1GS6te",
        "colab": {
          "base_uri": "https://localhost:8080/"
        },
        "outputId": "102e13c9-51b5-44a2-8834-9478fc0db75c"
      },
      "outputs": [
        {
          "output_type": "execute_result",
          "data": {
            "text/plain": [
              "[0, 1, 8, 27, 64, 125, 216, 343, 512, 729, 1000]"
            ]
          },
          "metadata": {},
          "execution_count": 85
        }
      ],
      "source": [
        "lst"
      ]
    },
    {
      "cell_type": "markdown",
      "metadata": {
        "id": "SasTbzFIS6tf"
      },
      "source": [
        "## Example 3\n",
        "Let's see how to add in <code>if</code> statements:"
      ]
    },
    {
      "cell_type": "code",
      "execution_count": null,
      "metadata": {
        "collapsed": true,
        "id": "HJ09x_1BS6tg"
      },
      "outputs": [],
      "source": [
        "# Check for even numbers in a range\n",
        "lst = [x for x in range(11) if x % 2 == 0] # 0 2"
      ]
    },
    {
      "cell_type": "code",
      "execution_count": null,
      "metadata": {
        "id": "XiChfDIeS6ti",
        "colab": {
          "base_uri": "https://localhost:8080/"
        },
        "outputId": "49595066-008e-43ef-d4a7-aaee759e62de"
      },
      "outputs": [
        {
          "output_type": "execute_result",
          "data": {
            "text/plain": [
              "[0, 2, 4, 6, 8, 10]"
            ]
          },
          "metadata": {},
          "execution_count": 87
        }
      ],
      "source": [
        "lst"
      ]
    },
    {
      "cell_type": "markdown",
      "metadata": {
        "id": "JEDXaGEfS6tj"
      },
      "source": [
        "## Example 4\n",
        "Can also do more complicated arithmetic:"
      ]
    },
    {
      "cell_type": "code",
      "execution_count": null,
      "metadata": {
        "id": "MAZzdbF-S6tk"
      },
      "outputs": [],
      "source": [
        "# Convert Celsius to Fahrenheit\n",
        "celsius = [0,10,20.1,34.5]\n",
        "\n",
        "fahrenheit = [((9/5)*temp + 32) for temp in celsius ]\n",
        "\n",
        "fahrenheit"
      ]
    },
    {
      "cell_type": "markdown",
      "metadata": {
        "id": "DS3Numl-S6tl"
      },
      "source": [
        "## Example 5\n",
        "We can also perform nested list comprehensions, for example:"
      ]
    },
    {
      "cell_type": "code",
      "execution_count": null,
      "metadata": {
        "id": "m5OYzF58S6tl"
      },
      "outputs": [],
      "source": [
        "lst = [ x**2 for x in [x**2 for x in range(11)]]\n",
        "lst"
      ]
    },
    {
      "cell_type": "markdown",
      "metadata": {
        "id": "5MXdECHWS6tm"
      },
      "source": [
        "Later on in the course we will learn about generator comprehensions. After this lecture you should feel comfortable reading and writing basic list comprehensions."
      ]
    },
    {
      "cell_type": "markdown",
      "source": [],
      "metadata": {
        "id": "w2lqeqMgTCqr"
      }
    },
    {
      "cell_type": "markdown",
      "metadata": {
        "id": "FIzEMyUbtjaD"
      },
      "source": [
        "# Dictionaries\n",
        "\n"
      ]
    },
    {
      "cell_type": "markdown",
      "source": [
        "We've been learning about *sequences* in Python but now we're going to switch gears and learn about *mappings* in Python. If you're familiar with other languages you can think of these Dictionaries as hash tables.\n",
        "\n",
        "This section will serve as a brief introduction to dictionaries and consist of:\n",
        "\n",
        "    1.) Constructing a Dictionary\n",
        "    2.) Accessing objects from a dictionary\n",
        "    3.) Nesting Dictionaries\n",
        "    4.) Basic Dictionary Methods\n",
        "\n",
        "So what are mappings? Mappings are a collection of objects that are stored by a *key*, unlike a sequence that stored objects by their relative position. This is an important distinction, since mappings won't retain order since they have objects defined by a key.\n",
        "\n",
        "A Python dictionary consists of a key and then an associated value. That value can be almost any Python object.\n",
        "\n",
        "\n",
        "## Constructing a Dictionary\n",
        "Let's see how we can construct dictionaries to get a better understanding of how they work!"
      ],
      "metadata": {
        "id": "eAq0F8Njtsap"
      }
    },
    {
      "cell_type": "code",
      "execution_count": null,
      "metadata": {
        "collapsed": true,
        "id": "eMz36nLXtjaG",
        "outputId": "f566dedc-acc9-4146-bd7b-33d3ede7f911",
        "colab": {
          "base_uri": "https://localhost:8080/",
          "height": 162
        }
      },
      "outputs": [
        {
          "output_type": "error",
          "ename": "TypeError",
          "evalue": "unhashable type: 'list'",
          "traceback": [
            "\u001b[0;31m---------------------------------------------------------------------------\u001b[0m",
            "\u001b[0;31mTypeError\u001b[0m                                 Traceback (most recent call last)",
            "\u001b[0;32m<ipython-input-3-4ccaedf212a1>\u001b[0m in \u001b[0;36m<cell line: 2>\u001b[0;34m()\u001b[0m\n\u001b[1;32m      1\u001b[0m \u001b[0;31m# Make a dictionary with {} and : to signify a key and a value\u001b[0m\u001b[0;34m\u001b[0m\u001b[0;34m\u001b[0m\u001b[0m\n\u001b[0;32m----> 2\u001b[0;31m \u001b[0mmy_dict\u001b[0m \u001b[0;34m=\u001b[0m \u001b[0;34m{\u001b[0m\u001b[0;34m[\u001b[0m\u001b[0;36m1\u001b[0m\u001b[0;34m,\u001b[0m\u001b[0;36m2\u001b[0m\u001b[0;34m]\u001b[0m\u001b[0;34m:\u001b[0m\u001b[0;34m'value1'\u001b[0m\u001b[0;34m,\u001b[0m\u001b[0;34m'key2'\u001b[0m\u001b[0;34m:\u001b[0m\u001b[0;34m'value2'\u001b[0m\u001b[0;34m}\u001b[0m\u001b[0;34m\u001b[0m\u001b[0;34m\u001b[0m\u001b[0m\n\u001b[0m",
            "\u001b[0;31mTypeError\u001b[0m: unhashable type: 'list'"
          ]
        }
      ],
      "source": [
        "# Make a dictionary with {} and : to signify a key and a value\n",
        "my_dict = {[1,2]:'value1','key2':'value2'}"
      ]
    },
    {
      "cell_type": "code",
      "execution_count": null,
      "metadata": {
        "id": "W_JKK0kKtjaJ",
        "colab": {
          "base_uri": "https://localhost:8080/"
        },
        "outputId": "9790571e-0a06-4d66-add4-8ea539b9c9c6"
      },
      "outputs": [
        {
          "output_type": "execute_result",
          "data": {
            "text/plain": [
              "{'key1': 'value1', 'key2': 'value2'}"
            ]
          },
          "metadata": {},
          "execution_count": 2
        }
      ],
      "source": [
        "# Call values by their key\n",
        "my_dict"
      ]
    },
    {
      "cell_type": "markdown",
      "metadata": {
        "id": "wyASGAy4tjaM"
      },
      "source": [
        "Its important to note that dictionaries are very flexible in the data types they can hold. For example:"
      ]
    },
    {
      "cell_type": "code",
      "execution_count": null,
      "metadata": {
        "collapsed": true,
        "id": "n9WQDnXitjaN"
      },
      "outputs": [],
      "source": [
        "my_dict = {'key1':123,'key2':[12,23,33],'key3':['item0','item1','item2']}"
      ]
    },
    {
      "cell_type": "code",
      "execution_count": null,
      "metadata": {
        "id": "su0I2dTJtjaO",
        "colab": {
          "base_uri": "https://localhost:8080/"
        },
        "outputId": "52d45296-26ae-41bf-8151-b281c9ac177d"
      },
      "outputs": [
        {
          "output_type": "execute_result",
          "data": {
            "text/plain": [
              "['item0', 'item1', 'item2']"
            ]
          },
          "metadata": {},
          "execution_count": 93
        }
      ],
      "source": [
        "# Let's call items from the dictionary\n",
        "my_dict['key3']"
      ]
    },
    {
      "cell_type": "code",
      "execution_count": null,
      "metadata": {
        "id": "MJiCPBhJtjaP",
        "colab": {
          "base_uri": "https://localhost:8080/",
          "height": 35
        },
        "outputId": "767c0b68-c130-43d8-e2eb-7add4a0a0a0e"
      },
      "outputs": [
        {
          "output_type": "execute_result",
          "data": {
            "text/plain": [
              "'item0'"
            ],
            "application/vnd.google.colaboratory.intrinsic+json": {
              "type": "string"
            }
          },
          "metadata": {},
          "execution_count": 94
        }
      ],
      "source": [
        "# Can call an index on that value\n",
        "my_dict['key3'][0]"
      ]
    },
    {
      "cell_type": "code",
      "execution_count": null,
      "metadata": {
        "id": "y1nBr791tjaQ",
        "colab": {
          "base_uri": "https://localhost:8080/",
          "height": 35
        },
        "outputId": "33910104-bf2d-4658-a497-3da5e3c2f2b7"
      },
      "outputs": [
        {
          "output_type": "execute_result",
          "data": {
            "text/plain": [
              "'ITEM0'"
            ],
            "application/vnd.google.colaboratory.intrinsic+json": {
              "type": "string"
            }
          },
          "metadata": {},
          "execution_count": 95
        }
      ],
      "source": [
        "# Can then even call methods on that value\n",
        "my_dict['key3'][0].upper()"
      ]
    },
    {
      "cell_type": "markdown",
      "metadata": {
        "id": "MvHDn7BitjaS"
      },
      "source": [
        "We can affect the values of a key as well. For instance:"
      ]
    },
    {
      "cell_type": "code",
      "execution_count": null,
      "metadata": {
        "id": "I5ReEf5JtjaT",
        "colab": {
          "base_uri": "https://localhost:8080/"
        },
        "outputId": "dcbceb73-41c7-4cdf-882f-1f208d5e6b8c"
      },
      "outputs": [
        {
          "output_type": "execute_result",
          "data": {
            "text/plain": [
              "123"
            ]
          },
          "metadata": {},
          "execution_count": 96
        }
      ],
      "source": [
        "my_dict['key1']"
      ]
    },
    {
      "cell_type": "code",
      "execution_count": null,
      "metadata": {
        "collapsed": true,
        "id": "wEpS10ritjaU"
      },
      "outputs": [],
      "source": [
        "# Subtract 123 from the value\n",
        "my_dict['key1'] = my_dict['key1'] - 123"
      ]
    },
    {
      "cell_type": "code",
      "execution_count": null,
      "metadata": {
        "id": "W77v9ikvtjaV",
        "colab": {
          "base_uri": "https://localhost:8080/"
        },
        "outputId": "adcd3355-7a07-48c0-e654-749e58939c2a"
      },
      "outputs": [
        {
          "output_type": "execute_result",
          "data": {
            "text/plain": [
              "0"
            ]
          },
          "metadata": {},
          "execution_count": 98
        }
      ],
      "source": [
        "#Check\n",
        "my_dict['key1']"
      ]
    },
    {
      "cell_type": "markdown",
      "metadata": {
        "id": "bGeiqsEGtjaW"
      },
      "source": [
        "A quick note, Python has a built-in method of doing a self subtraction or addition (or multiplication or division). We could have also used += or -= for the above statement. For example:"
      ]
    },
    {
      "cell_type": "code",
      "execution_count": null,
      "metadata": {
        "id": "0OeNaKLEtjaX"
      },
      "outputs": [],
      "source": [
        "# Set the object equal to itself minus 123\n",
        "my_dict['key1'] -= 123\n",
        "my_dict['key1']"
      ]
    },
    {
      "cell_type": "markdown",
      "metadata": {
        "id": "LCPDKhM4tjaX"
      },
      "source": [
        "We can also create keys by assignment. For instance if we started off with an empty dictionary, we could continually add to it:"
      ]
    },
    {
      "cell_type": "code",
      "execution_count": null,
      "metadata": {
        "collapsed": true,
        "id": "tiiVnF6GtjaY"
      },
      "outputs": [],
      "source": [
        "# Create a new dictionary\n",
        "d = {}"
      ]
    },
    {
      "cell_type": "code",
      "execution_count": null,
      "metadata": {
        "collapsed": true,
        "id": "S9ivmLv8tjaZ"
      },
      "outputs": [],
      "source": [
        "# Create a new key through assignment\n",
        "d['animal'] = 'Dog'"
      ]
    },
    {
      "cell_type": "code",
      "execution_count": null,
      "metadata": {
        "collapsed": true,
        "id": "dleAubsMtjaa"
      },
      "outputs": [],
      "source": [
        "# Can do this with any object\n",
        "d[(1,2)] = 42"
      ]
    },
    {
      "cell_type": "code",
      "execution_count": null,
      "metadata": {
        "id": "-67MUdTatjab",
        "colab": {
          "base_uri": "https://localhost:8080/"
        },
        "outputId": "2609763a-091e-4e5f-f4f4-11212f1f9eee"
      },
      "outputs": [
        {
          "output_type": "execute_result",
          "data": {
            "text/plain": [
              "{'animal': 'Dog', 1: 42, 0.2: 42, (1, 2): 42}"
            ]
          },
          "metadata": {},
          "execution_count": 18
        }
      ],
      "source": [
        "#Show\n",
        "d"
      ]
    },
    {
      "cell_type": "markdown",
      "metadata": {
        "id": "bEV36yVStjac"
      },
      "source": [
        "## Nesting with Dictionaries\n",
        "\n",
        "Hopefully you're starting to see how powerful Python is with its flexibility of nesting objects and calling methods on them. Let's see a dictionary nested inside a dictionary:"
      ]
    },
    {
      "cell_type": "code",
      "execution_count": null,
      "metadata": {
        "collapsed": true,
        "id": "7tx6_Ks4tjad",
        "colab": {
          "base_uri": "https://localhost:8080/",
          "height": 162
        },
        "outputId": "e3066798-d058-48bb-f988-c97dca70b9fe"
      },
      "outputs": [
        {
          "output_type": "error",
          "ename": "TypeError",
          "evalue": "unhashable type: 'dict'",
          "traceback": [
            "\u001b[0;31m---------------------------------------------------------------------------\u001b[0m",
            "\u001b[0;31mTypeError\u001b[0m                                 Traceback (most recent call last)",
            "\u001b[0;32m<ipython-input-148-91a11d7c2b8f>\u001b[0m in \u001b[0;36m<cell line: 2>\u001b[0;34m()\u001b[0m\n\u001b[1;32m      1\u001b[0m \u001b[0;31m# Dictionary nested inside a dictionary nested inside a dictionary\u001b[0m\u001b[0;34m\u001b[0m\u001b[0;34m\u001b[0m\u001b[0m\n\u001b[0;32m----> 2\u001b[0;31m \u001b[0md\u001b[0m \u001b[0;34m=\u001b[0m \u001b[0;34m{\u001b[0m\u001b[0;34m{\u001b[0m\u001b[0;34m'subnestkey'\u001b[0m\u001b[0;34m:\u001b[0m\u001b[0;34m'value'\u001b[0m\u001b[0;34m}\u001b[0m\u001b[0;34m:\u001b[0m\u001b[0;34m{\u001b[0m\u001b[0;34m'nestkey'\u001b[0m\u001b[0;34m:\u001b[0m\u001b[0;34m{\u001b[0m\u001b[0;34m'subnestkey'\u001b[0m\u001b[0;34m:\u001b[0m\u001b[0;34m'value'\u001b[0m\u001b[0;34m}\u001b[0m\u001b[0;34m}\u001b[0m\u001b[0;34m}\u001b[0m\u001b[0;34m\u001b[0m\u001b[0;34m\u001b[0m\u001b[0m\n\u001b[0m",
            "\u001b[0;31mTypeError\u001b[0m: unhashable type: 'dict'"
          ]
        }
      ],
      "source": [
        "# Dictionary nested inside a dictionary nested inside a dictionary\n",
        "d = {[1,2]:{'nestkey':{'subnestkey':'value'}}}"
      ]
    },
    {
      "cell_type": "markdown",
      "metadata": {
        "id": "9bUzQa-7tjad"
      },
      "source": [
        "Wow! That's a quite the inception of dictionaries! Let's see how we can grab that value:"
      ]
    },
    {
      "cell_type": "code",
      "execution_count": null,
      "metadata": {
        "id": "egST1hvetjae"
      },
      "outputs": [],
      "source": [
        "# Keep calling the keys\n",
        "d['key1']['nestkey']['subnestkey']"
      ]
    },
    {
      "cell_type": "markdown",
      "metadata": {
        "id": "1qP7hBN_tjae"
      },
      "source": [
        "## A few Dictionary Methods\n",
        "\n",
        "There are a few methods we can call on a dictionary. Let's get a quick introduction to a few of them:"
      ]
    },
    {
      "cell_type": "code",
      "execution_count": null,
      "metadata": {
        "collapsed": true,
        "id": "_vEN6P7dtjaf"
      },
      "outputs": [],
      "source": [
        "# Create a typical dictionary\n",
        "d = {'key1':1,'key2':2,'key3':3}"
      ]
    },
    {
      "cell_type": "code",
      "execution_count": null,
      "metadata": {
        "id": "J5xlW5tHtjaf",
        "colab": {
          "base_uri": "https://localhost:8080/"
        },
        "outputId": "4068b15d-f657-4b8b-f0e1-50e5a95a9479"
      },
      "outputs": [
        {
          "output_type": "execute_result",
          "data": {
            "text/plain": [
              "dict_keys(['key1', 'key2', 'key3'])"
            ]
          },
          "metadata": {},
          "execution_count": 104
        }
      ],
      "source": [
        "# Method to return a list of all keys\n",
        "d.keys()"
      ]
    },
    {
      "cell_type": "code",
      "execution_count": null,
      "metadata": {
        "id": "l-nFF9Nwtjag",
        "colab": {
          "base_uri": "https://localhost:8080/"
        },
        "outputId": "7b2c3d41-4c78-4c59-8195-0e9433ba31f4"
      },
      "outputs": [
        {
          "output_type": "execute_result",
          "data": {
            "text/plain": [
              "dict_values([1, 2, 3])"
            ]
          },
          "metadata": {},
          "execution_count": 105
        }
      ],
      "source": [
        "# Method to grab all values\n",
        "d.values()"
      ]
    },
    {
      "cell_type": "code",
      "execution_count": null,
      "metadata": {
        "id": "D0i1PQyNtjag",
        "colab": {
          "base_uri": "https://localhost:8080/"
        },
        "outputId": "2286a403-c7f6-4b0d-d4ee-03a525d39a52"
      },
      "outputs": [
        {
          "output_type": "execute_result",
          "data": {
            "text/plain": [
              "dict_items([('key1', 1), ('key2', 2), ('key3', 3)])"
            ]
          },
          "metadata": {},
          "execution_count": 106
        }
      ],
      "source": [
        "# Method to return tuples of all items  (we'll learn about tuples soon)\n",
        "d.items()"
      ]
    },
    {
      "cell_type": "markdown",
      "metadata": {
        "id": "3QfgKYrztjah"
      },
      "source": [
        "Hopefully you now have a good basic understanding how to construct dictionaries. There's a lot more to go into here, but we will revisit dictionaries at later time. After this section all you need to know is how to create a dictionary and how to retrieve values from it."
      ]
    },
    {
      "cell_type": "markdown",
      "source": [],
      "metadata": {
        "id": "8hbv8dUnPFS7"
      }
    },
    {
      "cell_type": "markdown",
      "metadata": {
        "id": "-qqzLkKJPB4H"
      },
      "source": [
        "# Tuples\n",
        "\n"
      ]
    },
    {
      "cell_type": "markdown",
      "source": [
        "In Python tuples are very similar to lists, however, unlike lists they are *immutable* meaning they can not be changed. You would use tuples to present things that shouldn't be changed, such as days of the week, or dates on a calendar.\n",
        "\n",
        "In this section, we will get a brief overview of the following:\n",
        "\n",
        "    1.) Constructing Tuples\n",
        "    2.) Basic Tuple Methods\n",
        "    3.) Immutability\n",
        "    4.) When to Use Tuples\n",
        "\n",
        "You'll have an intuition of how to use tuples based on what you've learned about lists. We can treat them very similarly with the major distinction being that tuples are immutable.\n",
        "\n",
        "## Constructing Tuples\n",
        "\n",
        "The construction of a tuples use () with elements separated by commas. For example:"
      ],
      "metadata": {
        "id": "Ht1YWRjWPLhZ"
      }
    },
    {
      "cell_type": "code",
      "execution_count": null,
      "metadata": {
        "collapsed": true,
        "id": "bopsMhpKPB4J",
        "colab": {
          "base_uri": "https://localhost:8080/"
        },
        "outputId": "00935fd4-f4d3-47ca-98a2-fd4c82450c20"
      },
      "outputs": [
        {
          "output_type": "execute_result",
          "data": {
            "text/plain": [
              "(1, 2, 3)"
            ]
          },
          "metadata": {},
          "execution_count": 109
        }
      ],
      "source": [
        "# Create a tuple\n",
        "t = (1,2,3)\n",
        "t"
      ]
    },
    {
      "cell_type": "code",
      "source": [
        "x, d, r = t\n",
        "\n",
        "print(x)\n",
        "print(d)\n",
        "print(r)"
      ],
      "metadata": {
        "colab": {
          "base_uri": "https://localhost:8080/"
        },
        "id": "8OerS06rMi3T",
        "outputId": "bfabc1f7-cb75-4e4e-a1a4-3b20db8ae2bc"
      },
      "execution_count": null,
      "outputs": [
        {
          "output_type": "stream",
          "name": "stdout",
          "text": [
            "1\n",
            "2\n",
            "3\n"
          ]
        }
      ]
    },
    {
      "cell_type": "code",
      "execution_count": null,
      "metadata": {
        "id": "GuDVBy70PB4M",
        "colab": {
          "base_uri": "https://localhost:8080/"
        },
        "outputId": "1fc39c29-2fe1-45ad-accd-c9fc8d3ae3ef"
      },
      "outputs": [
        {
          "output_type": "execute_result",
          "data": {
            "text/plain": [
              "3"
            ]
          },
          "metadata": {},
          "execution_count": 113
        }
      ],
      "source": [
        "# Check len just like a list\n",
        "len(t)"
      ]
    },
    {
      "cell_type": "code",
      "execution_count": null,
      "metadata": {
        "id": "fGnDyRVAPB4O",
        "colab": {
          "base_uri": "https://localhost:8080/"
        },
        "outputId": "9a21ce89-a1e9-42aa-8c3f-e78a3a42d19e"
      },
      "outputs": [
        {
          "output_type": "execute_result",
          "data": {
            "text/plain": [
              "('one', 2, 'one')"
            ]
          },
          "metadata": {},
          "execution_count": 119
        }
      ],
      "source": [
        "# Can also mix object types\n",
        "t = ('one',2,'one')\n",
        "\n",
        "# Show\n",
        "t"
      ]
    },
    {
      "cell_type": "code",
      "execution_count": null,
      "metadata": {
        "id": "y8T2NHjCPB4P",
        "colab": {
          "base_uri": "https://localhost:8080/",
          "height": 35
        },
        "outputId": "a4fe8bcd-7a91-4da6-f512-29b8319ae099"
      },
      "outputs": [
        {
          "output_type": "execute_result",
          "data": {
            "text/plain": [
              "'one'"
            ],
            "application/vnd.google.colaboratory.intrinsic+json": {
              "type": "string"
            }
          },
          "metadata": {},
          "execution_count": 115
        }
      ],
      "source": [
        "# Use indexing just like we did in lists\n",
        "t[0]"
      ]
    },
    {
      "cell_type": "code",
      "execution_count": null,
      "metadata": {
        "id": "Vn2kAwV_PB4Q",
        "colab": {
          "base_uri": "https://localhost:8080/"
        },
        "outputId": "a5d99b20-5ff2-4696-c1c0-d381914ed2ff"
      },
      "outputs": [
        {
          "output_type": "execute_result",
          "data": {
            "text/plain": [
              "2"
            ]
          },
          "metadata": {},
          "execution_count": 116
        }
      ],
      "source": [
        "# Slicing just like a list\n",
        "t[-1]"
      ]
    },
    {
      "cell_type": "markdown",
      "metadata": {
        "id": "ACeYTsTIPB4R"
      },
      "source": [
        "## Basic Tuple Methods\n",
        "\n",
        "Tuples have built-in methods, but not as many as lists do. Let's look at two of them:"
      ]
    },
    {
      "cell_type": "code",
      "execution_count": null,
      "metadata": {
        "id": "uPUus_xVPB4S",
        "colab": {
          "base_uri": "https://localhost:8080/"
        },
        "outputId": "12aad87c-9d5e-4a44-8e04-25ec86be2c52"
      },
      "outputs": [
        {
          "output_type": "execute_result",
          "data": {
            "text/plain": [
              "0"
            ]
          },
          "metadata": {},
          "execution_count": 121
        }
      ],
      "source": [
        "# Use .index to enter a value and return the index\n",
        "t.index('one')"
      ]
    },
    {
      "cell_type": "code",
      "execution_count": null,
      "metadata": {
        "id": "vB8uiCUPPB4U",
        "colab": {
          "base_uri": "https://localhost:8080/"
        },
        "outputId": "d38efa38-3052-49e9-b62f-b0f72c88c1b3"
      },
      "outputs": [
        {
          "output_type": "execute_result",
          "data": {
            "text/plain": [
              "2"
            ]
          },
          "metadata": {},
          "execution_count": 120
        }
      ],
      "source": [
        "# Use .count to count the number of times a value appears\n",
        "t.count('one')"
      ]
    },
    {
      "cell_type": "markdown",
      "metadata": {
        "id": "FrL7GKKfPB4Y"
      },
      "source": [
        "## Immutability\n",
        "\n",
        "It can't be stressed enough that tuples are immutable. To drive that point home:"
      ]
    },
    {
      "cell_type": "code",
      "execution_count": null,
      "metadata": {
        "id": "0tOowG02PB4Z",
        "colab": {
          "base_uri": "https://localhost:8080/",
          "height": 144
        },
        "outputId": "c8e344db-654c-46d8-9dc8-ee739474fb2a"
      },
      "outputs": [
        {
          "output_type": "error",
          "ename": "TypeError",
          "evalue": "'tuple' object does not support item assignment",
          "traceback": [
            "\u001b[0;31m---------------------------------------------------------------------------\u001b[0m",
            "\u001b[0;31mTypeError\u001b[0m                                 Traceback (most recent call last)",
            "\u001b[0;32m<ipython-input-122-1257c0aa9edd>\u001b[0m in \u001b[0;36m<cell line: 1>\u001b[0;34m()\u001b[0m\n\u001b[0;32m----> 1\u001b[0;31m \u001b[0mt\u001b[0m\u001b[0;34m[\u001b[0m\u001b[0;36m0\u001b[0m\u001b[0;34m]\u001b[0m\u001b[0;34m=\u001b[0m \u001b[0;34m'change'\u001b[0m\u001b[0;34m\u001b[0m\u001b[0;34m\u001b[0m\u001b[0m\n\u001b[0m",
            "\u001b[0;31mTypeError\u001b[0m: 'tuple' object does not support item assignment"
          ]
        }
      ],
      "source": [
        "t[0]= 'change'"
      ]
    },
    {
      "cell_type": "markdown",
      "metadata": {
        "id": "VxbifRqqPB4a"
      },
      "source": [
        "Because of this immutability, tuples can't grow. Once a tuple is made we can not add to it."
      ]
    },
    {
      "cell_type": "code",
      "execution_count": null,
      "metadata": {
        "id": "NYcopZ9pPB4a",
        "colab": {
          "base_uri": "https://localhost:8080/"
        },
        "outputId": "ba703621-0a3b-49dc-d30e-cedce7a1ee8d"
      },
      "outputs": [
        {
          "output_type": "execute_result",
          "data": {
            "text/plain": [
              "('one', 2, 'one', 1, 2)"
            ]
          },
          "metadata": {},
          "execution_count": 125
        }
      ],
      "source": [
        "t+(1,2)"
      ]
    },
    {
      "cell_type": "markdown",
      "metadata": {
        "id": "yXzOWWM6PB4c"
      },
      "source": [
        "## When to use Tuples\n",
        "\n",
        "You may be wondering, \"Why bother using tuples when they have fewer available methods?\" To be honest, tuples are not used as often as lists in programming, but are used when immutability is necessary. If in your program you are passing around an object and need to make sure it does not get changed, then a tuple becomes your solution. It provides a convenient source of data integrity.\n",
        "\n",
        "You should now be able to create and use tuples in your programming as well as have an understanding of their immutability.\n",
        "\n",
        "Up next Files!"
      ]
    },
    {
      "cell_type": "markdown",
      "source": [],
      "metadata": {
        "id": "2mvVQMRGPZgd"
      }
    },
    {
      "cell_type": "markdown",
      "metadata": {
        "id": "jEi52Zw5PWYA"
      },
      "source": [
        "# Set and Booleans\n",
        "\n"
      ]
    },
    {
      "cell_type": "markdown",
      "source": [
        "There are two other object types in Python that we should quickly cover: Sets and Booleans.\n",
        "\n",
        "## Sets\n",
        "\n",
        "Sets are an unordered collection of *unique* elements. We can construct them by using the set() function. Let's go ahead and make a set to see how it works"
      ],
      "metadata": {
        "id": "rhtOS7clPeU_"
      }
    },
    {
      "cell_type": "markdown",
      "source": [
        "x = set()"
      ],
      "metadata": {
        "id": "si1mOEMzPWYE"
      }
    },
    {
      "cell_type": "code",
      "source": [
        "x = set()\n",
        "x"
      ],
      "metadata": {
        "colab": {
          "base_uri": "https://localhost:8080/"
        },
        "id": "UapQZmUhnyMH",
        "outputId": "db6e0aaf-9916-41f9-b79d-b599cc184aaf"
      },
      "execution_count": null,
      "outputs": [
        {
          "output_type": "execute_result",
          "data": {
            "text/plain": [
              "set()"
            ]
          },
          "metadata": {},
          "execution_count": 1
        }
      ]
    },
    {
      "cell_type": "code",
      "execution_count": null,
      "metadata": {
        "collapsed": true,
        "id": "Si8t-XpFPWYG",
        "colab": {
          "base_uri": "https://localhost:8080/"
        },
        "outputId": "277ef199-924d-4ed8-d459-81b7a2dccbbf"
      },
      "outputs": [
        {
          "output_type": "stream",
          "name": "stdout",
          "text": [
            "{1, 2, 3}\n"
          ]
        }
      ],
      "source": [
        "# We add to sets with the add() method\n",
        "\n",
        "\n",
        "x.add(1)\n",
        "x.add(2)\n",
        "print(x)"
      ]
    },
    {
      "cell_type": "code",
      "execution_count": null,
      "metadata": {
        "id": "wlUE7fnbPWYI"
      },
      "outputs": [],
      "source": [
        "#Show\n",
        "x.add(3)"
      ]
    },
    {
      "cell_type": "code",
      "source": [
        "x.add(3)"
      ],
      "metadata": {
        "id": "pRYgWJVyoClj"
      },
      "execution_count": null,
      "outputs": []
    },
    {
      "cell_type": "code",
      "source": [
        "x"
      ],
      "metadata": {
        "colab": {
          "base_uri": "https://localhost:8080/"
        },
        "id": "LBK4_sv8oA2I",
        "outputId": "bea7b509-b323-4fe9-e7ed-d523aa58001f"
      },
      "execution_count": null,
      "outputs": [
        {
          "output_type": "execute_result",
          "data": {
            "text/plain": [
              "{1, 2, 3}"
            ]
          },
          "metadata": {},
          "execution_count": 6
        }
      ]
    },
    {
      "cell_type": "markdown",
      "metadata": {
        "id": "aqh8h9F3PWYJ"
      },
      "source": [
        "Note the curly brackets. This does not indicate a dictionary! Although you can draw analogies as a set being a dictionary with only keys.\n",
        "\n",
        "We know that a set has only unique entries. So what happens when we try to add something that is already in a set?"
      ]
    },
    {
      "cell_type": "code",
      "execution_count": null,
      "metadata": {
        "collapsed": true,
        "id": "00TSJy3dPWYK"
      },
      "outputs": [],
      "source": [
        "# Add a different element\n",
        "x.add(2)"
      ]
    },
    {
      "cell_type": "code",
      "execution_count": null,
      "metadata": {
        "id": "rPveQi26PWYL",
        "colab": {
          "base_uri": "https://localhost:8080/"
        },
        "outputId": "e5b63484-5b26-4713-fce0-b051df4d0b9a"
      },
      "outputs": [
        {
          "output_type": "execute_result",
          "data": {
            "text/plain": [
              "{1, 2, 3}"
            ]
          },
          "metadata": {},
          "execution_count": 135
        }
      ],
      "source": [
        "#Show\n",
        "x"
      ]
    },
    {
      "cell_type": "code",
      "execution_count": null,
      "metadata": {
        "collapsed": true,
        "id": "AzddPYSePWYL",
        "colab": {
          "base_uri": "https://localhost:8080/",
          "height": 180
        },
        "outputId": "0a9ce7cc-2588-4eeb-c65e-10c49d798f2d"
      },
      "outputs": [
        {
          "output_type": "error",
          "ename": "TypeError",
          "evalue": "unhashable type: 'list'",
          "traceback": [
            "\u001b[0;31m---------------------------------------------------------------------------\u001b[0m",
            "\u001b[0;31mTypeError\u001b[0m                                 Traceback (most recent call last)",
            "\u001b[0;32m<ipython-input-7-947b09f51167>\u001b[0m in \u001b[0;36m<cell line: 3>\u001b[0;34m()\u001b[0m\n\u001b[1;32m      1\u001b[0m \u001b[0;31m# Try to add the same element\u001b[0m\u001b[0;34m\u001b[0m\u001b[0;34m\u001b[0m\u001b[0m\n\u001b[1;32m      2\u001b[0m \u001b[0mx\u001b[0m\u001b[0;34m.\u001b[0m\u001b[0madd\u001b[0m\u001b[0;34m(\u001b[0m\u001b[0;36m1\u001b[0m\u001b[0;34m)\u001b[0m\u001b[0;34m\u001b[0m\u001b[0;34m\u001b[0m\u001b[0m\n\u001b[0;32m----> 3\u001b[0;31m \u001b[0mx\u001b[0m\u001b[0;34m.\u001b[0m\u001b[0madd\u001b[0m\u001b[0;34m(\u001b[0m\u001b[0;34m[\u001b[0m\u001b[0;36m2\u001b[0m\u001b[0;34m,\u001b[0m\u001b[0;36m3\u001b[0m\u001b[0;34m]\u001b[0m\u001b[0;34m)\u001b[0m\u001b[0;34m\u001b[0m\u001b[0;34m\u001b[0m\u001b[0m\n\u001b[0m",
            "\u001b[0;31mTypeError\u001b[0m: unhashable type: 'list'"
          ]
        }
      ],
      "source": [
        "# Try to add the same element\n",
        "x.add(1)\n",
        "x.add([2,3])"
      ]
    },
    {
      "cell_type": "code",
      "execution_count": null,
      "metadata": {
        "id": "uAAEq9HVPWYN",
        "colab": {
          "base_uri": "https://localhost:8080/"
        },
        "outputId": "5ddc2db4-986c-4c37-d079-c6dbade736c6"
      },
      "outputs": [
        {
          "output_type": "execute_result",
          "data": {
            "text/plain": [
              "{1, 2, 3}"
            ]
          },
          "metadata": {},
          "execution_count": 137
        }
      ],
      "source": [
        "#Show\n",
        "x"
      ]
    },
    {
      "cell_type": "markdown",
      "metadata": {
        "id": "l4GQKgnqPWYQ"
      },
      "source": [
        "Notice how it won't place another 1 there. That's because a set is only concerned with unique elements! We can cast a list with multiple repeat elements to a set to get the unique elements. For example:"
      ]
    },
    {
      "cell_type": "code",
      "execution_count": null,
      "metadata": {
        "collapsed": true,
        "id": "h1i3JWruPWYR",
        "colab": {
          "base_uri": "https://localhost:8080/"
        },
        "outputId": "69485e4c-5f4e-4566-d444-39da9e1f492d"
      },
      "outputs": [
        {
          "output_type": "execute_result",
          "data": {
            "text/plain": [
              "4"
            ]
          },
          "metadata": {},
          "execution_count": 139
        }
      ],
      "source": [
        "# Create a list with repeats\n",
        "list1 = [1,1,18,4,77,4,5,6,1,1]\n",
        "list1.count(1)"
      ]
    },
    {
      "cell_type": "code",
      "execution_count": null,
      "metadata": {
        "id": "AN7gzGjyPWYT"
      },
      "outputs": [],
      "source": [
        "# Cast as set to get unique values\n",
        "list1=set(list1)\n",
        "list1\n",
        "setvar=list1"
      ]
    },
    {
      "cell_type": "code",
      "source": [
        "\n",
        "setvar.add(\"devops\")\n",
        "setvar"
      ],
      "metadata": {
        "colab": {
          "base_uri": "https://localhost:8080/"
        },
        "id": "e4ah4wBGpetc",
        "outputId": "462c3c7c-06f4-404c-d502-3bf5bcaa6835"
      },
      "execution_count": null,
      "outputs": [
        {
          "output_type": "execute_result",
          "data": {
            "text/plain": [
              "{1, 18, 4, 5, 6, 77, 'devops'}"
            ]
          },
          "metadata": {},
          "execution_count": 144
        }
      ]
    },
    {
      "cell_type": "code",
      "source": [
        "\n",
        "set1=setvar\n",
        "set1.add({\"key1\":\"devops\"})"
      ],
      "metadata": {
        "id": "zy70u2TSOk6h",
        "colab": {
          "base_uri": "https://localhost:8080/",
          "height": 162
        },
        "outputId": "afaffc67-b681-41ee-aa8e-358e1f18b010"
      },
      "execution_count": null,
      "outputs": [
        {
          "output_type": "error",
          "ename": "TypeError",
          "evalue": "unhashable type: 'dict'",
          "traceback": [
            "\u001b[0;31m---------------------------------------------------------------------------\u001b[0m",
            "\u001b[0;31mTypeError\u001b[0m                                 Traceback (most recent call last)",
            "\u001b[0;32m<ipython-input-145-911a24603d47>\u001b[0m in \u001b[0;36m<cell line: 2>\u001b[0;34m()\u001b[0m\n\u001b[1;32m      1\u001b[0m \u001b[0mset1\u001b[0m\u001b[0;34m=\u001b[0m\u001b[0msetvar\u001b[0m\u001b[0;34m\u001b[0m\u001b[0;34m\u001b[0m\u001b[0m\n\u001b[0;32m----> 2\u001b[0;31m \u001b[0mset1\u001b[0m\u001b[0;34m.\u001b[0m\u001b[0madd\u001b[0m\u001b[0;34m(\u001b[0m\u001b[0;34m{\u001b[0m\u001b[0;34m\"key1\"\u001b[0m\u001b[0;34m:\u001b[0m\u001b[0;34m\"devops\"\u001b[0m\u001b[0;34m}\u001b[0m\u001b[0;34m)\u001b[0m\u001b[0;34m\u001b[0m\u001b[0;34m\u001b[0m\u001b[0m\n\u001b[0m",
            "\u001b[0;31mTypeError\u001b[0m: unhashable type: 'dict'"
          ]
        }
      ]
    },
    {
      "cell_type": "code",
      "source": [
        "l=[4,6,10,12]\n",
        "l"
      ],
      "metadata": {
        "id": "gLrpsfUASgfc",
        "colab": {
          "base_uri": "https://localhost:8080/"
        },
        "outputId": "48beb5c9-5530-41b4-834d-c63745bf2a83"
      },
      "execution_count": null,
      "outputs": [
        {
          "output_type": "execute_result",
          "data": {
            "text/plain": [
              "[4, 6, 10, 12]"
            ]
          },
          "metadata": {},
          "execution_count": 19
        }
      ]
    },
    {
      "cell_type": "code",
      "source": [
        "\n",
        "def addtoset(value):\n",
        "  exist=False\n",
        "  for element in l:\n",
        "    if element==value:\n",
        "      exist=True\n",
        "      break\n",
        "\n",
        "  if exist != True:\n",
        "    l.append(value)\n"
      ],
      "metadata": {
        "id": "3UysQHFtRhFV"
      },
      "execution_count": null,
      "outputs": []
    },
    {
      "cell_type": "code",
      "source": [
        "addtoset(4)\n",
        "l\n",
        "addtoset('test')\n",
        "l\n"
      ],
      "metadata": {
        "colab": {
          "base_uri": "https://localhost:8080/"
        },
        "id": "nDmtwZLMq8eR",
        "outputId": "05acb248-f8fc-4392-f4af-4fe5eb49b52d"
      },
      "execution_count": null,
      "outputs": [
        {
          "output_type": "execute_result",
          "data": {
            "text/plain": [
              "[4, 6, 10, 12, 'test']"
            ]
          },
          "metadata": {},
          "execution_count": 23
        }
      ]
    },
    {
      "cell_type": "code",
      "source": [
        "%timeit (addtoset(14))"
      ],
      "metadata": {
        "id": "hITDL0uaT4Pr",
        "colab": {
          "base_uri": "https://localhost:8080/"
        },
        "outputId": "66c3e17e-d33f-4668-d387-bca7f16f4faa"
      },
      "execution_count": null,
      "outputs": [
        {
          "output_type": "stream",
          "name": "stdout",
          "text": [
            "413 ns ± 30.6 ns per loop (mean ± std. dev. of 7 runs, 1000000 loops each)\n"
          ]
        }
      ]
    },
    {
      "cell_type": "code",
      "source": [
        "l"
      ],
      "metadata": {
        "id": "WsMm11_uUOUr"
      },
      "execution_count": null,
      "outputs": []
    },
    {
      "cell_type": "markdown",
      "source": [
        "##list with dict"
      ],
      "metadata": {
        "id": "ZtrjsLBhUp92"
      }
    },
    {
      "cell_type": "code",
      "source": [
        "list1 =[]\n",
        "d = {}"
      ],
      "metadata": {
        "id": "SoFYOTgQUo8u"
      },
      "execution_count": null,
      "outputs": []
    },
    {
      "cell_type": "code",
      "source": [
        "l.append(1)\n",
        "d[1]=True"
      ],
      "metadata": {
        "id": "oFvJtb4qVHJF"
      },
      "execution_count": null,
      "outputs": []
    },
    {
      "cell_type": "code",
      "source": [
        "def addtosetdict(value):\n",
        "  if value not in d:\n",
        "    list1.append(value)\n",
        "    d[value]=True"
      ],
      "metadata": {
        "id": "JF4P2J5rUyL6"
      },
      "execution_count": null,
      "outputs": []
    },
    {
      "cell_type": "code",
      "source": [
        "addtosetdict(None)"
      ],
      "metadata": {
        "id": "XMjoUc5FEApq"
      },
      "execution_count": null,
      "outputs": []
    },
    {
      "cell_type": "code",
      "source": [
        "list1"
      ],
      "metadata": {
        "colab": {
          "base_uri": "https://localhost:8080/"
        },
        "id": "ly3B-AZ2nUK1",
        "outputId": "44bb322d-c7b9-4d51-fdf5-264ac45aa9a0"
      },
      "execution_count": null,
      "outputs": [
        {
          "output_type": "execute_result",
          "data": {
            "text/plain": [
              "[11, 14, None]"
            ]
          },
          "metadata": {},
          "execution_count": 45
        }
      ]
    },
    {
      "cell_type": "code",
      "source": [
        "%timeit (addtosetdict(14))"
      ],
      "metadata": {
        "colab": {
          "base_uri": "https://localhost:8080/"
        },
        "id": "EK4RdatgWD5H",
        "outputId": "c2f74a0e-3982-49b7-96e4-3efa7ce29af7"
      },
      "execution_count": null,
      "outputs": [
        {
          "output_type": "stream",
          "name": "stdout",
          "text": [
            "144 ns ± 25 ns per loop (mean ± std. dev. of 7 runs, 10000000 loops each)\n"
          ]
        }
      ]
    },
    {
      "cell_type": "code",
      "source": [
        "addtosetdict(12)"
      ],
      "metadata": {
        "id": "8OqrROaWWJpW"
      },
      "execution_count": null,
      "outputs": []
    },
    {
      "cell_type": "markdown",
      "metadata": {
        "id": "AxmsclOVPWYU"
      },
      "source": [
        "## Booleans\n",
        "\n",
        "Python  comes with Booleans (with predefined True and False displays that are basically just the integers 1 and 0). It also has a placeholder object called None. Let's walk through a few quick examples of Booleans (we will dive deeper into them later in this course)."
      ]
    },
    {
      "cell_type": "code",
      "source": [],
      "metadata": {
        "id": "pt3UM_-JUn_A"
      },
      "execution_count": null,
      "outputs": []
    },
    {
      "cell_type": "code",
      "execution_count": null,
      "metadata": {
        "collapsed": true,
        "id": "A8TykU7jPWYU"
      },
      "outputs": [],
      "source": [
        "# Set object to be a boolean\n",
        "a = True"
      ]
    },
    {
      "cell_type": "code",
      "execution_count": null,
      "metadata": {
        "id": "2gF8ldj3PWYd",
        "colab": {
          "base_uri": "https://localhost:8080/"
        },
        "outputId": "f76a3971-c933-4232-f7eb-075a5cbf73ab"
      },
      "outputs": [
        {
          "output_type": "execute_result",
          "data": {
            "text/plain": [
              "True"
            ]
          },
          "metadata": {},
          "execution_count": 60
        }
      ],
      "source": [
        "#Show\n",
        "a"
      ]
    },
    {
      "cell_type": "markdown",
      "metadata": {
        "id": "uBDSFACwPWYh"
      },
      "source": [
        "We can also use comparison operators to create booleans. We will go over all the comparison operators later on in the course."
      ]
    },
    {
      "cell_type": "code",
      "execution_count": null,
      "metadata": {
        "id": "phUyUsYWPWYj",
        "colab": {
          "base_uri": "https://localhost:8080/"
        },
        "outputId": "383ec6c2-7467-49b7-aad1-283a5546bcb3"
      },
      "outputs": [
        {
          "output_type": "execute_result",
          "data": {
            "text/plain": [
              "False"
            ]
          },
          "metadata": {},
          "execution_count": 63
        }
      ],
      "source": [
        "# Output is boolean\n",
        "1 > 1"
      ]
    },
    {
      "cell_type": "markdown",
      "metadata": {
        "id": "bhMTwu38PWYl"
      },
      "source": [
        "We can use None as a placeholder for an object that we don't want to reassign yet:"
      ]
    },
    {
      "cell_type": "code",
      "execution_count": null,
      "metadata": {
        "collapsed": true,
        "id": "8LHKzBxMPWYl"
      },
      "outputs": [],
      "source": [
        "# None placeholder\n",
        "b = None"
      ]
    },
    {
      "cell_type": "code",
      "execution_count": null,
      "metadata": {
        "id": "wJBHVf_OPWYl",
        "colab": {
          "base_uri": "https://localhost:8080/"
        },
        "outputId": "e443cbc7-cf68-4a71-c217-ed0958d71f7d"
      },
      "outputs": [
        {
          "output_type": "stream",
          "name": "stdout",
          "text": [
            "<class 'NoneType'>\n"
          ]
        }
      ],
      "source": [
        "# Show\n",
        "print(type(b))"
      ]
    },
    {
      "cell_type": "markdown",
      "metadata": {
        "id": "W4ycTlzOPntX"
      },
      "source": [
        "# Files\n",
        "\n"
      ]
    },
    {
      "cell_type": "markdown",
      "source": [
        "Python uses file objects to interact with external files on your computer. These file objects can be any sort of file you have on your computer, whether it be an audio file, a text file, emails, Excel documents, etc. Note: You will probably need to install certain libraries or modules to interact with those various file types, but they are easily available. (We will cover downloading modules later on in the course).\n",
        "\n",
        "Python has a built-in open function that allows us to open and play with basic file types. First we will need a file though. We're going to use some IPython magic to create a text file!\n",
        "\n",
        "## IPython Writing a File\n",
        "#### This function is specific to jupyter notebooks! Alternatively, quickly create a simple .txt file with sublime text editor."
      ],
      "metadata": {
        "id": "cfCyNnD1P3rI"
      }
    },
    {
      "cell_type": "code",
      "execution_count": null,
      "metadata": {
        "id": "5o5i-uitPntb",
        "colab": {
          "base_uri": "https://localhost:8080/"
        },
        "outputId": "67ecf4e2-a693-4fba-fe16-a3de8bd90d80"
      },
      "outputs": [
        {
          "output_type": "stream",
          "name": "stdout",
          "text": [
            "Writing test.txt\n"
          ]
        }
      ],
      "source": [
        "%%writefile test.txt\n",
        "Hello, this is a quick test file.\n",
        "Hello, this is me"
      ]
    },
    {
      "cell_type": "code",
      "source": [
        "!ls"
      ],
      "metadata": {
        "colab": {
          "base_uri": "https://localhost:8080/"
        },
        "id": "X6uOJXTroxsY",
        "outputId": "7923d06e-a877-44de-e849-c357f2731928"
      },
      "execution_count": null,
      "outputs": [
        {
          "output_type": "stream",
          "name": "stdout",
          "text": [
            "sample_data  test.txt\n"
          ]
        }
      ]
    },
    {
      "cell_type": "code",
      "source": [
        "!cat test.txt"
      ],
      "metadata": {
        "colab": {
          "base_uri": "https://localhost:8080/"
        },
        "id": "KLA1LFxlJSIU",
        "outputId": "82a7c87b-9ba5-49d7-b417-cd590db3c555"
      },
      "execution_count": null,
      "outputs": [
        {
          "output_type": "stream",
          "name": "stdout",
          "text": [
            "Hello, this is a quick test file.\n",
            "Hello, this is me\n"
          ]
        }
      ]
    },
    {
      "cell_type": "code",
      "source": [
        "!python --version"
      ],
      "metadata": {
        "colab": {
          "base_uri": "https://localhost:8080/"
        },
        "id": "mQ0bi2EVJjl6",
        "outputId": "fd594320-ce1b-4a49-cc51-774dda916836"
      },
      "execution_count": null,
      "outputs": [
        {
          "output_type": "stream",
          "name": "stdout",
          "text": [
            "Python 3.10.12\n"
          ]
        }
      ]
    },
    {
      "cell_type": "markdown",
      "metadata": {
        "id": "lo0PN2usPntf"
      },
      "source": [
        "## Python Opening a file\n",
        "\n",
        "Let's being by opening the file test.txt that is located in the same directory as this notebook. For now we will work with files located in the same directory as the notebook or .py script you are using.\n",
        "\n",
        "It is very easy to get an error on this step:"
      ]
    },
    {
      "cell_type": "code",
      "execution_count": null,
      "metadata": {
        "id": "0gGjuLchPntg"
      },
      "outputs": [],
      "source": [
        "myfile = open('test.txt')"
      ]
    },
    {
      "cell_type": "code",
      "source": [
        "type(myfile)"
      ],
      "metadata": {
        "colab": {
          "base_uri": "https://localhost:8080/"
        },
        "id": "z6DPwgQtp03Z",
        "outputId": "d859c94e-aa32-4a69-e694-aa8b8090171a"
      },
      "execution_count": null,
      "outputs": [
        {
          "output_type": "execute_result",
          "data": {
            "text/plain": [
              "_io.TextIOWrapper"
            ]
          },
          "metadata": {},
          "execution_count": 53
        }
      ]
    },
    {
      "cell_type": "markdown",
      "metadata": {
        "id": "wa_p8fGaPnth"
      },
      "source": [
        "To avoid this error,make sure your .txt file is saved in the same location as your notebook, to check your notebook location, use **pwd**:"
      ]
    },
    {
      "cell_type": "code",
      "execution_count": null,
      "metadata": {
        "id": "ooXTRvOYPnti",
        "colab": {
          "base_uri": "https://localhost:8080/",
          "height": 35
        },
        "outputId": "b78a185b-e867-43de-aecf-cf2b969b7d5c"
      },
      "outputs": [
        {
          "output_type": "execute_result",
          "data": {
            "text/plain": [
              "'/content'"
            ],
            "application/vnd.google.colaboratory.intrinsic+json": {
              "type": "string"
            }
          },
          "metadata": {},
          "execution_count": 54
        }
      ],
      "source": [
        "pwd"
      ]
    },
    {
      "cell_type": "code",
      "execution_count": null,
      "metadata": {
        "collapsed": true,
        "id": "fg4IOrOxPntk"
      },
      "outputs": [],
      "source": [
        "# Open the text.txt we made earlier\n",
        "my_file = open('test.txt')"
      ]
    },
    {
      "cell_type": "code",
      "execution_count": null,
      "metadata": {
        "id": "9ddUtBxUPntn",
        "colab": {
          "base_uri": "https://localhost:8080/",
          "height": 35
        },
        "outputId": "0f8676bf-f407-41d5-f489-6d307a8673ac"
      },
      "outputs": [
        {
          "output_type": "execute_result",
          "data": {
            "text/plain": [
              "'s is a quick test file.\\nHello, this is me\\n'"
            ],
            "application/vnd.google.colaboratory.intrinsic+json": {
              "type": "string"
            }
          },
          "metadata": {},
          "execution_count": 63
        }
      ],
      "source": [
        "# We can now read the file\n",
        "my_file.read()"
      ]
    },
    {
      "cell_type": "code",
      "execution_count": null,
      "metadata": {
        "id": "rHuIOZGnPntq",
        "colab": {
          "base_uri": "https://localhost:8080/"
        },
        "outputId": "fb1e67c3-4bbe-4e1a-c274-d55bb172c0e1"
      },
      "outputs": [
        {
          "output_type": "execute_result",
          "data": {
            "text/plain": [
              "10"
            ]
          },
          "metadata": {},
          "execution_count": 62
        }
      ],
      "source": [
        "# But what happens if we try to read it again?\n",
        "my_file.seek(10)"
      ]
    },
    {
      "cell_type": "markdown",
      "metadata": {
        "id": "2yRH5Th2Pntr"
      },
      "source": [
        "This happens because you can imagine the reading \"cursor\" is at the end of the file after having read it. So there is nothing left to read. We can reset the \"cursor\" like this:"
      ]
    },
    {
      "cell_type": "code",
      "execution_count": null,
      "metadata": {
        "id": "vVzlZm4gPntr",
        "colab": {
          "base_uri": "https://localhost:8080/"
        },
        "outputId": "3bd58ff3-7b51-45ab-d1fa-f55a0e638449"
      },
      "outputs": [
        {
          "output_type": "execute_result",
          "data": {
            "text/plain": [
              "4"
            ]
          },
          "metadata": {},
          "execution_count": 64
        }
      ],
      "source": [
        "# Seek to the start of file (index 0)\n",
        "my_file.seek(4)"
      ]
    },
    {
      "cell_type": "code",
      "execution_count": null,
      "metadata": {
        "id": "3sUPE6IyPntt",
        "colab": {
          "base_uri": "https://localhost:8080/",
          "height": 35
        },
        "outputId": "11de1f8e-38f1-457a-948b-ec8b0f6cc319"
      },
      "outputs": [
        {
          "output_type": "execute_result",
          "data": {
            "text/plain": [
              "''"
            ],
            "application/vnd.google.colaboratory.intrinsic+json": {
              "type": "string"
            }
          },
          "metadata": {},
          "execution_count": 66
        }
      ],
      "source": [
        "# Now read again\n",
        "my_file.read()"
      ]
    },
    {
      "cell_type": "markdown",
      "metadata": {
        "id": "pdas21RlPntu"
      },
      "source": [
        "You can read a file line by line using the readlines method. Use caution with large files, since everything will be held in memory. We will learn how to iterate over large files later in the course."
      ]
    },
    {
      "cell_type": "code",
      "execution_count": null,
      "metadata": {
        "id": "qNCrvG7WPntv",
        "colab": {
          "base_uri": "https://localhost:8080/"
        },
        "outputId": "2935d65c-5f7e-451d-99e5-4c9ac2ea2fe4"
      },
      "outputs": [
        {
          "output_type": "execute_result",
          "data": {
            "text/plain": [
              "['Hello, this is a quick test file.\\n', 'Hello, this is me\\n']"
            ]
          },
          "metadata": {},
          "execution_count": 70
        }
      ],
      "source": [
        "# Readlines returns a list of the lines in the file\n",
        "my_file.seek(0)\n",
        "my_file.readlines()"
      ]
    },
    {
      "cell_type": "code",
      "source": [
        "ll"
      ],
      "metadata": {
        "colab": {
          "base_uri": "https://localhost:8080/"
        },
        "id": "GX6hjhQLLqdJ",
        "outputId": "ad5a4707-7acd-4adc-e18e-4999e1123b04"
      },
      "execution_count": null,
      "outputs": [
        {
          "output_type": "execute_result",
          "data": {
            "text/plain": [
              "['Hello, this is a quick test file.\\n', 'Hello, this is me\\n']"
            ]
          },
          "metadata": {},
          "execution_count": 69
        }
      ]
    },
    {
      "cell_type": "code",
      "source": [
        "type(ll)"
      ],
      "metadata": {
        "colab": {
          "base_uri": "https://localhost:8080/"
        },
        "id": "24t5rPfLrO3Z",
        "outputId": "d39281b4-d64e-4fa6-962b-475e1077c643"
      },
      "execution_count": null,
      "outputs": [
        {
          "output_type": "execute_result",
          "data": {
            "text/plain": [
              "list"
            ]
          },
          "metadata": {},
          "execution_count": 51
        }
      ]
    },
    {
      "cell_type": "markdown",
      "metadata": {
        "id": "2xLcnXFSPntw"
      },
      "source": [
        "When you have finished using a file, it is always good practice to close it."
      ]
    },
    {
      "cell_type": "code",
      "execution_count": null,
      "metadata": {
        "collapsed": true,
        "id": "PmJHHDdCPntw"
      },
      "outputs": [],
      "source": [
        "my_file.close()"
      ]
    },
    {
      "cell_type": "code",
      "source": [
        "!cat test.txt"
      ],
      "metadata": {
        "colab": {
          "base_uri": "https://localhost:8080/"
        },
        "id": "WpSQjbrQr8tQ",
        "outputId": "8083780c-0401-4f90-c025-52aa539cf5de"
      },
      "execution_count": null,
      "outputs": [
        {
          "output_type": "stream",
          "name": "stdout",
          "text": [
            "Thhdd33devopsdevops\n"
          ]
        }
      ]
    },
    {
      "cell_type": "markdown",
      "metadata": {
        "id": "EqtGyvwnPntx"
      },
      "source": [
        "## Writing to a File\n",
        "\n",
        "By default, the `open()` function will only allow us to read the file. We need to pass the argument `'w'` to write over the file. For example:"
      ]
    },
    {
      "cell_type": "code",
      "execution_count": null,
      "metadata": {
        "collapsed": true,
        "id": "PBRvkBczPntx"
      },
      "outputs": [],
      "source": [
        "# Add a second argument to the function, 'w' which stands for write.\n",
        "# Passing 'w+' lets us read and write to the file\n",
        "\n",
        "my_file = open('test.txt','a', 4)"
      ]
    },
    {
      "cell_type": "markdown",
      "metadata": {
        "id": "O-43OCZjPnty"
      },
      "source": [
        "### <strong><font color='red'>Use caution!</font></strong>\n",
        "Opening a file with `'w'` or `'w+'` truncates the original, meaning that anything that was in the original file **is deleted**!"
      ]
    },
    {
      "cell_type": "code",
      "execution_count": null,
      "metadata": {
        "id": "edEXgMr4Pnty",
        "colab": {
          "base_uri": "https://localhost:8080/"
        },
        "outputId": "f3feb23e-6897-4d8f-a74b-40d22bd50cf0"
      },
      "outputs": [
        {
          "output_type": "execute_result",
          "data": {
            "text/plain": [
              "9"
            ]
          },
          "metadata": {},
          "execution_count": 159
        }
      ],
      "source": [
        "# Write to the file\n",
        "my_file.write('testtttt\\n')\n"
      ]
    },
    {
      "cell_type": "code",
      "source": [
        "my_file.seek(0)\n",
        "my_file.read()"
      ],
      "metadata": {
        "colab": {
          "base_uri": "https://localhost:8080/",
          "height": 35
        },
        "id": "0wmS0hZBNrCZ",
        "outputId": "fb8454f5-b966-4464-e706-84200352abbc"
      },
      "execution_count": null,
      "outputs": [
        {
          "output_type": "execute_result",
          "data": {
            "text/plain": [
              "'test\\ntestt\\n'"
            ],
            "application/vnd.google.colaboratory.intrinsic+json": {
              "type": "string"
            }
          },
          "metadata": {},
          "execution_count": 105
        }
      ]
    },
    {
      "cell_type": "code",
      "source": [
        "my_file.close()"
      ],
      "metadata": {
        "id": "TAaW44IhNRhf"
      },
      "execution_count": null,
      "outputs": []
    },
    {
      "cell_type": "code",
      "source": [
        "!ls test.txt"
      ],
      "metadata": {
        "colab": {
          "base_uri": "https://localhost:8080/"
        },
        "id": "TGhnPhlsNKCT",
        "outputId": "73ed5fa8-2112-4c09-92b8-9008231abb5d"
      },
      "execution_count": null,
      "outputs": [
        {
          "output_type": "stream",
          "name": "stdout",
          "text": [
            "test.txt\n"
          ]
        }
      ]
    },
    {
      "cell_type": "code",
      "source": [
        "!cat test.txt"
      ],
      "metadata": {
        "colab": {
          "base_uri": "https://localhost:8080/"
        },
        "id": "ba6N88nqNAl9",
        "outputId": "01592c6c-f64d-4460-a2fd-797c664ad738"
      },
      "execution_count": null,
      "outputs": [
        {
          "output_type": "stream",
          "name": "stdout",
          "text": [
            "devops\n"
          ]
        }
      ]
    },
    {
      "cell_type": "code",
      "execution_count": null,
      "metadata": {
        "id": "FKUeZ56hPntz",
        "colab": {
          "base_uri": "https://localhost:8080/",
          "height": 35
        },
        "outputId": "72769b7e-1ddc-4bb6-dfe7-ffcda82e7411"
      },
      "outputs": [
        {
          "output_type": "execute_result",
          "data": {
            "text/plain": [
              "'This is a new lineThis is a new line'"
            ],
            "application/vnd.google.colaboratory.intrinsic+json": {
              "type": "string"
            }
          },
          "metadata": {},
          "execution_count": 63
        }
      ],
      "source": [
        "# Read the file\n",
        "my_file.seek(0)\n",
        "my_file.read()"
      ]
    },
    {
      "cell_type": "code",
      "execution_count": null,
      "metadata": {
        "collapsed": true,
        "id": "7ehLkbiAPntz"
      },
      "outputs": [],
      "source": [
        "my_file.close()  # always do this when you're done with a file"
      ]
    },
    {
      "cell_type": "markdown",
      "metadata": {
        "id": "RyQ-omn2Pnt0"
      },
      "source": [
        "## Appending to a File\n",
        "Passing the argument `'a'` opens the file and puts the pointer at the end, so anything written is appended. Like `'w+'`, `'a+'` lets us read and write to a file. If the file does not exist, one will be created."
      ]
    },
    {
      "cell_type": "code",
      "execution_count": null,
      "metadata": {
        "id": "RCILtAD-Pnt0"
      },
      "outputs": [],
      "source": [
        "my_file = open('test.txt','a+')\n",
        "my_file.write('\\nThis is text being appended to test.txt')\n",
        "my_file.write('\\nAnd another line here.')"
      ]
    },
    {
      "cell_type": "code",
      "execution_count": null,
      "metadata": {
        "id": "nOmZ8v4CPnt1"
      },
      "outputs": [],
      "source": [
        "my_file.seek(0)\n",
        "print(my_file.read())"
      ]
    },
    {
      "cell_type": "code",
      "execution_count": null,
      "metadata": {
        "collapsed": true,
        "id": "wY1faRKePnt3"
      },
      "outputs": [],
      "source": [
        "my_file.close()"
      ]
    },
    {
      "cell_type": "markdown",
      "metadata": {
        "id": "pTMu5g71Pnt3"
      },
      "source": [
        "### Appending with `%%writefile`\n",
        "We can do the same thing using IPython cell magic:"
      ]
    },
    {
      "cell_type": "code",
      "execution_count": null,
      "metadata": {
        "id": "aIuj2__2Pnt4"
      },
      "outputs": [],
      "source": [
        "%%writefile -a test.txt\n",
        "\n",
        "This is text being appended to test.txt\n",
        "And another line here."
      ]
    },
    {
      "cell_type": "markdown",
      "metadata": {
        "id": "7N5E-wTIPnt5"
      },
      "source": [
        "Add a blank space if you want the first line to begin on its own line, as Jupyter won't recognize escape sequences like `\\n`"
      ]
    },
    {
      "cell_type": "markdown",
      "metadata": {
        "id": "X_puH4J-Pnt6"
      },
      "source": [
        "## Iterating through a File\n",
        "\n",
        "Lets get a quick preview of a for loop by iterating over a text file. First let's make a new text file with some IPython Magic:"
      ]
    },
    {
      "cell_type": "code",
      "execution_count": null,
      "metadata": {
        "id": "tUxUHiWbPnt7"
      },
      "outputs": [],
      "source": [
        "%%writefile test.txt\n",
        "First Line\n",
        "Second Line"
      ]
    },
    {
      "cell_type": "markdown",
      "metadata": {
        "id": "ixezBR8BPnt8"
      },
      "source": [
        "Now we can use a little bit of flow to tell the program to for through every line of the file and do something:"
      ]
    },
    {
      "cell_type": "code",
      "execution_count": null,
      "metadata": {
        "id": "VX1fHt0EPnt8",
        "colab": {
          "base_uri": "https://localhost:8080/"
        },
        "outputId": "057a251f-4a4b-4ebf-f5dc-1c67c2280b97"
      },
      "outputs": [
        {
          "output_type": "stream",
          "name": "stdout",
          "text": [
            "devops\n",
            "\n"
          ]
        }
      ],
      "source": [
        "for line in open('test.txt'):\n",
        "    print(line)"
      ]
    },
    {
      "cell_type": "markdown",
      "metadata": {
        "id": "fJ4PL252Pnt9"
      },
      "source": [
        "Don't worry about fully understanding this yet, for loops are coming up soon. But we'll break down what we did above. We said that for every line in this text file, go ahead and print that line. It's important to note a few things here:\n",
        "\n",
        "1. We could have called the \"line\" object anything (see example below).\n",
        "2. By not calling `.read()` on the file, the whole text file was not stored in memory.\n",
        "3. Notice the indent on the second line for print. This whitespace is required in Python."
      ]
    },
    {
      "cell_type": "code",
      "execution_count": null,
      "metadata": {
        "id": "0_SRyXwWPnt9",
        "colab": {
          "base_uri": "https://localhost:8080/"
        },
        "outputId": "1f267164-8d34-4528-8b3a-b3352e3a8908"
      },
      "outputs": [
        {
          "output_type": "stream",
          "name": "stdout",
          "text": [
            "Thhdd33devopsdevops\n",
            "\n"
          ]
        }
      ],
      "source": [
        "# Pertaining to the first point above\n",
        "for asdf in open('test.txt'):\n",
        "    print(asdf)"
      ]
    },
    {
      "cell_type": "markdown",
      "source": [],
      "metadata": {
        "id": "Z54oj-Y2Q_mL"
      }
    },
    {
      "cell_type": "markdown",
      "metadata": {
        "id": "7g9G5SKZQ4GS"
      },
      "source": [
        "# Comparison Operators\n",
        "\n"
      ]
    },
    {
      "cell_type": "markdown",
      "source": [
        "In this lecture we will be learning about Comparison Operators in Python. These operators will allow us to compare variables and output a Boolean value (True or False).\n",
        "\n",
        "If you have any sort of background in Math, these operators should be very straight forward.\n",
        "\n",
        "First we'll present a table of the comparison operators and then work through some examples:\n",
        "\n",
        "<h2> Table of Comparison Operators </h2><p>  In the table below, a=3 and b=4.</p>\n",
        "\n",
        "<table class=\"table table-bordered\">\n",
        "<tr>\n",
        "<th style=\"width:10%\">Operator</th><th style=\"width:45%\">Description</th><th>Example</th>\n",
        "</tr>\n",
        "<tr>\n",
        "<td>==</td>\n",
        "<td>If the values of two operands are equal, then the condition becomes true.</td>\n",
        "<td> (a == b) is not true.</td>\n",
        "</tr>\n",
        "<tr>\n",
        "<td>!=</td>\n",
        "<td>If values of two operands are not equal, then condition becomes true.</td>\n",
        "<td>(a != b) is true</td>\n",
        "</tr>\n",
        "<tr>\n",
        "<td>&gt;</td>\n",
        "<td>If the value of left operand is greater than the value of right operand, then condition becomes true.</td>\n",
        "<td> (a &gt; b) is not true.</td>\n",
        "</tr>\n",
        "<tr>\n",
        "<td>&lt;</td>\n",
        "<td>If the value of left operand is less than the value of right operand, then condition becomes true.</td>\n",
        "<td> (a &lt; b) is true.</td>\n",
        "</tr>\n",
        "<tr>\n",
        "<td>&gt;=</td>\n",
        "<td>If the value of left operand is greater than or equal to the value of right operand, then condition becomes true.</td>\n",
        "<td> (a &gt;= b) is not true. </td>\n",
        "</tr>\n",
        "<tr>\n",
        "<td>&lt;=</td>\n",
        "<td>If the value of left operand is less than or equal to the value of right operand, then condition becomes true.</td>\n",
        "<td> (a &lt;= b) is true. </td>\n",
        "</tr>\n",
        "</table>"
      ],
      "metadata": {
        "id": "Z19EkIHsRF3c"
      }
    },
    {
      "cell_type": "markdown",
      "metadata": {
        "id": "11XNKk6uQ4GW"
      },
      "source": [
        "Let's now work through quick examples of each of these.\n",
        "\n",
        "#### Equal"
      ]
    },
    {
      "cell_type": "code",
      "execution_count": null,
      "metadata": {
        "id": "0W04aJDKQ4GZ"
      },
      "outputs": [],
      "source": [
        "2 == 2"
      ]
    },
    {
      "cell_type": "code",
      "execution_count": null,
      "metadata": {
        "id": "lpuanW9rQ4Gd"
      },
      "outputs": [],
      "source": [
        "1 == 0"
      ]
    },
    {
      "cell_type": "markdown",
      "metadata": {
        "id": "3Lss2n3-Q4Ge"
      },
      "source": [
        "Note that <code>==</code> is a <em>comparison</em> operator, while <code>=</code> is an <em>assignment</em> operator."
      ]
    },
    {
      "cell_type": "markdown",
      "metadata": {
        "id": "K5qn7NvgQ4Gf"
      },
      "source": [
        "#### Not Equal"
      ]
    },
    {
      "cell_type": "code",
      "execution_count": null,
      "metadata": {
        "id": "3otwsECkQ4Gf",
        "colab": {
          "base_uri": "https://localhost:8080/"
        },
        "outputId": "bf303678-3e48-4761-fea8-812e4576584a"
      },
      "outputs": [
        {
          "output_type": "execute_result",
          "data": {
            "text/plain": [
              "True"
            ]
          },
          "metadata": {},
          "execution_count": 163
        }
      ],
      "source": [
        "2 != 1"
      ]
    },
    {
      "cell_type": "code",
      "execution_count": null,
      "metadata": {
        "id": "oNDvr7xZQ4Gh",
        "colab": {
          "base_uri": "https://localhost:8080/"
        },
        "outputId": "97c82774-12d2-4a4e-d345-bd884eed8d44"
      },
      "outputs": [
        {
          "output_type": "execute_result",
          "data": {
            "text/plain": [
              "False"
            ]
          },
          "metadata": {},
          "execution_count": 164
        }
      ],
      "source": [
        "2 != 2"
      ]
    },
    {
      "cell_type": "markdown",
      "metadata": {
        "id": "HsZutwYdQ4Gi"
      },
      "source": [
        "#### Greater Than"
      ]
    },
    {
      "cell_type": "code",
      "execution_count": null,
      "metadata": {
        "id": "rXCUyu7eQ4Gj",
        "colab": {
          "base_uri": "https://localhost:8080/"
        },
        "outputId": "96c688dd-52a9-411d-f340-b8493901bd8f"
      },
      "outputs": [
        {
          "output_type": "execute_result",
          "data": {
            "text/plain": [
              "True"
            ]
          },
          "metadata": {},
          "execution_count": 165
        }
      ],
      "source": [
        "2 > 1"
      ]
    },
    {
      "cell_type": "code",
      "execution_count": null,
      "metadata": {
        "id": "m9APBxQYQ4Gk",
        "colab": {
          "base_uri": "https://localhost:8080/"
        },
        "outputId": "22b78f2c-19d1-4b02-de3a-dadf65061bbd"
      },
      "outputs": [
        {
          "output_type": "execute_result",
          "data": {
            "text/plain": [
              "False"
            ]
          },
          "metadata": {},
          "execution_count": 113
        }
      ],
      "source": [
        "2 > 4"
      ]
    },
    {
      "cell_type": "markdown",
      "metadata": {
        "id": "qJYbJ0oJQ4Gl"
      },
      "source": [
        "#### Less Than"
      ]
    },
    {
      "cell_type": "code",
      "execution_count": null,
      "metadata": {
        "id": "_mL9w2fdQ4Gl",
        "colab": {
          "base_uri": "https://localhost:8080/"
        },
        "outputId": "5b2bb6b3-ddb2-4f62-cfcf-38fe80d9c58b"
      },
      "outputs": [
        {
          "output_type": "execute_result",
          "data": {
            "text/plain": [
              "True"
            ]
          },
          "metadata": {},
          "execution_count": 114
        }
      ],
      "source": [
        "2 < 4"
      ]
    },
    {
      "cell_type": "code",
      "execution_count": null,
      "metadata": {
        "id": "LXx08PBKQ4Gm"
      },
      "outputs": [],
      "source": [
        "2 < 1"
      ]
    },
    {
      "cell_type": "markdown",
      "metadata": {
        "id": "qYgwhXCNQ4Gm"
      },
      "source": [
        "#### Greater Than or Equal to"
      ]
    },
    {
      "cell_type": "code",
      "execution_count": null,
      "metadata": {
        "id": "D-T9SBvKQ4Gn",
        "colab": {
          "base_uri": "https://localhost:8080/"
        },
        "outputId": "5326e9cd-70e8-415d-f44f-127f97f00db9"
      },
      "outputs": [
        {
          "output_type": "execute_result",
          "data": {
            "text/plain": [
              "True"
            ]
          },
          "metadata": {},
          "execution_count": 115
        }
      ],
      "source": [
        "2 >= 2"
      ]
    },
    {
      "cell_type": "code",
      "execution_count": null,
      "metadata": {
        "id": "arYD-6_oQ4Gp",
        "colab": {
          "base_uri": "https://localhost:8080/"
        },
        "outputId": "c83bffc0-138e-41df-dad1-985b05b4935f"
      },
      "outputs": [
        {
          "output_type": "execute_result",
          "data": {
            "text/plain": [
              "True"
            ]
          },
          "metadata": {},
          "execution_count": 116
        }
      ],
      "source": [
        "2 >= 1"
      ]
    },
    {
      "cell_type": "markdown",
      "metadata": {
        "id": "LwQ46QkuQ4Gr"
      },
      "source": [
        "#### Less than or Equal to"
      ]
    },
    {
      "cell_type": "code",
      "execution_count": null,
      "metadata": {
        "id": "ijBnVoSwQ4Gs",
        "colab": {
          "base_uri": "https://localhost:8080/"
        },
        "outputId": "0c355da9-3c5c-4940-9fa5-00eaa142721c"
      },
      "outputs": [
        {
          "output_type": "execute_result",
          "data": {
            "text/plain": [
              "True"
            ]
          },
          "metadata": {},
          "execution_count": 117
        }
      ],
      "source": [
        "2 <= 2"
      ]
    },
    {
      "cell_type": "code",
      "execution_count": null,
      "metadata": {
        "id": "oetsG5FEQ4Gt",
        "colab": {
          "base_uri": "https://localhost:8080/"
        },
        "outputId": "1579c4a6-edeb-473d-fe3c-59945db87ea7"
      },
      "outputs": [
        {
          "output_type": "execute_result",
          "data": {
            "text/plain": [
              "True"
            ]
          },
          "metadata": {},
          "execution_count": 118
        }
      ],
      "source": [
        "2 <= 4"
      ]
    },
    {
      "cell_type": "markdown",
      "source": [],
      "metadata": {
        "id": "lGbMJtaaRXAC"
      }
    },
    {
      "cell_type": "markdown",
      "metadata": {
        "id": "w6kVohLMRSFi"
      },
      "source": [
        "## Chained Comparison Operators\n",
        "\n",
        "An interesting feature of Python is the ability to *chain* multiple comparisons to perform a more complex test. You can use these chained comparisons as shorthand for larger Boolean Expressions.\n",
        "\n",
        "In this lecture we will learn how to chain comparison operators and we will also introduce two other important statements in Python: **and** and **or**.\n",
        "\n",
        "Let's look at a few examples of using chains:"
      ]
    },
    {
      "cell_type": "code",
      "execution_count": null,
      "metadata": {
        "id": "wyFap920RSFl",
        "colab": {
          "base_uri": "https://localhost:8080/"
        },
        "outputId": "dc45fae2-0254-4384-b2b1-7dd3f9d77a91"
      },
      "outputs": [
        {
          "output_type": "execute_result",
          "data": {
            "text/plain": [
              "True"
            ]
          },
          "metadata": {},
          "execution_count": 166
        }
      ],
      "source": [
        "1 < 2 < 3"
      ]
    },
    {
      "cell_type": "markdown",
      "metadata": {
        "id": "RdB_pPkERSFo"
      },
      "source": [
        "The above statement checks if 1 was less than 2 **and** if 2 was less than 3. We could have written this using an **and** statement in Python:"
      ]
    },
    {
      "cell_type": "code",
      "execution_count": null,
      "metadata": {
        "id": "AM2DWsQ0RSFp",
        "colab": {
          "base_uri": "https://localhost:8080/"
        },
        "outputId": "69c0c5a2-c1bf-475d-8eca-86315a62f3f9"
      },
      "outputs": [
        {
          "output_type": "execute_result",
          "data": {
            "text/plain": [
              "True"
            ]
          },
          "metadata": {},
          "execution_count": 168
        }
      ],
      "source": [
        "1<2 or 3<3"
      ]
    },
    {
      "cell_type": "markdown",
      "metadata": {
        "id": "pUNr0zN0RSFq"
      },
      "source": [
        "The **and** is used to make sure two checks have to be true in order for the total check to be true. Let's see another example:"
      ]
    },
    {
      "cell_type": "code",
      "execution_count": null,
      "metadata": {
        "id": "AEgmQJ4-RSFz"
      },
      "outputs": [],
      "source": [
        "1 < 3 > 2"
      ]
    },
    {
      "cell_type": "markdown",
      "metadata": {
        "id": "-uu5Q6ZVRSF0"
      },
      "source": [
        "The above checks if 3 is larger than both of the other numbers, so you could use **and** to rewrite it as:"
      ]
    },
    {
      "cell_type": "code",
      "execution_count": null,
      "metadata": {
        "id": "kSIpfUpTRSF2"
      },
      "outputs": [],
      "source": [
        "1<3 and 3>2"
      ]
    },
    {
      "cell_type": "markdown",
      "metadata": {
        "id": "pyxZgSE9RSF3"
      },
      "source": [
        "It's important to note that Python is checking both instances of the comparisons. We can also use **or** to write comparisons in Python. For example:"
      ]
    },
    {
      "cell_type": "code",
      "execution_count": null,
      "metadata": {
        "id": "UdQsIppmRSF4",
        "colab": {
          "base_uri": "https://localhost:8080/"
        },
        "outputId": "03445e55-68d2-4882-c05a-9c4563cd8824"
      },
      "outputs": [
        {
          "output_type": "execute_result",
          "data": {
            "text/plain": [
              "True"
            ]
          },
          "metadata": {},
          "execution_count": 124
        }
      ],
      "source": [
        "1==2 or 2<3"
      ]
    },
    {
      "cell_type": "markdown",
      "metadata": {
        "id": "3UCj0ZpORSF5"
      },
      "source": [
        "Note how it was true; this is because with the **or** operator, we only need one *or* the other to be true. Let's see one more example to drive this home:"
      ]
    },
    {
      "cell_type": "code",
      "execution_count": null,
      "metadata": {
        "id": "dk3hEetTRSF6",
        "colab": {
          "base_uri": "https://localhost:8080/"
        },
        "outputId": "4da3f59c-fb63-43ef-8489-77e1811b2438"
      },
      "outputs": [
        {
          "output_type": "execute_result",
          "data": {
            "text/plain": [
              "True"
            ]
          },
          "metadata": {},
          "execution_count": 125
        }
      ],
      "source": [
        "1==1 or 100==1"
      ]
    },
    {
      "cell_type": "markdown",
      "source": [],
      "metadata": {
        "id": "_I_jKyr4R1ef"
      }
    },
    {
      "cell_type": "markdown",
      "metadata": {
        "id": "YHm_WClXRspP"
      },
      "source": [
        "# Statements\n",
        "\n"
      ]
    },
    {
      "cell_type": "markdown",
      "source": [
        "In this lecture we will be doing a quick overview of Python Statements. This lecture will emphasize differences between Python and other languages such as C++.\n",
        "\n",
        "There are two reasons we take this approach for learning the context of Python Statements:\n",
        "\n",
        "    1.) If you are coming from a different language this will rapidly accelerate your understanding of Python.\n",
        "    2.) Learning about statements will allow you to be able to read other languages more easily in the future."
      ],
      "metadata": {
        "id": "VnFMiuVAR5qG"
      }
    },
    {
      "cell_type": "markdown",
      "metadata": {
        "id": "jw9s76kcRspS"
      },
      "source": [
        "## Python vs Other Languages\n",
        "\n",
        "Let's create a simple statement that says:\n",
        "\"If a is greater than b, assign 2 to a and 4 to b\"\n",
        "\n",
        "Take a look at these two if statements (we will learn about building out if statements soon).\n",
        "\n",
        "**Version 1 (Other Languages)**\n",
        "\n",
        "    if (a>b){\n",
        "        a = 2;\n",
        "        b = 4;\n",
        "    }\n",
        "                        \n",
        "**Version 2 (Python)**   \n",
        "\n",
        "    if a>b:\n",
        "        a = 2\n",
        "        b = 4"
      ]
    },
    {
      "cell_type": "markdown",
      "metadata": {
        "id": "Iz3OJzOdRspU"
      },
      "source": [
        "You'll notice that Python is less cluttered and much more readable than the first version. How does Python manage this?\n",
        "\n",
        "Let's walk through the main differences:\n",
        "\n",
        "Python gets rid of () and {} by incorporating two main factors: a *colon* and *whitespace*. The statement is ended with a colon, and whitespace is used (indentation) to describe what takes place in case of the statement.\n",
        "\n",
        "Another major difference is the lack of semicolons in Python. Semicolons are used to denote statement endings in many other languages, but in Python, the end of a line is the same as the end of a statement.\n",
        "\n",
        "Lastly, to end this brief overview of differences, let's take a closer look at indentation syntax in Python vs other languages:\n",
        "\n",
        "## Indentation\n",
        "\n",
        "Here is some pseudo-code to indicate the use of whitespace and indentation in Python:\n",
        "\n",
        "**Other Languages**\n",
        "\n",
        "    if (x)\n",
        "        if(y)\n",
        "            code-statement;\n",
        "    else\n",
        "        another-code-statement;\n",
        "        \n",
        "**Python**\n",
        "    \n",
        "    if x:\n",
        "        if y:\n",
        "            code-statement\n",
        "    else:\n",
        "        another-code-statement"
      ]
    },
    {
      "cell_type": "markdown",
      "metadata": {
        "id": "PDvXum57SAio"
      },
      "source": [
        "## if, elif, else Statements\n",
        "\n",
        "<code>if</code> Statements in Python allows us to tell the computer to perform alternative actions based on a certain set of results.\n",
        "\n",
        "Verbally, we can imagine we are telling the computer:\n",
        "\n",
        "\"Hey if this case happens, perform some action\"\n",
        "\n",
        "We can then expand the idea further with <code>elif</code> and <code>else</code> statements, which allow us to tell the computer:\n",
        "\n",
        "\"Hey if this case happens, perform some action. Else, if another case happens, perform some other action. Else, if *none* of the above cases happened, perform this action.\"\n",
        "\n",
        "Let's go ahead and look at the syntax format for <code>if</code> statements to get a better idea of this:\n",
        "\n",
        "    if case1:\n",
        "        perform action1\n",
        "    elif case2:\n",
        "        perform action2\n",
        "    else:\n",
        "        perform action3"
      ]
    },
    {
      "cell_type": "markdown",
      "metadata": {
        "id": "Prr5BRyZSAir"
      },
      "source": [
        "## First Example\n",
        "\n",
        "Let's see a quick example of this:"
      ]
    },
    {
      "cell_type": "code",
      "execution_count": null,
      "metadata": {
        "id": "0R4S0M8_SAit"
      },
      "outputs": [],
      "source": [
        "if False:\n",
        "    print('It was true!')"
      ]
    },
    {
      "cell_type": "markdown",
      "metadata": {
        "id": "vn_23LfrSAiu"
      },
      "source": [
        "Let's add in some else logic:"
      ]
    },
    {
      "cell_type": "code",
      "execution_count": null,
      "metadata": {
        "id": "KKIHu199SAiv",
        "colab": {
          "base_uri": "https://localhost:8080/"
        },
        "outputId": "40d836cc-0080-4cda-ff0f-d69a40f0c464"
      },
      "outputs": [
        {
          "output_type": "stream",
          "name": "stdout",
          "text": [
            "I will be printed in any case where x is not true\n"
          ]
        }
      ],
      "source": [
        "x = False\n",
        "\n",
        "if x:\n",
        "    print('x was True!')\n",
        "else:\n",
        "    print('I will be printed in any case where x is not true')"
      ]
    },
    {
      "cell_type": "markdown",
      "metadata": {
        "id": "f4Ku7A5qSAiw"
      },
      "source": [
        "### Multiple Branches\n",
        "\n",
        "Let's get a fuller picture of how far <code>if</code>, <code>elif</code>, and <code>else</code> can take us!\n",
        "\n",
        "We write this out in a nested structure. Take note of how the <code>if</code>, <code>elif</code>, and <code>else</code> line up in the code. This can help you see what <code>if</code> is related to what <code>elif</code> or <code>else</code> statements.\n",
        "\n",
        "We'll reintroduce a comparison syntax for Python."
      ]
    },
    {
      "cell_type": "code",
      "execution_count": null,
      "metadata": {
        "id": "IhcSWj9uSAix",
        "outputId": "bbfadf21-7ae5-487f-a248-fb357e4fc0e6",
        "colab": {
          "base_uri": "https://localhost:8080/"
        }
      },
      "outputs": [
        {
          "output_type": "stream",
          "name": "stdout",
          "text": [
            "Where are you?\n"
          ]
        }
      ],
      "source": [
        "loc = 'c'\n",
        "\n",
        "if loc == 'Auto Shop':\n",
        "    print('Welcome to the Auto Shop!')\n",
        "elif loc == 'Bank':\n",
        "    print('Welcome to the bank!')\n",
        "else:\n",
        "    print('Where are you?')"
      ]
    },
    {
      "cell_type": "markdown",
      "metadata": {
        "id": "xD8GDSTHSAiy"
      },
      "source": [
        "Note how the nested <code>if</code> statements are each checked until a True boolean causes the nested code below it to run. You should also note that you can put in as many <code>elif</code> statements as you want before you close off with an <code>else</code>.\n",
        "\n",
        "Let's create two more simple examples for the <code>if</code>, <code>elif</code>, and <code>else</code> statements:"
      ]
    },
    {
      "cell_type": "code",
      "execution_count": null,
      "metadata": {
        "id": "lGAg5g6ySAi0",
        "outputId": "43216fc2-f74f-4233-f39e-e7338f821b61",
        "colab": {
          "base_uri": "https://localhost:8080/"
        }
      },
      "outputs": [
        {
          "output_type": "stream",
          "name": "stdout",
          "text": [
            "Welcome Sammy!\n"
          ]
        }
      ],
      "source": [
        "person = 'Sammy'\n",
        "\n",
        "if person == 'Sammy':\n",
        "    print('Welcome Sammy!')\n",
        "else:\n",
        "    print(\"Welcome, what's your name?\")"
      ]
    },
    {
      "cell_type": "code",
      "execution_count": null,
      "metadata": {
        "id": "3nAH7RTJSAi2",
        "outputId": "fb86d73b-dc1e-4d4b-9035-741f56ea7fc2",
        "colab": {
          "base_uri": "https://localhost:8080/"
        }
      },
      "outputs": [
        {
          "output_type": "stream",
          "name": "stdout",
          "text": [
            "Welcome George!\n"
          ]
        }
      ],
      "source": [
        "person = 'George'\n",
        "\n",
        "if person == 'Sammy':\n",
        "    print('Welcome Sammy!')\n",
        "elif person =='George':\n",
        "    print('Welcome George!')\n",
        "else:\n",
        "    print(\"Welcome, what's your name?\")"
      ]
    },
    {
      "cell_type": "markdown",
      "metadata": {
        "id": "Ydb4dXRWSAi2"
      },
      "source": [
        "## Indentation\n",
        "\n",
        "It is important to keep a good understanding of how indentation works in Python to maintain the structure and order of your code. We will touch on this topic again when we start building out functions!"
      ]
    },
    {
      "cell_type": "markdown",
      "metadata": {
        "id": "JQ58Ek0sSPCh"
      },
      "source": [
        "## for Loops\n",
        "\n",
        "A <code>for</code> loop acts as an iterator in Python; it goes through items that are in a *sequence* or any other iterable item. Objects that we've learned about that we can iterate over include strings, lists, tuples, and even built-in iterables for dictionaries, such as keys or values.\n",
        "\n",
        "We've already seen the <code>for</code> statement a little bit in past lectures but now let's formalize our understanding.\n",
        "\n",
        "Here's the general format for a <code>for</code> loop in Python:\n",
        "\n",
        "    for item in object:\n",
        "        statements to do stuff\n",
        "    "
      ]
    },
    {
      "cell_type": "markdown",
      "metadata": {
        "id": "7qGAO7-oSPCk"
      },
      "source": [
        "The variable name used for the item is completely up to the coder, so use your best judgment for choosing a name that makes sense and you will be able to understand when revisiting your code. This item name can then be referenced inside your loop, for example if you wanted to use <code>if</code> statements to perform checks.\n",
        "\n",
        "Let's go ahead and work through several example of <code>for</code> loops using a variety of data object types. We'll start simple and build more complexity later on.\n",
        "\n",
        "## Example 1\n",
        "Iterating through a list"
      ]
    },
    {
      "cell_type": "code",
      "execution_count": null,
      "metadata": {
        "collapsed": true,
        "id": "yJv7HEVzSPCl"
      },
      "outputs": [],
      "source": [
        "# We'll learn how to automate this sort of list in the next lecture\n",
        "list1 = [1,2,3,4,5,6,7,8,9,10]"
      ]
    },
    {
      "cell_type": "code",
      "execution_count": null,
      "metadata": {
        "id": "WS5t-8shSPCm",
        "colab": {
          "base_uri": "https://localhost:8080/"
        },
        "outputId": "1a07c262-6702-4742-fe1d-7ec83c534c6d"
      },
      "outputs": [
        {
          "output_type": "stream",
          "name": "stdout",
          "text": [
            "1\n",
            "2\n",
            "3\n",
            "4\n",
            "5\n",
            "6\n",
            "7\n",
            "8\n",
            "9\n",
            "10\n"
          ]
        }
      ],
      "source": [
        "for num in list1:\n",
        "    print(num)"
      ]
    },
    {
      "cell_type": "markdown",
      "metadata": {
        "id": "3K8HvGD3SPCp"
      },
      "source": [
        "Great! Hopefully this makes sense. Now let's add an <code>if</code> statement to check for even numbers. We'll first introduce a new concept here--the modulo.\n",
        "### Modulo\n",
        "The modulo allows us to get the remainder in a division and uses the % symbol. For example:"
      ]
    },
    {
      "cell_type": "code",
      "execution_count": null,
      "metadata": {
        "id": "dFolshV1SPCr",
        "colab": {
          "base_uri": "https://localhost:8080/"
        },
        "outputId": "836d7a5b-2141-4531-e307-dc4af0584a2d"
      },
      "outputs": [
        {
          "output_type": "execute_result",
          "data": {
            "text/plain": [
              "3"
            ]
          },
          "metadata": {},
          "execution_count": 137
        }
      ],
      "source": [
        "3 % 5"
      ]
    },
    {
      "cell_type": "markdown",
      "metadata": {
        "id": "-XiforGSSPCs"
      },
      "source": [
        "This makes sense since 17 divided by 5 is 3 remainder 2. Let's see a few more quick examples:"
      ]
    },
    {
      "cell_type": "code",
      "execution_count": null,
      "metadata": {
        "id": "xe3iUl5DSPCt",
        "colab": {
          "base_uri": "https://localhost:8080/"
        },
        "outputId": "9462e6b8-e696-4876-dbc0-386fb0529fa8"
      },
      "outputs": [
        {
          "output_type": "execute_result",
          "data": {
            "text/plain": [
              "1"
            ]
          },
          "metadata": {},
          "execution_count": 138
        }
      ],
      "source": [
        "# 3 Remainder 1\n",
        "10 % 3"
      ]
    },
    {
      "cell_type": "code",
      "execution_count": null,
      "metadata": {
        "id": "uaJiyOrASPCv"
      },
      "outputs": [],
      "source": [
        "# 2 Remainder 4\n",
        "18 % 7"
      ]
    },
    {
      "cell_type": "code",
      "execution_count": null,
      "metadata": {
        "id": "BqtX5NCNSPCw"
      },
      "outputs": [],
      "source": [
        "# 2 no remainder\n",
        "4 % 2"
      ]
    },
    {
      "cell_type": "markdown",
      "metadata": {
        "id": "LANhuoYgSPCx"
      },
      "source": [
        "Notice that if a number is fully divisible with no remainder, the result of the modulo call is 0. We can use this to test for even numbers, since if a number modulo 2 is equal to 0, that means it is an even number!\n",
        "\n",
        "Back to the <code>for</code> loops!\n",
        "\n",
        "## Example 2\n",
        "Let's print only the even numbers from that list!"
      ]
    },
    {
      "cell_type": "code",
      "execution_count": null,
      "metadata": {
        "id": "3Np1re7pSPCy",
        "colab": {
          "base_uri": "https://localhost:8080/"
        },
        "outputId": "705db9d7-2f75-48d9-e8de-6a0b3271b2a0"
      },
      "outputs": [
        {
          "output_type": "stream",
          "name": "stdout",
          "text": [
            "2\n",
            "4\n",
            "6\n",
            "8\n",
            "10\n"
          ]
        }
      ],
      "source": [
        "for num in list1:\n",
        "    if num % 2 == 0:\n",
        "        print(num)"
      ]
    },
    {
      "cell_type": "markdown",
      "metadata": {
        "id": "f8urRJb6SPCy"
      },
      "source": [
        "We could have also put an <code>else</code> statement in there:"
      ]
    },
    {
      "cell_type": "code",
      "execution_count": null,
      "metadata": {
        "id": "pr0x7qntSPCz",
        "colab": {
          "base_uri": "https://localhost:8080/"
        },
        "outputId": "db44ae1a-dba9-452d-e093-0bc9f1c61136"
      },
      "outputs": [
        {
          "output_type": "stream",
          "name": "stdout",
          "text": [
            "Odd number\n",
            "2\n",
            "Odd number\n",
            "4\n",
            "Odd number\n",
            "6\n",
            "Odd number\n",
            "8\n",
            "Odd number\n",
            "10\n"
          ]
        }
      ],
      "source": [
        "for num in list1:\n",
        "    if num % 2 == 0:\n",
        "        print(num)\n",
        "    else:\n",
        "        print('Odd number')"
      ]
    },
    {
      "cell_type": "markdown",
      "metadata": {
        "id": "TgR2qHrUSPC0"
      },
      "source": [
        "## Example 3\n",
        "Another common idea during a <code>for</code> loop is keeping some sort of running tally during multiple loops. For example, let's create a <code>for</code> loop that sums up the list:"
      ]
    },
    {
      "cell_type": "code",
      "execution_count": null,
      "metadata": {
        "id": "ZTd0_RkuSPC0",
        "colab": {
          "base_uri": "https://localhost:8080/"
        },
        "outputId": "f1fd869a-3812-45c6-ad98-9573ac1e7b1f"
      },
      "outputs": [
        {
          "output_type": "stream",
          "name": "stdout",
          "text": [
            "55\n"
          ]
        }
      ],
      "source": [
        "# Start sum at zero\n",
        "list_sum = 0\n",
        "\n",
        "for num in list1:\n",
        "    list_sum = list_sum + num\n",
        "\n",
        "print(list_sum)"
      ]
    },
    {
      "cell_type": "markdown",
      "metadata": {
        "id": "TRX-jqzKSPC1"
      },
      "source": [
        "Great! Read over the above cell and make sure you understand fully what is going on. Also we could have implemented a <code>+=</code> to perform the addition towards the sum. For example:"
      ]
    },
    {
      "cell_type": "code",
      "execution_count": null,
      "metadata": {
        "id": "e5wYPgTkSPC2"
      },
      "outputs": [],
      "source": [
        "# Start sum at zero\n",
        "list_sum = 0\n",
        "\n",
        "for num in list1:\n",
        "    list_sum += num\n",
        "\n",
        "print(list_sum)"
      ]
    },
    {
      "cell_type": "markdown",
      "metadata": {
        "id": "6kYYvypLSPC3"
      },
      "source": [
        "## Example 4\n",
        "We've used <code>for</code> loops with lists, how about with strings? Remember strings are a sequence so when we iterate through them we will be accessing each item in that string."
      ]
    },
    {
      "cell_type": "code",
      "execution_count": null,
      "metadata": {
        "id": "utRPMWwNSPC3"
      },
      "outputs": [],
      "source": [
        "for letter in 'This is a string.':\n",
        "    print(letter)"
      ]
    },
    {
      "cell_type": "markdown",
      "metadata": {
        "id": "WDKesc7pSPC5"
      },
      "source": [
        "## Example 5\n",
        "Let's now look at how a <code>for</code> loop can be used with a tuple:"
      ]
    },
    {
      "cell_type": "code",
      "execution_count": null,
      "metadata": {
        "id": "4qP0jVwbSPC5"
      },
      "outputs": [],
      "source": [
        "tup = (1,2,3,4,5)\n",
        "\n",
        "for t in tup:\n",
        "    print(t)"
      ]
    },
    {
      "cell_type": "markdown",
      "metadata": {
        "id": "PjNWtt1bSPC6"
      },
      "source": [
        "## Example 6\n",
        "Tuples have a special quality when it comes to <code>for</code> loops. If you are iterating through a sequence that contains tuples, the item can actually be the tuple itself, this is an example of *tuple unpacking*. During the <code>for</code> loop we will be unpacking the tuple inside of a sequence and we can access the individual items inside that tuple!"
      ]
    },
    {
      "cell_type": "code",
      "execution_count": null,
      "metadata": {
        "collapsed": true,
        "id": "0mWNTnxcSPC7"
      },
      "outputs": [],
      "source": [
        "list2 = [(2,4),(6,8),(10,12)]"
      ]
    },
    {
      "cell_type": "code",
      "execution_count": null,
      "metadata": {
        "id": "OnN5aN7USPC8"
      },
      "outputs": [],
      "source": [
        "for tup in list2:\n",
        "    print(tup)"
      ]
    },
    {
      "cell_type": "code",
      "execution_count": null,
      "metadata": {
        "id": "mwweRKk_SPC9",
        "colab": {
          "base_uri": "https://localhost:8080/"
        },
        "outputId": "2410227d-d9d1-49e2-8427-5b60a36cec1b"
      },
      "outputs": [
        {
          "output_type": "stream",
          "name": "stdout",
          "text": [
            "2\n",
            "6\n",
            "10\n"
          ]
        }
      ],
      "source": [
        "# Now with unpacking!\n",
        "for t1,t2 in list2:\n",
        "    print(t1)"
      ]
    },
    {
      "cell_type": "markdown",
      "metadata": {
        "id": "ADeWGIyySPC-"
      },
      "source": [
        "Cool! With tuples in a sequence we can access the items inside of them through unpacking! The reason this is important is because many objects will deliver their iterables through tuples. Let's start exploring iterating through Dictionaries to explore this further!"
      ]
    },
    {
      "cell_type": "markdown",
      "metadata": {
        "id": "BID5Ipn3SPC-"
      },
      "source": [
        "## Example 7"
      ]
    },
    {
      "cell_type": "code",
      "execution_count": null,
      "metadata": {
        "collapsed": true,
        "id": "QrNuhshYSPC-"
      },
      "outputs": [],
      "source": [
        "d = {'k1':1,'k2':2,'k3':3}"
      ]
    },
    {
      "cell_type": "code",
      "execution_count": null,
      "metadata": {
        "id": "A1fRH4KsSPC_",
        "colab": {
          "base_uri": "https://localhost:8080/"
        },
        "outputId": "0893a530-a58f-47cb-e922-44d764eb9559"
      },
      "outputs": [
        {
          "output_type": "stream",
          "name": "stdout",
          "text": [
            "k1\n",
            "k2\n",
            "k3\n"
          ]
        }
      ],
      "source": [
        "for item in d:\n",
        "    print(item)"
      ]
    },
    {
      "cell_type": "markdown",
      "metadata": {
        "id": "9R4FUI2BSPC_"
      },
      "source": [
        "Notice how this produces only the keys. So how can we get the values? Or both the keys and the values?\n",
        "\n",
        "We're going to introduce three new Dictionary methods: **.keys()**, **.values()** and **.items()**\n",
        "\n",
        "In Python each of these methods return a *dictionary view object*. It supports operations like membership test and iteration, but its contents are not independent of the original dictionary – it is only a view. Let's see it in action:"
      ]
    },
    {
      "cell_type": "code",
      "execution_count": null,
      "metadata": {
        "id": "F5Drvk70SPDA"
      },
      "outputs": [],
      "source": [
        "# Create a dictionary view object\n",
        "d.items()"
      ]
    },
    {
      "cell_type": "markdown",
      "metadata": {
        "id": "pRFhuqGuSPDB"
      },
      "source": [
        "Since the .items() method supports iteration, we can perform *dictionary unpacking* to separate keys and values just as we did in the previous examples."
      ]
    },
    {
      "cell_type": "code",
      "execution_count": null,
      "metadata": {
        "id": "ABs-hQcBSPDB",
        "colab": {
          "base_uri": "https://localhost:8080/"
        },
        "outputId": "d13c8a32-24c9-4635-df8f-e420e95ecaf9"
      },
      "outputs": [
        {
          "output_type": "stream",
          "name": "stdout",
          "text": [
            "k1\n",
            "1\n",
            "k2\n",
            "2\n",
            "k3\n",
            "3\n"
          ]
        }
      ],
      "source": [
        "# Dictionary unpacking\n",
        "for k,v in d.items():\n",
        "    print(k)\n",
        "    print(v)"
      ]
    },
    {
      "cell_type": "markdown",
      "metadata": {
        "id": "-F8N6hTtSPDC"
      },
      "source": [
        "If you want to obtain a true list of keys, values, or key/value tuples, you can *cast* the view as a list:"
      ]
    },
    {
      "cell_type": "code",
      "execution_count": null,
      "metadata": {
        "id": "twMQRHpZSPDC"
      },
      "outputs": [],
      "source": [
        "list(d.keys())"
      ]
    },
    {
      "cell_type": "markdown",
      "metadata": {
        "id": "pWCPxRilSPDC"
      },
      "source": [
        "Remember that dictionaries are unordered, and that keys and values come back in arbitrary order. You can obtain a sorted list using sorted():"
      ]
    },
    {
      "cell_type": "code",
      "execution_count": null,
      "metadata": {
        "id": "_r07q99rSPDC"
      },
      "outputs": [],
      "source": [
        "sorted(d.values())"
      ]
    },
    {
      "cell_type": "markdown",
      "metadata": {
        "collapsed": true,
        "id": "ptBbIXXvSa6T"
      },
      "source": [
        "## while Loops\n",
        "\n",
        "The <code>while</code> statement in Python is one of most general ways to perform iteration. A <code>while</code> statement will repeatedly execute a single statement or group of statements as long as the condition is true. The reason it is called a 'loop' is because the code statements are looped through over and over again until the condition is no longer met.\n",
        "\n",
        "The general format of a while loop is:\n",
        "\n",
        "    while test:\n",
        "        code statements\n",
        "    else:\n",
        "        final code statements\n",
        "\n",
        "Let’s look at a few simple <code>while</code> loops in action."
      ]
    },
    {
      "cell_type": "code",
      "execution_count": null,
      "metadata": {
        "id": "t4gP74ErSa6V"
      },
      "outputs": [],
      "source": [
        "x = 0\n",
        "\n",
        "while s < 10:\n",
        "    print('x is currently: ',x)\n",
        "    print(' x is still less than 10, adding 1 to x')\n",
        "    x+=1\n",
        "\n"
      ]
    },
    {
      "cell_type": "markdown",
      "metadata": {
        "id": "EihoAWXtSa6X"
      },
      "source": [
        "Notice how many times the print statements occurred and how the <code>while</code> loop kept going until the True condition was met, which occurred once x==10. It's important to note that once this occurred the code stopped. Let's see how we could add an <code>else</code> statement:"
      ]
    },
    {
      "cell_type": "code",
      "execution_count": null,
      "metadata": {
        "id": "8oQqSsZxSa6Z",
        "colab": {
          "base_uri": "https://localhost:8080/"
        },
        "outputId": "6c586fb0-423a-4ed9-a01f-b686d7aae35b"
      },
      "outputs": [
        {
          "output_type": "stream",
          "name": "stdout",
          "text": [
            "ok\n",
            "x is currently:  1\n",
            " x is still less than 10, adding 1 to x\n",
            "ok\n",
            "x is currently:  2\n",
            " x is still less than 10, adding 1 to x\n",
            "ok\n",
            "x is currently:  3\n",
            " x is still less than 10, adding 1 to x\n",
            "ok\n",
            "x is currently:  4\n",
            " x is still less than 10, adding 1 to x\n",
            "ok\n",
            "x is currently:  5\n",
            " x is still less than 10, adding 1 to x\n",
            "ok\n",
            "ok\n",
            "ok\n",
            "ok\n",
            "ok\n",
            "All Done!\n"
          ]
        }
      ],
      "source": [
        "x = 0\n",
        "\n",
        "while x < 10:\n",
        "    x+=1\n",
        "    print(\"ok\")\n",
        "    if x > 5:\n",
        "      continue\n",
        "    print('x is currently: ',x)\n",
        "    print(' x is still less than 10, adding 1 to x')\n",
        "\n",
        "\n",
        "else:\n",
        "    print('All Done!')"
      ]
    },
    {
      "cell_type": "markdown",
      "metadata": {
        "id": "-mxYhpiQSa6a"
      },
      "source": [
        "## break, continue, pass\n",
        "\n",
        "We can use <code>break</code>, <code>continue</code>, and <code>pass</code> statements in our loops to add additional functionality for various cases. The three statements are defined by:\n",
        "\n",
        "    break: Breaks out of the current closest enclosing loop.\n",
        "    continue: Goes to the top of the closest enclosing loop.\n",
        "    pass: Does nothing at all.\n",
        "    \n",
        "    \n",
        "Thinking about <code>break</code> and <code>continue</code> statements, the general format of the <code>while</code> loop looks like this:\n",
        "\n",
        "    while test:\n",
        "        code statement\n",
        "        if test:\n",
        "            break\n",
        "        if test:\n",
        "            continue\n",
        "    else:\n",
        "\n",
        "<code>break</code> and <code>continue</code> statements can appear anywhere inside the loop’s body, but we will usually put them further nested in conjunction with an <code>if</code> statement to perform an action based on some condition.\n",
        "\n",
        "Let's go ahead and look at some examples!"
      ]
    },
    {
      "cell_type": "code",
      "execution_count": null,
      "metadata": {
        "id": "NIMp7rQSSa6b",
        "outputId": "f6fa4a21-99bd-4cc1-b7b1-5741ea4921fa"
      },
      "outputs": [
        {
          "name": "stdout",
          "output_type": "stream",
          "text": [
            "x is currently:  0\n",
            " x is still less than 10, adding 1 to x\n",
            "continuing...\n",
            "x is currently:  1\n",
            " x is still less than 10, adding 1 to x\n",
            "continuing...\n",
            "x is currently:  2\n",
            " x is still less than 10, adding 1 to x\n",
            "x==3\n",
            "x is currently:  3\n",
            " x is still less than 10, adding 1 to x\n",
            "continuing...\n",
            "x is currently:  4\n",
            " x is still less than 10, adding 1 to x\n",
            "continuing...\n",
            "x is currently:  5\n",
            " x is still less than 10, adding 1 to x\n",
            "continuing...\n",
            "x is currently:  6\n",
            " x is still less than 10, adding 1 to x\n",
            "continuing...\n",
            "x is currently:  7\n",
            " x is still less than 10, adding 1 to x\n",
            "continuing...\n",
            "x is currently:  8\n",
            " x is still less than 10, adding 1 to x\n",
            "continuing...\n",
            "x is currently:  9\n",
            " x is still less than 10, adding 1 to x\n",
            "continuing...\n"
          ]
        }
      ],
      "source": [
        "x = 0\n",
        "\n",
        "while x < 10:\n",
        "    print('x is currently: ',x)\n",
        "    print(' x is still less than 10, adding 1 to x')\n",
        "    x+=1\n",
        "    if x==3:\n",
        "        print('x==3')\n",
        "    else:\n",
        "        print('continuing...')\n",
        "        continue"
      ]
    },
    {
      "cell_type": "markdown",
      "metadata": {
        "id": "fpR1tPeFSa6d"
      },
      "source": [
        "Note how we have a printed statement when x==3, and a continue being printed out as we continue through the outer while loop. Let's put in a break once x ==3 and see if the result makes sense:"
      ]
    },
    {
      "cell_type": "code",
      "execution_count": null,
      "metadata": {
        "id": "VO_9mTezSa6d"
      },
      "outputs": [],
      "source": [
        "x = 0\n",
        "\n",
        "while x < 10:\n",
        "    print('x is currently: ',x)\n",
        "    print(' x is still less than 10, adding 1 to x')\n",
        "    x+=1\n",
        "    if x==3:\n",
        "        print('Breaking because x==3')\n",
        "        break\n",
        "    else:\n",
        "        print('continuing...')\n",
        "        continue"
      ]
    },
    {
      "cell_type": "markdown",
      "metadata": {
        "id": "89Hhpy9PSa6f"
      },
      "source": [
        "Note how the other <code>else</code> statement wasn't reached and continuing was never printed!\n",
        "\n",
        "After these brief but simple examples, you should feel comfortable using <code>while</code> statements in your code.\n",
        "\n",
        "**A word of caution however! It is possible to create an infinitely running loop with <code>while</code> statements. For example:**"
      ]
    },
    {
      "cell_type": "code",
      "execution_count": null,
      "metadata": {
        "collapsed": true,
        "id": "k8yLUZWVSa6g"
      },
      "outputs": [],
      "source": [
        "# DO NOT RUN THIS CODE!!!!\n",
        "while True:\n",
        "    print(\"I'm stuck in an infinite loop!\")"
      ]
    },
    {
      "cell_type": "markdown",
      "metadata": {
        "collapsed": true,
        "id": "CzehVHKGSa6h"
      },
      "source": [
        "A quick note: If you *did* run the above cell, click on the Runtime menu above to restart the runtime!"
      ]
    }
  ]
}